{
 "cells": [
  {
   "cell_type": "code",
   "execution_count": 4,
   "id": "0edc0558",
   "metadata": {},
   "outputs": [],
   "source": [
    "#sklearn.datasets의 load_diabetes에서 데이터를 가져오기\n",
    "from sklearn.datasets import load_diabetes\n",
    "diabetes = load_diabetes() #diabetes 데이터를 diabetes라는 변수에 저장"
   ]
  },
  {
   "cell_type": "code",
   "execution_count": 5,
   "id": "2d8b5509",
   "metadata": {},
   "outputs": [],
   "source": [
    "import pandas as pd\n",
    "\n",
    "dfX = pd.DataFrame(diabetes.data, columns=diabetes.feature_names)\n",
    "dfy = pd.DataFrame(diabetes.target, columns=['target'])"
   ]
  },
  {
   "cell_type": "code",
   "execution_count": null,
   "id": "90d43448",
   "metadata": {},
   "outputs": [],
   "source": []
  }
 ],
 "metadata": {
  "kernelspec": {
   "display_name": "Python 3 (ipykernel)",
   "language": "python",
   "name": "python3"
  },
  "language_info": {
   "codemirror_mode": {
    "name": "ipython",
    "version": 3
   },
   "file_extension": ".py",
   "mimetype": "text/x-python",
   "name": "python",
   "nbconvert_exporter": "python",
   "pygments_lexer": "ipython3",
   "version": "3.9.7"
  }
 },
 "nbformat": 4,
 "nbformat_minor": 5
}

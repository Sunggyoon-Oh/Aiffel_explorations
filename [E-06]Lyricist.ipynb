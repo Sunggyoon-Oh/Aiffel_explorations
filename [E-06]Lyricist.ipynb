{
 "cells": [
  {
   "cell_type": "code",
   "execution_count": null,
   "metadata": {
    "colab": {
     "base_uri": "https://localhost:8080/"
    },
    "id": "-333X-Fz51h7",
    "outputId": "dc128ebd-507f-4179-b5f7-0d13046b0453"
   },
   "outputs": [
    {
     "name": "stdout",
     "output_type": "stream",
     "text": [
      "Mounted at /content/drive\n"
     ]
    }
   ],
   "source": [
    "from google.colab import drive\n",
    "drive.mount('/content/drive')"
   ]
  },
  {
   "cell_type": "code",
   "execution_count": null,
   "metadata": {
    "id": "v5a7Xg254WAi"
   },
   "outputs": [],
   "source": [
    "import glob                # 파일을 읽어오는 작업에 용이\n",
    "import os\n",
    "import re                  # 정규표현식을 위한 Regex 지원 모듈 (문장 데이터를 정돈) \n",
    "import numpy as np         # 변환된 문장 데이터(행렬) 처리\n",
    "import tensorflow as tf    # 텐서플로우"
   ]
  },
  {
   "cell_type": "code",
   "execution_count": null,
   "metadata": {
    "colab": {
     "base_uri": "https://localhost:8080/"
    },
    "id": "QFmND9Ml5Gi_",
    "outputId": "aca9cdb3-0841-4590-f25b-8090767899d6"
   },
   "outputs": [
    {
     "name": "stdout",
     "output_type": "stream",
     "text": [
      "데이터 크기: 187052\n",
      "Examples:\n",
      " [\"Busted flat in Baton Rouge, waitin' for a train\", \"And I's feelin' near as faded as my jeans\", 'Bobby thumbed a diesel down, just before it rained']\n"
     ]
    }
   ],
   "source": [
    "txt_file_path = '/content/drive/MyDrive/Colab Notebooks/lyrics.txt'\n",
    "\n",
    "txt_list = glob.glob(txt_file_path)\n",
    "\n",
    "raw_corpus = []\n",
    "\n",
    "# 여러개의 txt 파일을 모두 읽어서 raw_corpus 에 담습니다.\n",
    "for txt_file in txt_list:\n",
    "    with open(txt_file, \"r\") as f:\n",
    "        raw = f.read().splitlines()\n",
    "        raw_corpus.extend(raw)\n",
    "\n",
    "print(\"데이터 크기:\", len(raw_corpus))\n",
    "print(\"Examples:\\n\", raw_corpus[:3])"
   ]
  },
  {
   "cell_type": "code",
   "execution_count": null,
   "metadata": {
    "colab": {
     "base_uri": "https://localhost:8080/"
    },
    "id": "y4EfV4Vz5VM1",
    "outputId": "9cc1bc3a-bbb2-4b4f-e147-0469fac2188d"
   },
   "outputs": [
    {
     "name": "stdout",
     "output_type": "stream",
     "text": [
      "<start> this is sample sentence . <end>\n"
     ]
    }
   ],
   "source": [
    "# 입력된 문장을\n",
    "#     1. 소문자로 바꾸고, 양쪽 공백을 지웁니다\n",
    "#     2. 특수문자 양쪽에 공백을 넣고\n",
    "#     3. 여러개의 공백은 하나의 공백으로 바꿉니다\n",
    "#     4. a-zA-Z?.!,¿가 아닌 모든 문자를 하나의 공백으로 바꿉니다\n",
    "#     5. 다시 양쪽 공백을 지웁니다\n",
    "#     6. 문장 시작에는 <start>, 끝에는 <end>를 추가합니다\n",
    "# 이 순서로 처리해주면 문제가 되는 상황을 방지할 수 있겠네요!\n",
    "def preprocess_sentence(sentence):\n",
    "    sentence = sentence.lower().strip() # 1\n",
    "    sentence = re.sub(r\"([?.!,¿])\", r\" \\1 \", sentence) # 2\n",
    "    sentence = re.sub(r'[\" \"]+', \" \", sentence) # 3\n",
    "    sentence = re.sub(r\"[^a-zA-Z?.!,¿]+\", \" \", sentence) # 4\n",
    "    sentence = sentence.strip() # 5\n",
    "    sentence = '<start> ' + sentence + ' <end>' # 6\n",
    "    return sentence\n",
    "\n",
    "# 이 문장이 어떻게 필터링되는지 확인해 보세요.\n",
    "print(preprocess_sentence(\"This @_is ;;;sample        sentence.\"))"
   ]
  },
  {
   "cell_type": "code",
   "execution_count": null,
   "metadata": {
    "colab": {
     "base_uri": "https://localhost:8080/"
    },
    "id": "tdAk2QVk_QRI",
    "outputId": "2b082233-ce71-4036-ed29-049d3691e16b"
   },
   "outputs": [
    {
     "data": {
      "text/plain": [
       "['<start> busted flat in baton rouge , waitin for a train <end>',\n",
       " '<start> and i s feelin near as faded as my jeans <end>',\n",
       " '<start> bobby thumbed a diesel down , just before it rained <end>',\n",
       " '<start> it rode us all the way to new orleans i pulled my harpoon out of my dirty red bandanna <end>',\n",
       " '<start> i was playin soft while bobby sang the blues , yeah <end>']"
      ]
     },
     "execution_count": 5,
     "metadata": {},
     "output_type": "execute_result"
    }
   ],
   "source": [
    "# 여기에 정제된 문장을 모을겁니다\n",
    "corpus = []\n",
    "for sentence in raw_corpus:\n",
    "    # 우리가 원하지 않는 문장은 건너뜁니다\n",
    "    if len(sentence) == 0: continue\n",
    "    if sentence[-1] == \":\": continue\n",
    "    if sentence[-1] == \"]\": continue # ']'로 끝나는 파트를 나눈 문장은 건너뜁니다\n",
    "    if sentence[-1] == \")\": continue # ')'로 끝나는 코러스 문장은 건너뜁니다    \n",
    "    \n",
    "    # 정제를 하고 담아주세요\n",
    "    preprocessed_sentence = preprocess_sentence(sentence)\n",
    "    corpus.append(preprocessed_sentence)\n",
    "        \n",
    "corpus[:5]"
   ]
  },
  {
   "cell_type": "code",
   "execution_count": null,
   "metadata": {
    "colab": {
     "base_uri": "https://localhost:8080/"
    },
    "id": "gtsEGTUY_Snt",
    "outputId": "232a1926-707b-48f7-cdc8-c2ed989562bc"
   },
   "outputs": [
    {
     "name": "stdout",
     "output_type": "stream",
     "text": [
      "[[   2 3730 1621 ...    0    0    0]\n",
      " [   2    8    5 ...    0    0    0]\n",
      " [   2  794    1 ...    0    0    0]\n",
      " ...\n",
      " [   5   22  691 ... 4424    4    3]\n",
      " [   5   22  691 ... 4424    4    3]\n",
      " [   5   22  691 ... 4424   21    3]] <keras_preprocessing.text.Tokenizer object at 0x7fe01e38b190>\n"
     ]
    }
   ],
   "source": [
    "# 토큰화 할 때 텐서플로우의 Tokenizer와 pad_sequences를 사용합니다\n",
    "def tokenize(corpus):\n",
    "    # 7000단어를 기억할 수 있는 tokenizer를 만들겁니다\n",
    "    # 우리는 이미 문장을 정제했으니 filters가 필요없어요\n",
    "    # 7000단어에 포함되지 못한 단어는 '<unk>'로 바꿀거에요\n",
    "    tokenizer = tf.keras.preprocessing.text.Tokenizer(\n",
    "        num_words=7000, \n",
    "        filters=' ',\n",
    "        oov_token=\"<unk>\"\n",
    "    )\n",
    "    # corpus를 이용해 tokenizer 내부의 단어장을 완성합니다\n",
    "    tokenizer.fit_on_texts(corpus)\n",
    "    # 준비한 tokenizer를 이용해 corpus를 Tensor로 변환합니다\n",
    "    tensor = tokenizer.texts_to_sequences(corpus)   \n",
    "    # 입력 데이터의 시퀀스 길이를 일정하게 맞춰줍니다\n",
    "    # 만약 시퀀스가 짧다면 문장 뒤에 패딩을 붙여 길이를 맞춰줍니다.\n",
    "    # 문장 앞에 패딩을 붙여 길이를 맞추고 싶다면 padding='pre'를 사용합니다\n",
    "    tensor = tf.keras.preprocessing.sequence.pad_sequences(tensor, padding='post', maxlen = 15)  \n",
    "    \n",
    "    print(tensor,tokenizer)\n",
    "    return tensor, tokenizer\n",
    "\n",
    "tensor, tokenizer = tokenize(corpus)"
   ]
  },
  {
   "cell_type": "code",
   "execution_count": null,
   "metadata": {
    "colab": {
     "base_uri": "https://localhost:8080/"
    },
    "id": "Ncf-4x31_Uvv",
    "outputId": "9e9036de-8fff-466d-a07a-256b6463f3c3"
   },
   "outputs": [
    {
     "name": "stdout",
     "output_type": "stream",
     "text": [
      "[   2 3730 1621   14 6883 4045    4 1110   28    9  712    3    0    0]\n",
      "[3730 1621   14 6883 4045    4 1110   28    9  712    3    0    0    0]\n"
     ]
    }
   ],
   "source": [
    "# tensor에서 마지막 토큰을 잘라내서 소스 문장을 생성합니다\n",
    "# 마지막 토큰은 <end>가 아니라 <pad>일 가능성이 높습니다.\n",
    "src_input = tensor[:, :-1]  \n",
    "# tensor에서 <start>를 잘라내서 타겟 문장을 생성합니다.\n",
    "tgt_input = tensor[:, 1:]    \n",
    "\n",
    "print(src_input[0])\n",
    "print(tgt_input[0])"
   ]
  },
  {
   "cell_type": "code",
   "execution_count": null,
   "metadata": {
    "id": "vFYRWZ6i_lrt"
   },
   "outputs": [],
   "source": [
    "from sklearn.model_selection import train_test_split\n",
    "enc_train, enc_val, dec_train, dec_val = train_test_split(src_input, tgt_input, test_size=0.20, random_state=40)"
   ]
  },
  {
   "cell_type": "code",
   "execution_count": null,
   "metadata": {
    "colab": {
     "base_uri": "https://localhost:8080/"
    },
    "id": "-YR-Luch_ps-",
    "outputId": "a9853c5f-a473-4bea-c3a1-c283d2242537"
   },
   "outputs": [
    {
     "data": {
      "text/plain": [
       "<BatchDataset element_spec=(TensorSpec(shape=(256, 14), dtype=tf.int32, name=None), TensorSpec(shape=(256, 14), dtype=tf.int32, name=None))>"
      ]
     },
     "execution_count": 36,
     "metadata": {},
     "output_type": "execute_result"
    }
   ],
   "source": [
    "BUFFER_SIZE = len(src_input)\n",
    "BATCH_SIZE = 256\n",
    "steps_per_epoch = len(src_input) // BATCH_SIZE\n",
    "\n",
    " # tokenizer가 구축한 단어사전 내 7000개와, 여기 포함되지 않은 0:<pad>를 포함하여 7001개\n",
    "VOCAB_SIZE = tokenizer.num_words + 1   \n",
    "\n",
    "# 준비한 데이터 소스로부터 데이터셋을 만듭니다\n",
    "# 데이터셋에 대해서는 아래 문서를 참고하세요\n",
    "# 자세히 알아둘수록 도움이 많이 되는 중요한 문서입니다\n",
    "# https://www.tensorflow.org/api_docs/python/tf/data/Dataset\n",
    "dataset = tf.data.Dataset.from_tensor_slices((src_input, tgt_input))\n",
    "dataset = dataset.shuffle(BUFFER_SIZE)\n",
    "dataset = dataset.batch(BATCH_SIZE, drop_remainder=True)\n",
    "dataset"
   ]
  },
  {
   "cell_type": "code",
   "execution_count": null,
   "metadata": {
    "id": "Tj-Q90DL_rXf"
   },
   "outputs": [],
   "source": [
    "class TextGenerator(tf.keras.Model):\n",
    "    def __init__(self, vocab_size, embedding_size, hidden_size):\n",
    "        super().__init__()\n",
    "        \n",
    "        self.embedding = tf.keras.layers.Embedding(vocab_size, embedding_size)\n",
    "        self.rnn_1 = tf.keras.layers.LSTM(hidden_size, return_sequences=True)\n",
    "        self.rnn_2 = tf.keras.layers.LSTM(hidden_size, return_sequences=True)\n",
    "        self.linear = tf.keras.layers.Dense(vocab_size)\n",
    "        \n",
    "    def call(self, x):\n",
    "        out = self.embedding(x)\n",
    "        out = self.rnn_1(out)\n",
    "        out = self.rnn_2(out)\n",
    "        out = self.linear(out)\n",
    "        \n",
    "        return out\n",
    "    \n",
    "embedding_size = 1024\n",
    "hidden_size = 4096\n",
    "model = TextGenerator(tokenizer.num_words + 1, embedding_size , hidden_size)"
   ]
  },
  {
   "cell_type": "code",
   "execution_count": null,
   "metadata": {
    "colab": {
     "base_uri": "https://localhost:8080/"
    },
    "id": "ltjGH_7etbu-",
    "outputId": "66d326d3-003e-4e97-e639-20312f9aed62"
   },
   "outputs": [
    {
     "data": {
      "text/plain": [
       "<tf.Tensor: shape=(256, 14, 7001), dtype=float32, numpy=\n",
       "array([[[ 1.3457803e-04,  2.3079510e-05,  2.8311345e-04, ...,\n",
       "         -2.9986564e-04, -1.0709953e-04,  4.4410172e-04],\n",
       "        [-3.7106659e-04, -3.3608772e-04,  9.2680915e-04, ...,\n",
       "         -8.8521738e-05,  1.7184802e-04,  1.0215031e-03],\n",
       "        [-1.1021886e-03, -5.9681042e-04,  8.5007842e-04, ...,\n",
       "         -7.8712306e-05, -1.6643060e-04,  1.4850395e-03],\n",
       "        ...,\n",
       "        [-2.6316252e-03,  5.6448444e-05, -9.8276313e-04, ...,\n",
       "         -1.2014246e-03, -4.1169897e-04,  7.0818816e-04],\n",
       "        [-2.0441762e-03,  3.6292864e-04, -1.1253910e-03, ...,\n",
       "         -6.2584644e-04, -2.6437751e-04,  1.3278209e-04],\n",
       "        [-1.4444221e-03,  6.1357615e-04, -1.2892330e-03, ...,\n",
       "         -4.8873328e-05, -1.1744445e-04, -4.6641342e-04]],\n",
       "\n",
       "       [[ 1.3457803e-04,  2.3079510e-05,  2.8311345e-04, ...,\n",
       "         -2.9986564e-04, -1.0709953e-04,  4.4410172e-04],\n",
       "        [ 2.9666157e-04,  4.6182511e-05,  3.3561213e-04, ...,\n",
       "         -3.6709076e-05, -2.6458813e-04,  7.7948580e-04],\n",
       "        [ 1.7383952e-04,  3.7075102e-04,  5.2704004e-04, ...,\n",
       "         -1.0545803e-04, -1.9068808e-05,  1.4109218e-03],\n",
       "        ...,\n",
       "        [ 1.3518197e-04,  3.1876762e-03, -5.5095472e-04, ...,\n",
       "          2.5015334e-03,  1.0980682e-03, -4.5009889e-04],\n",
       "        [ 3.7318154e-04,  2.9858798e-03, -8.7695871e-04, ...,\n",
       "          2.7330222e-03,  1.1209255e-03, -1.1466687e-03],\n",
       "        [ 6.0253334e-04,  2.7710367e-03, -1.1979840e-03, ...,\n",
       "          2.9028626e-03,  1.1438008e-03, -1.8106740e-03]],\n",
       "\n",
       "       [[ 1.3457803e-04,  2.3079510e-05,  2.8311345e-04, ...,\n",
       "         -2.9986564e-04, -1.0709953e-04,  4.4410172e-04],\n",
       "        [ 4.9697154e-04, -3.8669258e-04,  7.2868360e-04, ...,\n",
       "         -5.7063799e-04, -3.8180710e-04,  5.2913534e-04],\n",
       "        [-1.2468560e-04, -6.7877327e-04,  1.2709792e-03, ...,\n",
       "         -6.8843894e-04, -4.5039467e-04,  5.4031360e-04],\n",
       "        ...,\n",
       "        [-1.6571725e-03,  2.0493288e-03, -2.6521421e-04, ...,\n",
       "          3.7263791e-04,  1.6341700e-04, -8.6655974e-04],\n",
       "        [-1.1787525e-03,  2.1738103e-03, -5.1239412e-04, ...,\n",
       "          8.4570935e-04,  3.5950405e-04, -1.4143488e-03],\n",
       "        [-7.1293896e-04,  2.2265962e-03, -7.7882764e-04, ...,\n",
       "          1.2741353e-03,  5.3469290e-04, -1.9508502e-03]],\n",
       "\n",
       "       ...,\n",
       "\n",
       "       [[-1.0482244e-04,  8.7494700e-05,  6.3249480e-04, ...,\n",
       "          2.4263264e-04, -6.1872677e-04,  2.0083417e-05],\n",
       "        [-8.6390536e-04,  2.4726952e-04,  9.1896678e-04, ...,\n",
       "          9.7083037e-05, -9.1655907e-04, -7.2058436e-04],\n",
       "        [-1.3009625e-03,  3.3941070e-04,  1.6106062e-03, ...,\n",
       "          2.7761294e-04, -1.6956081e-03, -9.8163576e-04],\n",
       "        ...,\n",
       "        [-3.9018863e-03,  4.5578103e-04,  4.5626890e-03, ...,\n",
       "          3.2004679e-03, -3.2679981e-03, -9.8916132e-04],\n",
       "        [-4.1309949e-03,  4.6094458e-04,  4.8334752e-03, ...,\n",
       "          3.4005272e-03, -3.6186471e-03, -8.4435556e-04],\n",
       "        [-4.3772343e-03,  5.3629337e-04,  5.3629251e-03, ...,\n",
       "          3.5350870e-03, -4.2852596e-03, -5.5061409e-04]],\n",
       "\n",
       "       [[ 1.3457803e-04,  2.3079510e-05,  2.8311345e-04, ...,\n",
       "         -2.9986564e-04, -1.0709953e-04,  4.4410172e-04],\n",
       "        [ 4.8089336e-04,  7.8700134e-05,  4.0720643e-06, ...,\n",
       "          4.7232312e-04,  2.8016604e-04,  7.8916026e-04],\n",
       "        [ 6.9815002e-04,  1.2434561e-04,  8.5918102e-05, ...,\n",
       "          1.0737788e-03,  4.3090852e-04,  1.0371919e-03],\n",
       "        ...,\n",
       "        [ 2.1569521e-04,  2.6210574e-03, -1.0202025e-03, ...,\n",
       "          7.2306918e-04,  1.5818243e-03, -6.7151128e-04],\n",
       "        [ 3.6926629e-04,  2.5465146e-03, -1.2003133e-03, ...,\n",
       "          1.2113388e-03,  1.4464456e-03, -1.3040049e-03],\n",
       "        [ 5.4846809e-04,  2.4435823e-03, -1.4123742e-03, ...,\n",
       "          1.6268692e-03,  1.3411057e-03, -1.9128155e-03]],\n",
       "\n",
       "       [[ 1.3457803e-04,  2.3079510e-05,  2.8311345e-04, ...,\n",
       "         -2.9986564e-04, -1.0709953e-04,  4.4410172e-04],\n",
       "        [ 3.2598959e-04,  1.5884702e-04,  6.4764143e-04, ...,\n",
       "         -5.2633410e-04, -3.0392100e-04,  8.3101122e-04],\n",
       "        [ 4.1000298e-04,  1.8418950e-04,  6.7679654e-04, ...,\n",
       "         -4.4429483e-04, -4.1668504e-04,  7.3100952e-04],\n",
       "        ...,\n",
       "        [-5.2079406e-05,  2.9508534e-03, -1.2426268e-03, ...,\n",
       "         -1.5511021e-03,  1.7179313e-05,  2.8173828e-03],\n",
       "        [-4.4693917e-04,  3.2162259e-03, -1.1471562e-03, ...,\n",
       "         -1.7931811e-03, -1.7383767e-04,  2.7332953e-03],\n",
       "        [-6.6432648e-04,  3.2989671e-03, -1.1562711e-03, ...,\n",
       "         -1.6926246e-03, -3.0836996e-04,  2.3053454e-03]]], dtype=float32)>"
      ]
     },
     "execution_count": 48,
     "metadata": {},
     "output_type": "execute_result"
    }
   ],
   "source": [
    "# 데이터셋에서 데이터 한 배치만 불러오는 방법입니다.\n",
    "for src_sample, tgt_sample in dataset.take(1): break\n",
    "\n",
    "# 한 배치만 불러온 데이터를 모델에 넣어봅니다\n",
    "model(src_sample)"
   ]
  },
  {
   "cell_type": "code",
   "execution_count": null,
   "metadata": {
    "colab": {
     "base_uri": "https://localhost:8080/"
    },
    "id": "XZeZe2brtWw_",
    "outputId": "cce26a5c-2b39-49ed-dd03-78d52da6014e"
   },
   "outputs": [
    {
     "name": "stdout",
     "output_type": "stream",
     "text": [
      "Model: \"text_generator_9\"\n",
      "_________________________________________________________________\n",
      " Layer (type)                Output Shape              Param #   \n",
      "=================================================================\n",
      " embedding_9 (Embedding)     multiple                  7169024   \n",
      "                                                                 \n",
      " lstm_18 (LSTM)              multiple                  83902464  \n",
      "                                                                 \n",
      " lstm_19 (LSTM)              multiple                  134234112 \n",
      "                                                                 \n",
      " dense_9 (Dense)             multiple                  28683097  \n",
      "                                                                 \n",
      "=================================================================\n",
      "Total params: 253,988,697\n",
      "Trainable params: 253,988,697\n",
      "Non-trainable params: 0\n",
      "_________________________________________________________________\n"
     ]
    }
   ],
   "source": [
    "model.summary()"
   ]
  },
  {
   "cell_type": "code",
   "execution_count": null,
   "metadata": {
    "colab": {
     "base_uri": "https://localhost:8080/"
    },
    "id": "WTlFWQYd_vjW",
    "outputId": "949ba3e6-3cbb-4095-88e9-5d09f56f4568"
   },
   "outputs": [
    {
     "name": "stdout",
     "output_type": "stream",
     "text": [
      "Epoch 1/7\n",
      "650/650 [==============================] - 455s 696ms/step - loss: 3.3623\n",
      "Epoch 2/7\n",
      "650/650 [==============================] - 453s 696ms/step - loss: 2.7685\n",
      "Epoch 3/7\n",
      "650/650 [==============================] - 452s 696ms/step - loss: 2.4580\n",
      "Epoch 4/7\n",
      "650/650 [==============================] - 453s 696ms/step - loss: 2.1454\n",
      "Epoch 5/7\n",
      "650/650 [==============================] - 452s 696ms/step - loss: 1.8266\n",
      "Epoch 6/7\n",
      "650/650 [==============================] - 453s 696ms/step - loss: 1.5250\n",
      "Epoch 7/7\n",
      "650/650 [==============================] - 453s 696ms/step - loss: 1.2743\n"
     ]
    }
   ],
   "source": [
    "optimizer = tf.keras.optimizers.Adam()\n",
    "loss = tf.keras.losses.SparseCategoricalCrossentropy(\n",
    "    from_logits=True,\n",
    "    reduction='none'\n",
    ")\n",
    "\n",
    "model.compile(loss=loss, optimizer=optimizer)\n",
    "model.fit(dataset, epochs=7)\n",
    "\n",
    "lyricist = TextGenerator(tokenizer.num_words + 1, embedding_size, hidden_size)\n"
   ]
  },
  {
   "cell_type": "code",
   "execution_count": null,
   "metadata": {
    "id": "-rlXIlgw_xov"
   },
   "outputs": [],
   "source": [
    "def generate_text(model, tokenizer, init_sentence=\"<start>\", max_len=15):\n",
    "    # 테스트를 위해서 입력받은 init_sentence도 일단 텐서로 변환합니다.\n",
    "    test_input = tokenizer.texts_to_sequences([init_sentence])\n",
    "    test_tensor = tf.convert_to_tensor(test_input, dtype=tf.int64)\n",
    "    end_token = tokenizer.word_index[\"<end>\"]\n",
    "\n",
    "    # 텍스트를 실제로 생성할때는 루프를 돌면서 단어 하나씩 생성해야 합니다. \n",
    "    while True:\n",
    "        predict = model(test_tensor)  # 입력받은 문장의 텐서를 입력합니다. \n",
    "        predict_word = tf.argmax(tf.nn.softmax(predict, axis=-1), axis=-1)[:, -1]   \n",
    "        # 우리 모델이 예측한 마지막 단어가 바로 새롭게 생성한 단어가 됩니다. \n",
    "\n",
    "        # 우리 모델이 새롭게 예측한 단어를 입력 문장의 뒤에 붙여 줍니다. \n",
    "        test_tensor = tf.concat([test_tensor, tf.expand_dims(predict_word, axis=0)], axis=-1)\n",
    "\n",
    "        # 우리 모델이 <end>를 예측했거나, max_len에 도달하지 않았다면  while 루프를 또 돌면서 다음 단어를 예측해야 합니다.\n",
    "        if predict_word.numpy()[0] == end_token: break\n",
    "        if test_tensor.shape[1] >= max_len: break\n",
    "\n",
    "    generated = \"\"\n",
    "    # 생성된 tensor 안에 있는 word index를 tokenizer.index_word 사전을 통해 실제 단어로 하나씩 변환합니다. \n",
    "    for word_index in test_tensor[0].numpy():\n",
    "        generated += tokenizer.index_word[word_index] + \" \"\n",
    "\n",
    "    return generated   # 이것이 최종적으로 모델이 생성한 자연어 문장입니다."
   ]
  },
  {
   "cell_type": "code",
   "execution_count": null,
   "metadata": {
    "colab": {
     "base_uri": "https://localhost:8080/",
     "height": 35
    },
    "id": "b4hNXoejClsf",
    "outputId": "bfd05034-befa-4acc-ff70-bad75d572952"
   },
   "outputs": [
    {
     "data": {
      "application/vnd.google.colaboratory.intrinsic+json": {
       "type": "string"
      },
      "text/plain": [
       "'<start> i love frauds peeps peeps thirteen dimension dimension dimension such feast feast hid hid '"
      ]
     },
     "execution_count": 61,
     "metadata": {},
     "output_type": "execute_result"
    }
   ],
   "source": [
    "generate_text(lyricist, tokenizer, init_sentence=\"<start> i love\", max_len=15)"
   ]
  }
 ],
 "metadata": {
  "accelerator": "GPU",
  "colab": {
   "authorship_tag": "ABX9TyPfGKZzwGxo1jBGsvoPqU1H",
   "collapsed_sections": [],
   "name": "[E-06]Lyricist.ipynb",
   "provenance": []
  },
  "kernelspec": {
   "display_name": "Python 3 (ipykernel)",
   "language": "python",
   "name": "python3"
  },
  "language_info": {
   "codemirror_mode": {
    "name": "ipython",
    "version": 3
   },
   "file_extension": ".py",
   "mimetype": "text/x-python",
   "name": "python",
   "nbconvert_exporter": "python",
   "pygments_lexer": "ipython3",
   "version": "3.9.7"
  }
 },
 "nbformat": 4,
 "nbformat_minor": 1
}

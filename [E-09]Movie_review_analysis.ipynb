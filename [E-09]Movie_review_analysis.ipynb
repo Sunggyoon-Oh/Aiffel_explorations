{
 "cells": [
  {
   "cell_type": "markdown",
   "id": "268c9833",
   "metadata": {},
   "source": [
    "# 목차\n",
    "\n",
    "0) 모듈 import 및 버전확인<br>1) 데이터 준비와 확인<br>\n",
    "2) 데이터로더 구성<br>\n",
    "3) 모델 구성을 위한 데이터 분석 및 가공<br>\n",
    "4) 모델 구성 및 validation set 구성<br>\n",
    "5) 모델 훈련 개시 및 <br>\n",
    "6) Loss, Accuracy 그래프 시각화<br>\n",
    "7) 학습된 Embedding 레이어 <br>\n",
    "8) 한국어 Word2Vec 임베딩 활용하여 성능 개선<br>\n",
    "9) 회고"
   ]
  },
  {
   "cell_type": "markdown",
   "id": "eb12647a",
   "metadata": {},
   "source": [
    "# 0) 모듈 import"
   ]
  },
  {
   "cell_type": "code",
   "execution_count": 2,
   "id": "c9c461d4",
   "metadata": {},
   "outputs": [],
   "source": [
    "import os\n",
    "import re\n",
    "import pandas as pd #행렬로 이루어진 객체를 만들어 대용량 데이터를 처리\n",
    "import numpy as np #array 단위로 벡터와 행렬을 계산\n",
    "from collections import Counter #collections의 counter는 합산하는 기능(계산) 데이터 처리 라이브러리\n",
    "import matplotlib.pyplot as plt #시각화\n",
    "%matplotlib inline\n",
    "import warnings\n",
    "warnings.filterwarnings(action='ignore')\n",
    "import urllib.request"
   ]
  },
  {
   "cell_type": "code",
   "execution_count": 3,
   "id": "0e13a81f",
   "metadata": {},
   "outputs": [],
   "source": [
    "import konlpy #한국어 처리를 위한 오픈소스 라이브러리. 미캡, okt, 꼬꼬마, 코모란, 한나눔 등이 있음\n",
    "from konlpy.tag import Okt #(구)트위터 형태소 분석기\n",
    "from konlpy.tag import Mecab #일본어 형태소 분석기를 '은전한닢' 프로젝트로 한국어로 포팅함."
   ]
  },
  {
   "cell_type": "code",
   "execution_count": 4,
   "id": "86b37c91",
   "metadata": {},
   "outputs": [],
   "source": [
    "import tensorflow as tf\n",
    "from tensorflow import keras #keras는 텐서플로 위에서 작동하는 라이브러리, 딥러닝 기본 연산 기능\n",
    "from tensorflow.keras.preprocessing.text import Tokenizer #토크나이저\n",
    "from tensorflow.keras.preprocessing.sequence import pad_sequences #pad sequnece는 특정 값을 채워서 데이터의 shape(크기)를 조정\n",
    "from tensorflow.keras.initializers import Constant #initializer는 케라스 레이어 파라미터 초깃값을 어떤방식으로 생성할 것인지 결정, constant는 파라미터를 특정 상수값으로 생성\n",
    "from tensorflow.keras.callbacks import EarlyStopping, ModelCheckpoint #ES 는 loss값이 더 이상 감소하지 않으면 학습을 중단 #modelcheckpoint는 모델을 학습시키는 동안 이포크마다 자동으로 저장\n",
    "from tensorflow.keras.models import load_model #Model은 멀티 인풋/아웃풋을 다룬다"
   ]
  },
  {
   "cell_type": "code",
   "execution_count": 5,
   "id": "4d3b09bb",
   "metadata": {},
   "outputs": [],
   "source": [
    "import gensim #자연어를 벡터로 변환하는 기능 제공 오픈소스 라이브러리\n",
    "from gensim.models import KeyedVectors #keyedvectors는 워드벡트롤 저장하고 query함. query는 db에 특정 데이터를 보여달라는 요청을 하는 것\n",
    "from gensim.models.keyedvectors import Word2VecKeyedVectors #key와 벡터를 매핑"
   ]
  },
  {
   "cell_type": "markdown",
   "id": "eb118120",
   "metadata": {},
   "source": [
    "## 버전확인"
   ]
  },
  {
   "cell_type": "code",
   "execution_count": 6,
   "id": "dd2b392d",
   "metadata": {},
   "outputs": [
    {
     "name": "stdout",
     "output_type": "stream",
     "text": [
      "1.3.3\n",
      "1.21.4\n",
      "2.6.0\n",
      "0.5.2\n",
      "3.8.1\n"
     ]
    }
   ],
   "source": [
    "print(pd.__version__)\n",
    "print(np.__version__)\n",
    "print(keras.__version__)\n",
    "print(konlpy.__version__)\n",
    "print(gensim.__version__)"
   ]
  },
  {
   "cell_type": "markdown",
   "id": "bf4e7fe9",
   "metadata": {},
   "source": [
    "# 1) 데이터 준비와 확인"
   ]
  },
  {
   "cell_type": "code",
   "execution_count": 7,
   "id": "81ce709b",
   "metadata": {},
   "outputs": [],
   "source": [
    "## tokenizer, 불용어 선언\n",
    "tokenizer = Mecab()\n",
    "stopwords = ['의','가','이','은','들','는','좀','잘','걍','과','도','를','으로','자','에','와','한','하다']"
   ]
  },
  {
   "cell_type": "code",
   "execution_count": 8,
   "id": "6aff2ad0",
   "metadata": {},
   "outputs": [],
   "source": [
    "def load_data(train_data, test_data, num_words=10000):\n",
    "    train_data.drop_duplicates(subset=['document'], inplace=True) #데이터의 중복 제거\n",
    "    train_data = train_data.dropna(how = 'any')                   #NaN 결측치 제거\n",
    "    test_data.drop_duplicates(subset=['document'], inplace=True)\n",
    "    test_data = test_data.dropna(how = 'any') \n",
    "    \n",
    "    X_train = []\n",
    "    for sentence in train_data['document']:\n",
    "        temp_X = tokenizer.morphs(sentence) #한국어 토크나이저로 토큰화\n",
    "        temp_X = [word for word in temp_X if not word in stopwords] #불용어(Stopwords) 제거\n",
    "        X_train.append(temp_X)\n",
    "\n",
    "    X_test = []\n",
    "    for sentence in test_data['document']:\n",
    "        temp_X = tokenizer.morphs(sentence)  #한국어 토크나이저로 토큰화\n",
    "        temp_X = [word for word in temp_X if not word in stopwords] #불용어(Stopwords) 제거\n",
    "        X_test.append(temp_X)\n",
    "    \n",
    "    #사전word_to_index 구성\n",
    "    words = np.concatenate(X_train).tolist() #단어 numpy 배열을 하나로 합침\n",
    "    counter = Counter(words) #단어의 수 합산\n",
    "    counter = counter.most_common(10000-4)\n",
    "    vocab = ['<PAD>', '<BOS>', '<UNK>', '<UNUSED>'] + [key for key, _ in counter]\n",
    "    word_to_index = {word:index for index, word in enumerate(vocab)} #몇 번째 반복문인지 확인\n",
    "    \n",
    "    #텍스트 스트링을 사전 인덱스 스트링으로 변환    \n",
    "    def wordlist_to_indexlist(wordlist):\n",
    "        return [word_to_index[word] if word in word_to_index else word_to_index['<UNK>'] for word in wordlist]\n",
    "        \n",
    "    X_train = list(map(wordlist_to_indexlist, X_train))\n",
    "    X_test = list(map(wordlist_to_indexlist, X_test))\n",
    "        \n",
    "    return X_train, np.array(list(train_data['label'])), X_test, np.array(list(test_data['label'])), word_to_index"
   ]
  },
  {
   "cell_type": "code",
   "execution_count": 9,
   "id": "0b67c040",
   "metadata": {},
   "outputs": [],
   "source": [
    "# 문장 1개를 활용할 딕셔너리와 함께 주면, 단어 인덱스 리스트 벡터로 변환해 주는 함수입니다. \n",
    "# 단, 모든 문장은 <BOS>로 시작하는 것으로 합니다. \n",
    "def get_encoded_sentence(sentence, word_to_index):\n",
    "    return [word_to_index['<BOS>']]+[word_to_index[word] if word in word_to_index else word_to_index['<UNK>'] for word in sentence.split()]\n",
    "\n",
    "# 여러 개의 문장 리스트를 한꺼번에 단어 인덱스 리스트 벡터로 encode해 주는 함수입니다. \n",
    "def get_encoded_sentences(sentences, word_to_index):\n",
    "    return [get_encoded_sentence(sentence, word_to_index) for sentence in sentences]\n",
    "\n",
    "# 숫자 벡터로 encode된 문장을 원래대로 decode하는 함수입니다. \n",
    "def get_decoded_sentence(encoded_sentence, index_to_word):\n",
    "    return ' '.join(index_to_word[index] if index in index_to_word else '<UNK>' for index in encoded_sentence[1:])  #[1:]를 통해 <BOS>를 제외\n",
    "\n",
    "# 여러 개의 숫자 벡터로 encode된 문장을 한꺼번에 원래대로 decode하는 함수입니다. \n",
    "def get_decoded_sentences(encoded_sentences, index_to_word):\n",
    "    return [get_decoded_sentence(encoded_sentence, index_to_word) for encoded_sentence in encoded_sentences]"
   ]
  },
  {
   "cell_type": "code",
   "execution_count": 10,
   "id": "82f84096",
   "metadata": {},
   "outputs": [],
   "source": [
    "# visualization Loss & Accuracy by epochs\n",
    "def visualization(history):\n",
    "    history_dict = history.history\n",
    "\n",
    "    acc = history_dict['accuracy']\n",
    "    val_acc = history_dict['val_accuracy']\n",
    "    loss = history_dict['loss']\n",
    "    val_loss = history_dict['val_loss']\n",
    "\n",
    "    epochs = range(1, len(acc) + 1)\n",
    "    \n",
    "    # Loss\n",
    "    plt.plot(epochs, loss, 'bo', label='Training loss')\n",
    "    plt.plot(epochs, val_loss, 'b', label='Validation loss')\n",
    "    plt.title('Training and validation loss')\n",
    "    plt.xlabel('Epochs')\n",
    "    plt.ylabel('Loss')\n",
    "    plt.legend()\n",
    "    plt.show()\n",
    "    \n",
    "    # Accuracy\n",
    "    plt.clf()\n",
    "    plt.plot(epochs, acc, 'bo', label='Training acc')\n",
    "    plt.plot(epochs, val_acc, 'b', label='Validation acc')\n",
    "    plt.title('Training and validation accuracy')\n",
    "    plt.xlabel('Epochs')\n",
    "    plt.ylabel('Accuracy')\n",
    "    plt.legend()\n",
    "    plt.show()"
   ]
  },
  {
   "cell_type": "code",
   "execution_count": 11,
   "id": "e2ce0099",
   "metadata": {},
   "outputs": [],
   "source": [
    "# model을 훈련시키고 평가해보는 함수\n",
    "def fitting_machine(model,epoch):\n",
    "    # model compile\n",
    "    model = model\n",
    "    model.compile(optimizer='adam',\n",
    "              loss='binary_crossentropy',\n",
    "              metrics=['accuracy'])\n",
    "    \n",
    "    # model training and recording history\n",
    "    history = model.fit(partial_x_train,\n",
    "                        partial_y_train,\n",
    "                        epochs=epoch,\n",
    "                        batch_size=32,\n",
    "                        validation_data=(x_val, y_val),\n",
    "                        verbose=1)\n",
    "    # print result\n",
    "    results = model.evaluate(X_test,  y_test, verbose=2)\n",
    "    print(f'\\nThis is {model.name}\\nLoss: {results[0]}\\nAccurancy: {results[1]}\\n')\n",
    "    \n",
    "    return history"
   ]
  },
  {
   "cell_type": "markdown",
   "id": "c302e19b",
   "metadata": {},
   "source": [
    "# 2) 데이터로더 구성"
   ]
  },
  {
   "cell_type": "code",
   "execution_count": 12,
   "id": "6cb2264f",
   "metadata": {},
   "outputs": [
    {
     "data": {
      "text/html": [
       "<div>\n",
       "<style scoped>\n",
       "    .dataframe tbody tr th:only-of-type {\n",
       "        vertical-align: middle;\n",
       "    }\n",
       "\n",
       "    .dataframe tbody tr th {\n",
       "        vertical-align: top;\n",
       "    }\n",
       "\n",
       "    .dataframe thead th {\n",
       "        text-align: right;\n",
       "    }\n",
       "</style>\n",
       "<table border=\"1\" class=\"dataframe\">\n",
       "  <thead>\n",
       "    <tr style=\"text-align: right;\">\n",
       "      <th></th>\n",
       "      <th>id</th>\n",
       "      <th>document</th>\n",
       "      <th>label</th>\n",
       "    </tr>\n",
       "  </thead>\n",
       "  <tbody>\n",
       "    <tr>\n",
       "      <th>0</th>\n",
       "      <td>9976970</td>\n",
       "      <td>아 더빙.. 진짜 짜증나네요 목소리</td>\n",
       "      <td>0</td>\n",
       "    </tr>\n",
       "    <tr>\n",
       "      <th>1</th>\n",
       "      <td>3819312</td>\n",
       "      <td>흠...포스터보고 초딩영화줄....오버연기조차 가볍지 않구나</td>\n",
       "      <td>1</td>\n",
       "    </tr>\n",
       "    <tr>\n",
       "      <th>2</th>\n",
       "      <td>10265843</td>\n",
       "      <td>너무재밓었다그래서보는것을추천한다</td>\n",
       "      <td>0</td>\n",
       "    </tr>\n",
       "    <tr>\n",
       "      <th>3</th>\n",
       "      <td>9045019</td>\n",
       "      <td>교도소 이야기구먼 ..솔직히 재미는 없다..평점 조정</td>\n",
       "      <td>0</td>\n",
       "    </tr>\n",
       "    <tr>\n",
       "      <th>4</th>\n",
       "      <td>6483659</td>\n",
       "      <td>사이몬페그의 익살스런 연기가 돋보였던 영화!스파이더맨에서 늙어보이기만 했던 커스틴 ...</td>\n",
       "      <td>1</td>\n",
       "    </tr>\n",
       "  </tbody>\n",
       "</table>\n",
       "</div>"
      ],
      "text/plain": [
       "         id                                           document  label\n",
       "0   9976970                                아 더빙.. 진짜 짜증나네요 목소리      0\n",
       "1   3819312                  흠...포스터보고 초딩영화줄....오버연기조차 가볍지 않구나      1\n",
       "2  10265843                                  너무재밓었다그래서보는것을추천한다      0\n",
       "3   9045019                      교도소 이야기구먼 ..솔직히 재미는 없다..평점 조정      0\n",
       "4   6483659  사이몬페그의 익살스런 연기가 돋보였던 영화!스파이더맨에서 늙어보이기만 했던 커스틴 ...      1"
      ]
     },
     "execution_count": 12,
     "metadata": {},
     "output_type": "execute_result"
    }
   ],
   "source": [
    "# 데이터를 읽어봅시다. \n",
    "train_data = pd.read_table('~/aiffel/sentiment_classification/data/ratings_train.txt')\n",
    "test_data = pd.read_table('~/aiffel/sentiment_classification/data/ratings_test.txt')\n",
    "\n",
    "train_data.head()"
   ]
  },
  {
   "cell_type": "code",
   "execution_count": 13,
   "id": "43456c25",
   "metadata": {},
   "outputs": [],
   "source": [
    "# data load 하여 X_train, y_train, X_test, y_test, word_to_index 리턴\n",
    "X_train, y_train, X_test, y_test, word_to_index = load_data(train_data, test_data) "
   ]
  },
  {
   "cell_type": "code",
   "execution_count": 14,
   "id": "a5737239",
   "metadata": {},
   "outputs": [],
   "source": [
    "# index에서 word로 바꿔주는 dictionary\n",
    "index_to_word = {index:word for word, index in word_to_index.items()}"
   ]
  },
  {
   "cell_type": "code",
   "execution_count": 15,
   "id": "90f6edfb",
   "metadata": {},
   "outputs": [
    {
     "data": {
      "text/plain": [
       "10000"
      ]
     },
     "execution_count": 15,
     "metadata": {},
     "output_type": "execute_result"
    }
   ],
   "source": [
    "len(word_to_index)"
   ]
  },
  {
   "cell_type": "code",
   "execution_count": 16,
   "id": "86da162b",
   "metadata": {},
   "outputs": [
    {
     "name": "stdout",
     "output_type": "stream",
     "text": [
      "더 빙 . . 진짜 짜증 나 네요 목소리\n",
      "라벨:  0\n"
     ]
    }
   ],
   "source": [
    "# function, data 확인\n",
    "print(get_decoded_sentence(X_train[0], index_to_word))\n",
    "print('라벨: ', y_train[0])  # 1번째 리뷰데이터의 라벨"
   ]
  },
  {
   "cell_type": "markdown",
   "id": "5e846053",
   "metadata": {},
   "source": [
    "# 3) 모델 구성을 위한 데이터 분석 및 가공"
   ]
  },
  {
   "cell_type": "code",
   "execution_count": 17,
   "id": "a4caad24",
   "metadata": {},
   "outputs": [
    {
     "name": "stdout",
     "output_type": "stream",
     "text": [
      "문장길이 평균 :  15.96940191154864\n",
      "문장길이 최대 :  116\n",
      "문장길이 표준편차 :  12.843571191092\n",
      "pad_sequences maxlen :  41\n",
      "전체 문장의 0.9342988343341575%가 maxlen 설정값 이내에 포함됩니다. \n"
     ]
    }
   ],
   "source": [
    "total_data_text = list(X_train) + list(X_test)\n",
    "# 텍스트데이터 문장길이의 리스트를 생성한 후\n",
    "num_tokens = [len(tokens) for tokens in total_data_text]\n",
    "num_tokens = np.array(num_tokens)\n",
    "# 문장길이의 평균값, 최대값, 표준편차를 계산해 본다. \n",
    "print('문장길이 평균 : ', np.mean(num_tokens))\n",
    "print('문장길이 최대 : ', np.max(num_tokens))\n",
    "print('문장길이 표준편차 : ', np.std(num_tokens))\n",
    "\n",
    "# 예를들어, 최대 길이를 (평균 + 2*표준편차)로 한다면,  \n",
    "max_tokens = np.mean(num_tokens) + 2 * np.std(num_tokens)\n",
    "maxlen = int(max_tokens)\n",
    "print('pad_sequences maxlen : ', maxlen)\n",
    "print('전체 문장의 {}%가 maxlen 설정값 이내에 포함됩니다. '.format(np.sum(num_tokens < max_tokens) / len(num_tokens)))"
   ]
  },
  {
   "cell_type": "code",
   "execution_count": 18,
   "id": "51e4ba77",
   "metadata": {},
   "outputs": [],
   "source": [
    "# keras.preprocessing.sequence.pad_sequences 을 활용한 패딩 추가\n",
    "X_train = keras.preprocessing.sequence.pad_sequences(X_train,\n",
    "                                                        value=word_to_index[\"<PAD>\"],\n",
    "                                                        padding='pre',\n",
    "                                                        maxlen=maxlen)\n",
    "\n",
    "X_test = keras.preprocessing.sequence.pad_sequences(X_test,\n",
    "                                                       value=word_to_index[\"<PAD>\"],\n",
    "                                                       padding='pre',\n",
    "                                                       maxlen=maxlen)"
   ]
  },
  {
   "cell_type": "code",
   "execution_count": 19,
   "id": "82ec9a0e",
   "metadata": {},
   "outputs": [],
   "source": [
    "from sklearn.model_selection import train_test_split\n",
    "\n",
    "# Train, val data 분리\n",
    "partial_x_train, x_val, partial_y_train, y_val = train_test_split(X_train, y_train, test_size=0.25, random_state=1997)"
   ]
  },
  {
   "cell_type": "markdown",
   "id": "128745f8",
   "metadata": {},
   "source": [
    "# 4) 모델 구성 및 validation set 구성"
   ]
  },
  {
   "cell_type": "code",
   "execution_count": 20,
   "id": "bdbbad57",
   "metadata": {},
   "outputs": [],
   "source": [
    "class LSTMModel(keras.Model):\n",
    "    def __init__(self):\n",
    "        super().__init__()\n",
    "        vocab_size = 10000\n",
    "        word_vector_dim = 128\n",
    "        \n",
    "        self.embedding = keras.layers.Embedding(vocab_size, word_vector_dim, input_shape=(None,))\n",
    "        self.lstm = keras.layers.LSTM(128)\n",
    "        self.dense = keras.layers.Dense(1, activation='sigmoid')\n",
    "        \n",
    "    def call(self, x):\n",
    "        x = self.embedding(x)\n",
    "        x = self.lstm(x)\n",
    "        x = self.dense(x)\n",
    "        \n",
    "        return x"
   ]
  },
  {
   "cell_type": "code",
   "execution_count": 21,
   "id": "242a0fc7",
   "metadata": {},
   "outputs": [],
   "source": [
    "lstm_model = LSTMModel()"
   ]
  },
  {
   "cell_type": "markdown",
   "id": "e24df95a",
   "metadata": {},
   "source": [
    "# 5) 모델 훈련 개시 및 6) Loss, Accuracy 그래프 시각화"
   ]
  },
  {
   "cell_type": "code",
   "execution_count": 22,
   "id": "d76ac897",
   "metadata": {
    "scrolled": true
   },
   "outputs": [
    {
     "name": "stdout",
     "output_type": "stream",
     "text": [
      "Epoch 1/5\n",
      "3427/3427 [==============================] - 23s 6ms/step - loss: 0.3716 - accuracy: 0.8340 - val_loss: 0.3222 - val_accuracy: 0.8602\n",
      "Epoch 2/5\n",
      "3427/3427 [==============================] - 20s 6ms/step - loss: 0.2849 - accuracy: 0.8792 - val_loss: 0.3144 - val_accuracy: 0.8640\n",
      "Epoch 3/5\n",
      "3427/3427 [==============================] - 20s 6ms/step - loss: 0.2416 - accuracy: 0.9000 - val_loss: 0.3437 - val_accuracy: 0.8639\n",
      "Epoch 4/5\n",
      "3427/3427 [==============================] - 20s 6ms/step - loss: 0.2014 - accuracy: 0.9176 - val_loss: 0.3539 - val_accuracy: 0.8628\n",
      "Epoch 5/5\n",
      "3427/3427 [==============================] - 20s 6ms/step - loss: 0.1629 - accuracy: 0.9352 - val_loss: 0.4082 - val_accuracy: 0.8563\n",
      "1537/1537 - 3s - loss: 0.4109 - accuracy: 0.8547\n",
      "\n",
      "This is lstm_model\n",
      "Loss: 0.4109402894973755\n",
      "Accurancy: 0.8546900749206543\n",
      "\n"
     ]
    }
   ],
   "source": [
    "lstm_history = fitting_machine(lstm_model, 5)"
   ]
  },
  {
   "cell_type": "code",
   "execution_count": 23,
   "id": "063742c1",
   "metadata": {},
   "outputs": [
    {
     "data": {
      "image/png": "[encoded data removed]",
      "text/plain": [
       "<Figure size 432x288 with 1 Axes>"
      ]
     },
     "metadata": {
      "needs_background": "light"
     },
     "output_type": "display_data"
    },
    {
     "data": {
      "image/png": "[encoded data removed]",
      "text/plain": [
       "<Figure size 432x288 with 1 Axes>"
      ]
     },
     "metadata": {
      "needs_background": "light"
     },
     "output_type": "display_data"
    }
   ],
   "source": [
    "visualization(lstm_history)"
   ]
  },
  {
   "cell_type": "code",
   "execution_count": 24,
   "id": "64a714fb",
   "metadata": {},
   "outputs": [],
   "source": [
    "class Conv1DModel(keras.Model):\n",
    "    def __init__(self):\n",
    "        super().__init__()\n",
    "        vocab_size = 10000\n",
    "        word_vector_dim = 64\n",
    "        \n",
    "        self.embedding = keras.layers.Embedding(vocab_size, word_vector_dim, input_shape=(None,))\n",
    "        self.conv1 = keras.layers.Conv1D(64, 7, activation='relu')\n",
    "        self.maxp = keras.layers.MaxPooling1D(5)\n",
    "        self.conv2 = keras.layers.Conv1D(64, 7, activation='relu')\n",
    "        self.gmaxp = keras.layers.GlobalMaxPooling1D()\n",
    "        self.dense1 = keras.layers.Dense(128, activation='relu')\n",
    "        self.dense2 = keras.layers.Dense(1, activation='sigmoid')\n",
    "        \n",
    "    def call(self, x):\n",
    "        x = self.embedding(x)\n",
    "        x = self.conv1(x)\n",
    "        x = self.maxp(x)\n",
    "        x = self.conv2(x)\n",
    "        x = self.gmaxp(x)\n",
    "        x = self.dense1(x)\n",
    "        x = self.dense2(x)\n",
    "        \n",
    "        return x"
   ]
  },
  {
   "cell_type": "code",
   "execution_count": 25,
   "id": "f3074679",
   "metadata": {},
   "outputs": [],
   "source": [
    "conv1d_model = Conv1DModel()"
   ]
  },
  {
   "cell_type": "code",
   "execution_count": 26,
   "id": "150cdaff",
   "metadata": {},
   "outputs": [
    {
     "name": "stdout",
     "output_type": "stream",
     "text": [
      "Epoch 1/5\n",
      "3427/3427 [==============================] - 18s 5ms/step - loss: 0.3703 - accuracy: 0.8306 - val_loss: 0.3271 - val_accuracy: 0.8588\n",
      "Epoch 2/5\n",
      "3427/3427 [==============================] - 16s 5ms/step - loss: 0.2626 - accuracy: 0.8904 - val_loss: 0.3293 - val_accuracy: 0.8594\n",
      "Epoch 3/5\n",
      "3427/3427 [==============================] - 16s 5ms/step - loss: 0.1788 - accuracy: 0.9294 - val_loss: 0.3851 - val_accuracy: 0.8528\n",
      "Epoch 4/5\n",
      "3427/3427 [==============================] - 16s 5ms/step - loss: 0.1115 - accuracy: 0.9573 - val_loss: 0.4607 - val_accuracy: 0.8498\n",
      "Epoch 5/5\n",
      "3427/3427 [==============================] - 16s 5ms/step - loss: 0.0767 - accuracy: 0.9717 - val_loss: 0.5778 - val_accuracy: 0.8458\n",
      "1537/1537 - 3s - loss: 0.5908 - accuracy: 0.8423\n",
      "\n",
      "This is conv1d_model\n",
      "Loss: 0.5907921195030212\n",
      "Accurancy: 0.8423418998718262\n",
      "\n"
     ]
    }
   ],
   "source": [
    "conv1d_history = fitting_machine(conv1d_model, 5)"
   ]
  },
  {
   "cell_type": "code",
   "execution_count": 27,
   "id": "c63eff5e",
   "metadata": {},
   "outputs": [
    {
     "data": {
      "image/png": "[encoded data removed]",
      "text/plain": [
       "<Figure size 432x288 with 1 Axes>"
      ]
     },
     "metadata": {
      "needs_background": "light"
     },
     "output_type": "display_data"
    },
    {
     "data": {
      "image/png": "[encoded data removed]",
      "text/plain": [
       "<Figure size 432x288 with 1 Axes>"
      ]
     },
     "metadata": {
      "needs_background": "light"
     },
     "output_type": "display_data"
    }
   ],
   "source": [
    "visualization(conv1d_history)"
   ]
  },
  {
   "cell_type": "code",
   "execution_count": 28,
   "id": "4dec0635",
   "metadata": {},
   "outputs": [],
   "source": [
    "class GMPModel(keras.Model):\n",
    "    def __init__(self):\n",
    "        super().__init__()\n",
    "        vocab_size = 10000\n",
    "        word_vector_dim = 64\n",
    "        \n",
    "        self.embedding = keras.layers.Embedding(vocab_size, word_vector_dim, input_shape=(None,))\n",
    "        self.gmp = keras.layers.GlobalMaxPooling1D()\n",
    "        self.dense1 = keras.layers.Dense(8, activation='relu')\n",
    "        self.dense2 = keras.layers.Dense(1, activation='sigmoid')\n",
    "        \n",
    "    def call(self, x):\n",
    "        x = self.embedding(x)\n",
    "        x = self.gmp(x)\n",
    "        x = self.dense1(x)\n",
    "        x = self.dense2(x)\n",
    "        \n",
    "        return x"
   ]
  },
  {
   "cell_type": "code",
   "execution_count": 29,
   "id": "a23a4343",
   "metadata": {},
   "outputs": [],
   "source": [
    "gmp_model = GMPModel()"
   ]
  },
  {
   "cell_type": "code",
   "execution_count": 30,
   "id": "58d4e705",
   "metadata": {},
   "outputs": [
    {
     "name": "stdout",
     "output_type": "stream",
     "text": [
      "Epoch 1/5\n",
      "3427/3427 [==============================] - 12s 3ms/step - loss: 0.3966 - accuracy: 0.8204 - val_loss: 0.3495 - val_accuracy: 0.8464\n",
      "Epoch 2/5\n",
      "3427/3427 [==============================] - 11s 3ms/step - loss: 0.3056 - accuracy: 0.8708 - val_loss: 0.3459 - val_accuracy: 0.8499\n",
      "Epoch 3/5\n",
      "3427/3427 [==============================] - 11s 3ms/step - loss: 0.2649 - accuracy: 0.8907 - val_loss: 0.3620 - val_accuracy: 0.8490\n",
      "Epoch 4/5\n",
      "3427/3427 [==============================] - 11s 3ms/step - loss: 0.2294 - accuracy: 0.9085 - val_loss: 0.3734 - val_accuracy: 0.8455\n",
      "Epoch 5/5\n",
      "3427/3427 [==============================] - 11s 3ms/step - loss: 0.1968 - accuracy: 0.9237 - val_loss: 0.4011 - val_accuracy: 0.8445\n",
      "1537/1537 - 2s - loss: 0.4086 - accuracy: 0.8416\n",
      "\n",
      "This is gmp_model\n",
      "Loss: 0.40859636664390564\n",
      "Accurancy: 0.8416298627853394\n",
      "\n"
     ]
    }
   ],
   "source": [
    "gmp_history = fitting_machine(gmp_model, 5)"
   ]
  },
  {
   "cell_type": "code",
   "execution_count": 31,
   "id": "fd7cad5c",
   "metadata": {},
   "outputs": [
    {
     "data": {
      "image/png": "[encoded data removed]",
      "text/plain": [
       "<Figure size 432x288 with 1 Axes>"
      ]
     },
     "metadata": {
      "needs_background": "light"
     },
     "output_type": "display_data"
    },
    {
     "data": {
      "image/png": "[encoded data removed]",
      "text/plain": [
       "<Figure size 432x288 with 1 Axes>"
      ]
     },
     "metadata": {
      "needs_background": "light"
     },
     "output_type": "display_data"
    }
   ],
   "source": [
    "visualization(gmp_history)"
   ]
  },
  {
   "cell_type": "markdown",
   "id": "3ab69bc1",
   "metadata": {},
   "source": [
    "# 7) 학습된 Embedding 레이어 분석"
   ]
  },
  {
   "cell_type": "markdown",
   "id": "4acfaed4",
   "metadata": {},
   "source": [
    "## Lstm emdeding layer"
   ]
  },
  {
   "cell_type": "code",
   "execution_count": 32,
   "id": "b22f6531",
   "metadata": {},
   "outputs": [
    {
     "data": {
      "text/plain": [
       "array([ 0.02835404,  0.1645078 ,  0.01121133, -0.08000896, -0.25150907,\n",
       "        0.06241269,  0.16736275, -0.11005669, -0.26340833, -0.25228956,\n",
       "        0.22905946,  0.01514502, -0.06445399,  0.1026145 ,  0.02206293,\n",
       "       -0.16303122, -0.08479652, -0.10392562,  0.12745626,  0.2635292 ,\n",
       "        0.10555435,  0.13379838, -0.08047791,  0.16732255,  0.07010064,\n",
       "       -0.18282223, -0.05690211, -0.17357524, -0.04622746, -0.03795951,\n",
       "        0.00200337,  0.25660422, -0.09396044, -0.08297278,  0.07668479,\n",
       "       -0.26197645,  0.03367444, -0.08705325, -0.16774637,  0.07392482,\n",
       "       -0.02575775, -0.03419096,  0.03766603, -0.08793107, -0.00225837,\n",
       "        0.04705795, -0.11473507, -0.14028415,  0.02969255,  0.01636566,\n",
       "        0.20997994,  0.04586617, -0.06098553, -0.15312468,  0.07822841,\n",
       "       -0.07157072, -0.10344923, -0.08842513,  0.0110314 ,  0.16901837,\n",
       "        0.01016792,  0.22820015, -0.16939443,  0.04689233, -0.11465204,\n",
       "        0.19690937, -0.10896326, -0.03877384, -0.0552173 , -0.00731487,\n",
       "       -0.05437807,  0.19155511, -0.06191188, -0.07276489, -0.12012668,\n",
       "        0.00410018,  0.32058725, -0.00250874,  0.17259829,  0.07131537,\n",
       "        0.02981716,  0.18596776,  0.04022153,  0.03166144,  0.02446392,\n",
       "       -0.03621696,  0.15934896,  0.14921083,  0.00052535, -0.01967722,\n",
       "        0.06335437, -0.2894604 , -0.09969931, -0.08070461, -0.00149625,\n",
       "       -0.06085733, -0.09932572, -0.03621696, -0.08292186, -0.08718775,\n",
       "       -0.18747218, -0.14888805,  0.09512602, -0.18469898, -0.22637288,\n",
       "       -0.09967876, -0.03484306, -0.00832579,  0.01163319,  0.04116736,\n",
       "       -0.20562316,  0.01328782,  0.03191377,  0.15615326,  0.09319394,\n",
       "       -0.00548056,  0.09200056, -0.01605438,  0.1907874 ,  0.24364965,\n",
       "        0.00221846, -0.01894968,  0.020491  ,  0.03443991,  0.11978328,\n",
       "       -0.01250311,  0.0005444 , -0.12555607], dtype=float32)"
      ]
     },
     "execution_count": 32,
     "metadata": {},
     "output_type": "execute_result"
    }
   ],
   "source": [
    "embedding_layer = lstm_model.layers[0]\n",
    "weights = embedding_layer.get_weights()[0]\n",
    "vocab_size, word_vector_dim = weights.shape[0], weights.shape[1]\n",
    "\n",
    "word2vec_file_path = os.getenv('HOME')+'/aiffel/sentiment_classification/LSTMword2vec.txt'\n",
    "f = open(word2vec_file_path, 'w')\n",
    "f.write('{} {}\\n'.format(vocab_size-4, word_vector_dim))\n",
    "\n",
    "vectors = lstm_model.get_weights()[0]\n",
    "for i in range(4,vocab_size):\n",
    "    f.write('{} {}\\n'.format(index_to_word[i], ' '.join(map(str, list(vectors[i, :])))))\n",
    "f.close()\n",
    "\n",
    "word_vectors = Word2VecKeyedVectors.load_word2vec_format(word2vec_file_path, binary=False)\n",
    "vector = word_vectors['컴퓨터']\n",
    "vector"
   ]
  },
  {
   "cell_type": "code",
   "execution_count": 33,
   "id": "43eee548",
   "metadata": {},
   "outputs": [
    {
     "data": {
      "text/plain": [
       "[('멋있', 0.9086006879806519),\n",
       " ('굵', 0.888211727142334),\n",
       " ('살아온', 0.8838387131690979),\n",
       " ('순수', 0.8826274871826172),\n",
       " ('완벽', 0.8816320896148682),\n",
       " ('음악', 0.8802470564842224),\n",
       " ('상큼', 0.8800019025802612),\n",
       " ('생각났', 0.8799525499343872),\n",
       " ('동전', 0.8763893842697144),\n",
       " ('릿', 0.8763429522514343)]"
      ]
     },
     "execution_count": 33,
     "metadata": {},
     "output_type": "execute_result"
    }
   ],
   "source": [
    "# lstm model을 통하여 만든 vector \"사랑\"과 비슷한 단어들\n",
    "word_vectors.similar_by_word(\"사랑\")"
   ]
  },
  {
   "cell_type": "code",
   "execution_count": 34,
   "id": "8b3b3de6",
   "metadata": {},
   "outputs": [
    {
     "data": {
      "text/plain": [
       "[('스포일러', 0.8838138580322266),\n",
       " ('후유증', 0.8788735866546631),\n",
       " ('아쉬울', 0.8683719635009766),\n",
       " ('오염', 0.8595520853996277),\n",
       " ('검색어', 0.8589731454849243),\n",
       " ('퍼시픽', 0.8585322499275208),\n",
       " ('요세', 0.8584269285202026),\n",
       " ('한석규', 0.8571860790252686),\n",
       " ('언젠가', 0.8557262420654297),\n",
       " ('지킬', 0.8555209636688232)]"
      ]
     },
     "execution_count": 34,
     "metadata": {},
     "output_type": "execute_result"
    }
   ],
   "source": [
    "# lstm model을 통하여 만든 vector \"열정\"과 비슷한 단어들\n",
    "word_vectors.similar_by_word(\"열정\")"
   ]
  },
  {
   "cell_type": "markdown",
   "id": "50f7e91d",
   "metadata": {},
   "source": [
    "## Conv1D emdeding layer"
   ]
  },
  {
   "cell_type": "code",
   "execution_count": 35,
   "id": "09b11ea2",
   "metadata": {},
   "outputs": [
    {
     "data": {
      "text/plain": [
       "array([-0.03577223, -0.10315147, -0.08919736, -0.02178557, -0.2212902 ,\n",
       "        0.13273537, -0.0645867 , -0.26236627,  0.03018584, -0.07393503,\n",
       "       -0.05081623,  0.08758239, -0.07106979,  0.10701089,  0.02256427,\n",
       "        0.0040073 , -0.00726136,  0.11135294, -0.3021454 , -0.17400049,\n",
       "        0.14607802, -0.1239908 , -0.09179515, -0.10680385, -0.11928046,\n",
       "        0.04498715, -0.22927998, -0.00136537,  0.09193648, -0.2718174 ,\n",
       "       -0.13192822,  0.02887841, -0.14960241,  0.2695042 ,  0.11147667,\n",
       "       -0.17273158, -0.24476384, -0.2877589 ,  0.06707874, -0.00068218,\n",
       "       -0.03483233,  0.02048821, -0.09715389,  0.21431573,  0.13961212,\n",
       "        0.05128534,  0.09729401,  0.30300158, -0.15488057,  0.1044777 ,\n",
       "       -0.04363055, -0.11035632, -0.15609592, -0.10375503,  0.09871038,\n",
       "        0.1413354 ,  0.05931864, -0.2701037 , -0.00664988,  0.02388495,\n",
       "       -0.05770919, -0.16592368, -0.027223  , -0.09781248], dtype=float32)"
      ]
     },
     "execution_count": 35,
     "metadata": {},
     "output_type": "execute_result"
    }
   ],
   "source": [
    "embedding_layer = conv1d_model.layers[0]\n",
    "weights = embedding_layer.get_weights()[0]\n",
    "vocab_size, word_vector_dim = weights.shape[0], weights.shape[1]\n",
    "\n",
    "word2vec_file_path = os.getenv('HOME')+'/aiffel/sentiment_classification/conv1d_word2vec.txt'\n",
    "f = open(word2vec_file_path, 'w')\n",
    "f.write('{} {}\\n'.format(vocab_size-4, word_vector_dim))\n",
    "\n",
    "vectors = conv1d_model.get_weights()[0]\n",
    "for i in range(4,vocab_size):\n",
    "    f.write('{} {}\\n'.format(index_to_word[i], ' '.join(map(str, list(vectors[i, :])))))\n",
    "f.close()\n",
    "\n",
    "word_vectors = Word2VecKeyedVectors.load_word2vec_format(word2vec_file_path, binary=False)\n",
    "vector = word_vectors['컴퓨터']\n",
    "vector"
   ]
  },
  {
   "cell_type": "code",
   "execution_count": 36,
   "id": "40088be4",
   "metadata": {},
   "outputs": [
    {
     "data": {
      "text/plain": [
       "[('황정음', 0.7055032253265381),\n",
       " ('very', 0.7031189799308777),\n",
       " ('음미', 0.6871731281280518),\n",
       " ('돋보이', 0.6768398284912109),\n",
       " ('클레이', 0.6743072271347046),\n",
       " ('최상', 0.6679523587226868),\n",
       " ('넘쳤', 0.6676403880119324),\n",
       " ('다가오', 0.6665335893630981),\n",
       " ('민중', 0.664551317691803),\n",
       " ('이제서야', 0.6642042398452759)]"
      ]
     },
     "execution_count": 36,
     "metadata": {},
     "output_type": "execute_result"
    }
   ],
   "source": [
    "# conv1d model을 통하여 만든 vector \"사랑\"과 비슷한 단어들\n",
    "word_vectors.similar_by_word(\"사랑\")"
   ]
  },
  {
   "cell_type": "code",
   "execution_count": 37,
   "id": "3da125a8",
   "metadata": {},
   "outputs": [
    {
     "data": {
      "text/plain": [
       "[('오염', 0.744185209274292),\n",
       " ('어쩌면', 0.7307816743850708),\n",
       " ('황홀', 0.7202563285827637),\n",
       " ('다가왔', 0.711315929889679),\n",
       " ('새로운', 0.7094326615333557),\n",
       " ('기업', 0.7063686847686768),\n",
       " ('케이온', 0.7040711045265198),\n",
       " ('해운대', 0.7031282186508179),\n",
       " ('웃긴데', 0.7010766863822937),\n",
       " ('넘침', 0.6997833251953125)]"
      ]
     },
     "execution_count": 37,
     "metadata": {},
     "output_type": "execute_result"
    }
   ],
   "source": [
    "# conv1d model을 통하여 만든 vector \"열정\"과 비슷한 단어들\n",
    "word_vectors.similar_by_word(\"열정\")"
   ]
  },
  {
   "cell_type": "markdown",
   "id": "13308509",
   "metadata": {},
   "source": [
    "## GMP emdeding layer"
   ]
  },
  {
   "cell_type": "code",
   "execution_count": 38,
   "id": "04a876dd",
   "metadata": {},
   "outputs": [
    {
     "data": {
      "text/plain": [
       "array([-0.05864885, -0.00746158,  0.01729929, -0.05356904, -0.05581032,\n",
       "       -0.10583433, -0.02333442,  0.07439687, -0.09978232, -0.01156008,\n",
       "       -0.02608579, -0.15669271, -0.06024295,  0.12198117, -0.01563872,\n",
       "       -0.03342143, -0.01769132, -0.00520483,  0.02691951, -0.01735497,\n",
       "        0.10344644, -0.16595808,  0.02692569, -0.08936939,  0.0742785 ,\n",
       "       -0.04411529, -0.032779  , -0.15108353, -0.14010414, -0.13522743,\n",
       "       -0.02513538, -0.13764401,  0.03200091, -0.07855991, -0.10195132,\n",
       "        0.02165587, -0.09774052, -0.04659587,  0.07540133, -0.12351625,\n",
       "       -0.01405342, -0.03227245,  0.11392381, -0.05818687, -0.13790181,\n",
       "       -0.10725163,  0.08109328, -0.04063277,  0.02683541,  0.02280373,\n",
       "       -0.04386955, -0.09854634, -0.0224944 , -0.07328741, -0.13025773,\n",
       "       -0.16706131, -0.10755274, -0.06987482, -0.12699093,  0.12529384,\n",
       "       -0.1508336 , -0.01601672, -0.16181518, -0.00918229], dtype=float32)"
      ]
     },
     "execution_count": 38,
     "metadata": {},
     "output_type": "execute_result"
    }
   ],
   "source": [
    "embedding_layer = gmp_model.layers[0]\n",
    "weights = embedding_layer.get_weights()[0]\n",
    "vocab_size, word_vector_dim = weights.shape[0], weights.shape[1]\n",
    "\n",
    "word2vec_file_path = os.getenv('HOME')+'/aiffel/sentiment_classification/GMP_word2vec.txt'\n",
    "f = open(word2vec_file_path, 'w')\n",
    "f.write('{} {}\\n'.format(vocab_size-4, word_vector_dim))\n",
    "\n",
    "vectors = gmp_model.get_weights()[0]\n",
    "for i in range(4,vocab_size):\n",
    "    f.write('{} {}\\n'.format(index_to_word[i], ' '.join(map(str, list(vectors[i, :])))))\n",
    "f.close()\n",
    "\n",
    "word_vectors = Word2VecKeyedVectors.load_word2vec_format(word2vec_file_path, binary=False)\n",
    "vector = word_vectors['컴퓨터']\n",
    "vector"
   ]
  },
  {
   "cell_type": "code",
   "execution_count": 39,
   "id": "aae8e3c2",
   "metadata": {},
   "outputs": [
    {
     "data": {
      "text/plain": [
       "[('오호', 0.7816221714019775),\n",
       " ('웅', 0.7719010710716248),\n",
       " ('원피스', 0.7687948942184448),\n",
       " ('순수', 0.7650824189186096),\n",
       " ('가을', 0.7616912126541138),\n",
       " ('간지', 0.7549125552177429),\n",
       " ('애절', 0.7540101408958435),\n",
       " ('전도연', 0.75367271900177),\n",
       " ('고등학생', 0.7504130601882935),\n",
       " ('에반', 0.7495037913322449)]"
      ]
     },
     "execution_count": 39,
     "metadata": {},
     "output_type": "execute_result"
    }
   ],
   "source": [
    "# gmp model을 통하여 만든 vector \"사랑\"과 비슷한 단어들\n",
    "word_vectors.similar_by_word(\"사랑\")"
   ]
  },
  {
   "cell_type": "code",
   "execution_count": 40,
   "id": "b9eb632a",
   "metadata": {},
   "outputs": [
    {
     "data": {
      "text/plain": [
       "[('박혀', 0.6221598982810974),\n",
       " ('유아인', 0.6127169728279114),\n",
       " ('퀴어', 0.6103153228759766),\n",
       " ('십쇼', 0.6102569103240967),\n",
       " ('수준급', 0.6014279127120972),\n",
       " ('흑', 0.5901657938957214),\n",
       " ('하치', 0.5823005437850952),\n",
       " ('담겨져', 0.5821419954299927),\n",
       " ('숨소리', 0.5800482034683228),\n",
       " ('전성기', 0.5797345638275146)]"
      ]
     },
     "execution_count": 40,
     "metadata": {},
     "output_type": "execute_result"
    }
   ],
   "source": [
    "# gmp model을 통하여 만든 vector \"열정\"과 비슷한 단어들\n",
    "word_vectors.similar_by_word(\"열정\")"
   ]
  },
  {
   "cell_type": "markdown",
   "id": "4458776c",
   "metadata": {},
   "source": [
    "# 8) 한국어 Word2Vec 임베딩 활용하여 성능 개선"
   ]
  },
  {
   "cell_type": "code",
   "execution_count": 41,
   "id": "0c07bfc6",
   "metadata": {},
   "outputs": [
    {
     "name": "stdout",
     "output_type": "stream",
     "text": [
      "Found existing installation: gensim 3.8.1\n",
      "Uninstalling gensim-3.8.1:\n",
      "  Would remove:\n",
      "    /opt/conda/lib/python3.9/site-packages/gensim-3.8.1.dist-info/*\n",
      "    /opt/conda/lib/python3.9/site-packages/gensim/*\n",
      "Proceed (Y/n)? ^C\n",
      "\u001b[31mERROR: Operation cancelled by user\u001b[0m\n"
     ]
    }
   ],
   "source": [
    "!pip uninstall gensim"
   ]
  },
  {
   "cell_type": "code",
   "execution_count": 42,
   "id": "c0f06112",
   "metadata": {},
   "outputs": [
    {
     "name": "stdout",
     "output_type": "stream",
     "text": [
      "Requirement already satisfied: gensim==3.8.1 in /opt/conda/lib/python3.9/site-packages (3.8.1)\n",
      "Requirement already satisfied: scipy>=0.18.1 in /opt/conda/lib/python3.9/site-packages (from gensim==3.8.1) (1.7.1)\n",
      "Requirement already satisfied: six>=1.5.0 in /opt/conda/lib/python3.9/site-packages (from gensim==3.8.1) (1.16.0)\n",
      "Requirement already satisfied: numpy>=1.11.3 in /opt/conda/lib/python3.9/site-packages (from gensim==3.8.1) (1.21.4)\n",
      "Requirement already satisfied: smart-open>=1.8.1 in /opt/conda/lib/python3.9/site-packages (from gensim==3.8.1) (5.2.1)\n",
      "\u001b[33mWARNING: Running pip as the 'root' user can result in broken permissions and conflicting behaviour with the system package manager. It is recommended to use a virtual environment instead: https://pip.pypa.io/warnings/venv\u001b[0m\n"
     ]
    }
   ],
   "source": [
    "!pip install gensim==3.8.1"
   ]
  },
  {
   "cell_type": "code",
   "execution_count": 43,
   "id": "11440de9",
   "metadata": {},
   "outputs": [
    {
     "name": "stdout",
     "output_type": "stream",
     "text": [
      "3.8.1\n"
     ]
    }
   ],
   "source": [
    "print(gensim.__version__)"
   ]
  },
  {
   "cell_type": "code",
   "execution_count": 44,
   "id": "13507493",
   "metadata": {},
   "outputs": [
    {
     "data": {
      "text/plain": [
       "array([-1.517628  , -0.8935504 , -1.4352998 ,  1.5069847 , -1.5178334 ,\n",
       "        1.1542678 , -2.94064   ,  1.1850045 ,  0.19959009, -1.5288961 ,\n",
       "       -1.7067502 , -2.1892095 , -0.20728938, -2.2606812 , -2.2283888 ,\n",
       "        0.32318738, -0.2845471 , -0.07731772, -0.86269003, -1.1722927 ,\n",
       "       -0.91062415,  0.8440715 ,  0.903278  , -0.84685427,  0.7023384 ,\n",
       "       -2.1920419 , -0.47571626, -0.60159504, -0.68860835,  0.18944737,\n",
       "        0.5319404 ,  0.73058116, -0.9658133 , -1.0123725 , -0.36183038,\n",
       "        2.5851305 ,  0.66589296, -1.7231252 ,  1.7576753 ,  0.88845277,\n",
       "        1.5791365 , -4.430691  ,  0.36731872,  0.69481534, -0.46041563,\n",
       "        1.742655  , -1.5077016 ,  0.72209424, -0.04532204, -0.6557301 ,\n",
       "       -0.71276623,  0.26522732, -0.17656395, -2.4720876 , -0.845565  ,\n",
       "        0.23591152,  1.3414925 ,  0.77577615, -2.289371  , -0.8078124 ,\n",
       "        1.4359473 ,  0.22882733, -1.08867   ,  1.2607764 , -1.7469797 ,\n",
       "        0.06542054,  0.39896825, -0.3160832 , -1.7257563 ,  0.54638785,\n",
       "       -0.31753907, -0.48656994, -0.8225613 , -0.573065  ,  0.13175343,\n",
       "       -0.3924169 ,  0.55588305, -1.0773534 ,  0.55159163,  0.1352609 ,\n",
       "        0.88245326, -1.0127378 ,  0.14704451, -0.5254349 , -3.401769  ,\n",
       "       -0.42525592,  2.0031376 ,  0.36679608, -1.0043006 ,  1.3084906 ,\n",
       "        0.66252464, -0.48564675,  1.1390634 , -0.61399025, -0.50669813,\n",
       "        2.984564  ,  1.126494  ,  0.68590933, -0.2439008 , -1.317931  ,\n",
       "        0.826134  , -0.3985872 ,  0.509279  , -2.7423162 ,  2.1723568 ,\n",
       "        0.02191449, -0.16062206, -0.14502135, -0.32332814, -1.7890338 ,\n",
       "        1.8245052 , -1.3794106 ,  0.4879299 , -1.4982558 , -1.2389678 ,\n",
       "        1.1795257 , -1.54579   ,  0.07694028,  0.44653377,  0.27894926,\n",
       "       -1.9621123 ,  0.6149733 , -0.41162157, -1.0487087 , -1.7935017 ,\n",
       "        0.31845954,  0.14684801, -0.49587062,  1.6319822 ,  0.39944446,\n",
       "        0.434382  , -1.1794649 , -2.5206347 ,  0.6408292 , -0.62896025,\n",
       "        1.9872422 ,  1.2521076 , -0.21406372,  1.6773093 , -1.6608806 ,\n",
       "       -0.33801398, -0.88510543,  0.1943094 , -1.7670768 , -0.39440864,\n",
       "        1.5270631 , -1.1952105 , -0.60033166,  1.0510954 , -1.4626403 ,\n",
       "       -1.517039  ,  0.59476143,  0.36977595, -1.4121546 , -0.21997249,\n",
       "       -1.0658429 , -0.17150132,  0.8064618 ,  0.5093993 , -0.74832773,\n",
       "        1.2333933 , -1.9864655 , -0.8474578 , -1.1405545 , -3.6550071 ,\n",
       "       -1.556984  ,  1.8270527 ,  1.3725282 , -1.2329742 , -0.09723412,\n",
       "        0.34405386,  0.11565362, -0.9567215 ,  1.4773479 ,  2.169166  ,\n",
       "       -0.26613593, -1.4810696 ,  3.1457973 , -0.4415616 , -1.1940637 ,\n",
       "       -0.09637992, -0.05768079,  0.6716703 , -0.21914895,  0.56199044,\n",
       "       -1.129858  , -0.7972026 ,  0.73576796,  0.22356483,  0.9140782 ,\n",
       "       -1.4168789 ,  0.15810002, -0.79947495, -1.0691265 ,  1.4587201 ,\n",
       "       -0.5216996 ,  1.1812991 ,  0.37763026,  1.3513768 , -0.4241938 ],\n",
       "      dtype=float32)"
      ]
     },
     "execution_count": 44,
     "metadata": {},
     "output_type": "execute_result"
    }
   ],
   "source": [
    "word2vec_path = os.getenv('HOME')+'/aiffel/sentiment_classification/ko.bin'\n",
    "word2vec = gensim.models.Word2Vec.load(word2vec_path)\n",
    "vector = word2vec['컴퓨터']\n",
    "vector"
   ]
  },
  {
   "cell_type": "code",
   "execution_count": 45,
   "id": "e6030a72",
   "metadata": {},
   "outputs": [
    {
     "data": {
      "text/plain": [
       "[('슬픔', 0.7216662764549255),\n",
       " ('행복', 0.6759077310562134),\n",
       " ('절망', 0.6468985080718994),\n",
       " ('기쁨', 0.6458414196968079),\n",
       " ('이별', 0.6334798336029053),\n",
       " ('추억', 0.6320937275886536),\n",
       " ('인생', 0.6216273307800293),\n",
       " ('애정', 0.6206069588661194),\n",
       " ('연인', 0.6186063289642334),\n",
       " ('유혹', 0.5965287685394287)]"
      ]
     },
     "execution_count": 45,
     "metadata": {},
     "output_type": "execute_result"
    }
   ],
   "source": [
    "word2vec.similar_by_word(\"사랑\")"
   ]
  },
  {
   "cell_type": "code",
   "execution_count": 46,
   "id": "cecf0fd8",
   "metadata": {},
   "outputs": [
    {
     "data": {
      "text/plain": [
       "[('애정', 0.7417005300521851),\n",
       " ('정열', 0.7087529897689819),\n",
       " ('열망', 0.6876388788223267),\n",
       " ('자신감', 0.6708117127418518),\n",
       " ('자부심', 0.6696762442588806),\n",
       " ('독창성', 0.6694566607475281),\n",
       " ('상상력', 0.6669999957084656),\n",
       " ('책임감', 0.6664522886276245),\n",
       " ('의욕', 0.6652706861495972),\n",
       " ('충성심', 0.6587468385696411)]"
      ]
     },
     "execution_count": 46,
     "metadata": {},
     "output_type": "execute_result"
    }
   ],
   "source": [
    "word2vec.similar_by_word(\"열정\")"
   ]
  },
  {
   "cell_type": "code",
   "execution_count": 47,
   "id": "aa02375c",
   "metadata": {},
   "outputs": [],
   "source": [
    "# model에 사용할 embedding layer 만들기\n",
    "vocab_size = 10000\n",
    "word_vector_dim = 200\n",
    "\n",
    "embedding_matrix = np.random.rand(vocab_size, word_vector_dim)\n",
    "\n",
    "for i in range(4,vocab_size):\n",
    "    if index_to_word[i] in word2vec:\n",
    "        embedding_matrix[i] = word2vec[index_to_word[i]]"
   ]
  },
  {
   "cell_type": "markdown",
   "id": "f9daa7b6",
   "metadata": {},
   "source": [
    "## Lstm&한국어 Word2Vec"
   ]
  },
  {
   "cell_type": "code",
   "execution_count": 48,
   "id": "fdc75404",
   "metadata": {},
   "outputs": [],
   "source": [
    "class LSTMModel_ko(keras.Model):\n",
    "    def __init__(self,embedding_m):\n",
    "        super().__init__()\n",
    "        vocab_size = 10000\n",
    "        word_vector_dim = 200\n",
    "        \n",
    "        self.embedding = keras.layers.Embedding(vocab_size, \n",
    "                                 word_vector_dim, \n",
    "                                 embeddings_initializer=Constant(embedding_m),\n",
    "                                 input_length=maxlen, \n",
    "                                 trainable=True)\n",
    "        self.lstm = keras.layers.LSTM(64)\n",
    "        self.dense1 = keras.layers.Dense(256, activation='relu')\n",
    "        self.dense2 = keras.layers.Dense(1, activation='sigmoid')\n",
    "        \n",
    "    def call(self, x):\n",
    "        x = self.embedding(x)\n",
    "        x = self.lstm(x)\n",
    "        x = self.dense1(x)\n",
    "        x = self.dense2(x)\n",
    "        \n",
    "        return x"
   ]
  },
  {
   "cell_type": "code",
   "execution_count": 49,
   "id": "4976db01",
   "metadata": {},
   "outputs": [],
   "source": [
    "# model 선언\n",
    "lstm_model_ko = LSTMModel_ko(embedding_matrix)"
   ]
  },
  {
   "cell_type": "code",
   "execution_count": 50,
   "id": "2fcbc7ce",
   "metadata": {
    "scrolled": false
   },
   "outputs": [
    {
     "name": "stdout",
     "output_type": "stream",
     "text": [
      "Epoch 1/5\n",
      "3427/3427 [==============================] - 22s 6ms/step - loss: 0.3904 - accuracy: 0.8202 - val_loss: 0.3353 - val_accuracy: 0.8520\n",
      "Epoch 2/5\n",
      "3427/3427 [==============================] - 20s 6ms/step - loss: 0.2963 - accuracy: 0.8735 - val_loss: 0.3188 - val_accuracy: 0.8621\n",
      "Epoch 3/5\n",
      "3427/3427 [==============================] - 20s 6ms/step - loss: 0.2527 - accuracy: 0.8949 - val_loss: 0.3188 - val_accuracy: 0.8647\n",
      "Epoch 4/5\n",
      "3427/3427 [==============================] - 20s 6ms/step - loss: 0.2134 - accuracy: 0.9129 - val_loss: 0.3410 - val_accuracy: 0.8659\n",
      "Epoch 5/5\n",
      "3427/3427 [==============================] - 20s 6ms/step - loss: 0.1772 - accuracy: 0.9293 - val_loss: 0.3622 - val_accuracy: 0.8615\n",
      "1537/1537 - 3s - loss: 0.3713 - accuracy: 0.8563\n",
      "\n",
      "This is lstm_model_ko\n",
      "Loss: 0.37128371000289917\n",
      "Accurancy: 0.8563175201416016\n",
      "\n"
     ]
    }
   ],
   "source": [
    "lstm_ko_history = fitting_machine(lstm_model_ko, 5)"
   ]
  },
  {
   "cell_type": "markdown",
   "id": "b1e7c244",
   "metadata": {},
   "source": []
  },
  {
   "cell_type": "code",
   "execution_count": 51,
   "id": "ccd610b7",
   "metadata": {},
   "outputs": [
    {
     "data": {
      "image/png": "[encoded data removed]",
      "text/plain": [
       "<Figure size 432x288 with 1 Axes>"
      ]
     },
     "metadata": {
      "needs_background": "light"
     },
     "output_type": "display_data"
    },
    {
     "data": {
      "image/png": "[encoded data removed]",
      "text/plain": [
       "<Figure size 432x288 with 1 Axes>"
      ]
     },
     "metadata": {
      "needs_background": "light"
     },
     "output_type": "display_data"
    }
   ],
   "source": [
    "visualization(lstm_ko_history)"
   ]
  },
  {
   "cell_type": "markdown",
   "id": "80b5fb22",
   "metadata": {},
   "source": [
    "## Conv1D&한국어 Word2Vec"
   ]
  },
  {
   "cell_type": "code",
   "execution_count": null,
   "id": "9866b56f",
   "metadata": {},
   "outputs": [],
   "source": [
    "class Conv1DModel_ko(keras.Model):\n",
    "    def __init__(self,embedding_m):\n",
    "        super().__init__()\n",
    "        vocab_size = 10000\n",
    "        word_vector_dim = 200\n",
    "        \n",
    "        self.embedding = keras.layers.Embedding(vocab_size, \n",
    "                                 word_vector_dim, \n",
    "                                 embeddings_initializer=Constant(embedding_m),\n",
    "                                 input_length=maxlen, \n",
    "                                 trainable=True)\n",
    "        self.conv1 = keras.layers.Conv1D(64, 7, activation='relu')\n",
    "        self.maxp = keras.layers.MaxPooling1D(5)\n",
    "        self.conv2 = keras.layers.Conv1D(64, 7, activation='relu')\n",
    "        self.gmaxp = keras.layers.GlobalMaxPooling1D()\n",
    "        self.dense1 = keras.layers.Dense(128, activation='relu')\n",
    "        self.dense2 = keras.layers.Dense(1, activation='sigmoid')\n",
    "        \n",
    "    def call(self, x):\n",
    "        x = self.embedding(x)\n",
    "        x = self.conv1(x)\n",
    "        x = self.maxp(x)\n",
    "        x = self.conv2(x)\n",
    "        x = self.gmaxp(x)\n",
    "        x = self.dense1(x)\n",
    "        x = self.dense2(x)\n",
    "        \n",
    "        return x"
   ]
  },
  {
   "cell_type": "code",
   "execution_count": null,
   "id": "c0b70697",
   "metadata": {},
   "outputs": [],
   "source": [
    "# model 선언\n",
    "conv1d_model_ko = Conv1DModel_ko(embedding_matrix)"
   ]
  },
  {
   "cell_type": "code",
   "execution_count": 52,
   "id": "02570028",
   "metadata": {},
   "outputs": [
    {
     "name": "stdout",
     "output_type": "stream",
     "text": [
      "Epoch 1/5\n",
      "3427/3427 [==============================] - 19s 5ms/step - loss: 0.4262 - accuracy: 0.8002 - val_loss: 0.3582 - val_accuracy: 0.8416\n",
      "Epoch 2/5\n",
      "3427/3427 [==============================] - 18s 5ms/step - loss: 0.3156 - accuracy: 0.8653 - val_loss: 0.3316 - val_accuracy: 0.8553\n",
      "Epoch 3/5\n",
      "3427/3427 [==============================] - 18s 5ms/step - loss: 0.2668 - accuracy: 0.8883 - val_loss: 0.3438 - val_accuracy: 0.8565\n",
      "Epoch 4/5\n",
      "3427/3427 [==============================] - 18s 5ms/step - loss: 0.2218 - accuracy: 0.9099 - val_loss: 0.3679 - val_accuracy: 0.8549\n",
      "Epoch 5/5\n",
      "3427/3427 [==============================] - 18s 5ms/step - loss: 0.1748 - accuracy: 0.9307 - val_loss: 0.4278 - val_accuracy: 0.8465\n",
      "1537/1537 - 3s - loss: 0.4411 - accuracy: 0.8439\n",
      "\n",
      "This is conv1d_model_ko\n",
      "Loss: 0.44110292196273804\n",
      "Accurancy: 0.8438675999641418\n",
      "\n"
     ]
    }
   ],
   "source": [
    "conv1d_ko_history = fitting_machine(conv1d_model_ko, 5)"
   ]
  },
  {
   "cell_type": "code",
   "execution_count": 53,
   "id": "edc6a35e",
   "metadata": {},
   "outputs": [
    {
     "data": {
      "image/png": "[encoded data removed]",
      "text/plain": [
       "<Figure size 432x288 with 1 Axes>"
      ]
     },
     "metadata": {
      "needs_background": "light"
     },
     "output_type": "display_data"
    },
    {
     "data": {
      "image/png": "[encoded data removed]",
      "text/plain": [
       "<Figure size 432x288 with 1 Axes>"
      ]
     },
     "metadata": {
      "needs_background": "light"
     },
     "output_type": "display_data"
    }
   ],
   "source": [
    "visualization(conv1d_ko_history)"
   ]
  },
  {
   "cell_type": "markdown",
   "id": "c4f81f70",
   "metadata": {},
   "source": [
    "## GMP with 한국어 Word2Vec"
   ]
  },
  {
   "cell_type": "code",
   "execution_count": null,
   "id": "0e38043c",
   "metadata": {},
   "outputs": [],
   "source": [
    "class GMPModel_ko(keras.Model):\n",
    "    def __init__(self,embedding_m):\n",
    "        super().__init__()\n",
    "        vocab_size = 10000\n",
    "        word_vector_dim = 200\n",
    "        \n",
    "        self.embedding = keras.layers.Embedding(vocab_size, \n",
    "                                 word_vector_dim, \n",
    "                                 embeddings_initializer=Constant(embedding_m),\n",
    "                                 input_length=maxlen, \n",
    "                                 trainable=True)\n",
    "        self.gmp = keras.layers.GlobalMaxPooling1D()\n",
    "        self.dense1 = keras.layers.Dense(8, activation='relu')\n",
    "        self.dense2 = keras.layers.Dense(1, activation='sigmoid')\n",
    "        \n",
    "    def call(self, x):\n",
    "        x = self.embedding(x)\n",
    "        x = self.gmp(x)\n",
    "        x = self.dense1(x)\n",
    "        x = self.dense2(x)\n",
    "        \n",
    "        return x"
   ]
  },
  {
   "cell_type": "code",
   "execution_count": null,
   "id": "a97f573e",
   "metadata": {},
   "outputs": [],
   "source": [
    "# model 선언\n",
    "gmp_model_ko = GMPModel_ko(embedding_matrix)"
   ]
  },
  {
   "cell_type": "code",
   "execution_count": 54,
   "id": "b70395f9",
   "metadata": {},
   "outputs": [
    {
     "name": "stdout",
     "output_type": "stream",
     "text": [
      "Epoch 1/5\n",
      "3427/3427 [==============================] - 13s 4ms/step - loss: 0.5401 - accuracy: 0.7150 - val_loss: 0.4508 - val_accuracy: 0.7880\n",
      "Epoch 2/5\n",
      "3427/3427 [==============================] - 12s 4ms/step - loss: 0.4120 - accuracy: 0.8129 - val_loss: 0.4055 - val_accuracy: 0.8149\n",
      "Epoch 3/5\n",
      "3427/3427 [==============================] - 12s 4ms/step - loss: 0.3646 - accuracy: 0.8403 - val_loss: 0.3885 - val_accuracy: 0.8251\n",
      "Epoch 4/5\n",
      "3427/3427 [==============================] - 12s 4ms/step - loss: 0.3313 - accuracy: 0.8575 - val_loss: 0.3832 - val_accuracy: 0.8288\n",
      "Epoch 5/5\n",
      "3427/3427 [==============================] - 12s 4ms/step - loss: 0.3036 - accuracy: 0.8719 - val_loss: 0.3946 - val_accuracy: 0.8253\n",
      "1537/1537 - 2s - loss: 0.3993 - accuracy: 0.8224\n",
      "\n",
      "This is gmp_model_ko\n",
      "Loss: 0.3993021547794342\n",
      "Accurancy: 0.8223650455474854\n",
      "\n"
     ]
    }
   ],
   "source": [
    "gmp_ko_history = fitting_machine(gmp_model_ko, 5)"
   ]
  },
  {
   "cell_type": "code",
   "execution_count": 55,
   "id": "c9d5ae3e",
   "metadata": {},
   "outputs": [
    {
     "data": {
      "image/png": "[encoded data removed]",
      "text/plain": [
       "<Figure size 432x288 with 1 Axes>"
      ]
     },
     "metadata": {
      "needs_background": "light"
     },
     "output_type": "display_data"
    },
    {
     "data": {
      "image/png": "[encoded data removed]",
      "text/plain": [
       "<Figure size 432x288 with 1 Axes>"
      ]
     },
     "metadata": {
      "needs_background": "light"
     },
     "output_type": "display_data"
    }
   ],
   "source": [
    "visualization(gmp_ko_history)"
   ]
  },
  {
   "cell_type": "markdown",
   "id": "468ce9a5",
   "metadata": {},
   "source": [
    "# 9) 회고"
   ]
  },
  {
   "cell_type": "markdown",
   "id": "f082b7f7",
   "metadata": {},
   "source": [
    "마지막 한국어word2vec을 하는 과정에서 gensim을 언인스톨하고 버전 3.8.1로 재설치하는 과정이 까다로웠다.<br><br>\n",
    "\n",
    "\n",
    "**모델비교**<br>\n",
    "LSTM: Loss=0.41, Accurancy=0.85\n",
    "Lstm&한국어 Word2Vec: Loss=0.37, Accurancy: 0.85\n",
    "\n",
    "Conv1D: Loss=0.59, Accurancy=0.84\n",
    "Conv1D&한국어 Word2Vec: Loss=0.44, Accurancy=0.84\n",
    "\n",
    "GMP: Loss=0.40, Accurancy: 0.83\n",
    "GMP&한국어 Word2Vec: Loss=0.39, Accurancy: 0.82\n",
    "\n",
    "<br><br>\n",
    "LSTM과 Conv1D는 한국어 Word2Vec 임베딩을 사용하여 손실값이 감소되어 성능이 향상되었다.\n",
    "GMP는 한국어 Word2Vec 임베딩을 사용하여 손실값이 감소하였지만 정확도가 약간 떨어졌다."
   ]
  }
 ],
 "metadata": {
  "kernelspec": {
   "display_name": "Python 3 (ipykernel)",
   "language": "python",
   "name": "python3"
  },
  "language_info": {
   "codemirror_mode": {
    "name": "ipython",
    "version": 3
   },
   "file_extension": ".py",
   "mimetype": "text/x-python",
   "name": "python",
   "nbconvert_exporter": "python",
   "pygments_lexer": "ipython3",
   "version": "3.9.7"
  }
 },
 "nbformat": 4,
 "nbformat_minor": 5
}

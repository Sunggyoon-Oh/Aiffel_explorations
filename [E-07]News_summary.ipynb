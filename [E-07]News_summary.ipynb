{
  "nbformat": 4,
  "nbformat_minor": 0,
  "metadata": {
    "colab": {
      "name": "[E-07]News_summary.ipynb",
      "provenance": [],
      "collapsed_sections": [],
      "mount_file_id": "1of1aPAmgt8BVcRoiv1y4A1C0JeU6kDHR",
      "authorship_tag": "ABX9TyPbsmn5NB1QoCgD/LyFekle"
    },
    "kernelspec": {
      "name": "python3",
      "display_name": "Python 3"
    },
    "language_info": {
      "name": "python"
    },
    "accelerator": "GPU"
  },
  "cells": [
    {
      "cell_type": "markdown",
      "source": [
        "# **프로젝트: 뉴스기사 요약해보기**"
      ],
      "metadata": {
        "id": "MOZvSxw-JqCR"
      }
    },
    {
      "cell_type": "markdown",
      "source": [
        "**코랩 마운트**"
      ],
      "metadata": {
        "id": "QQ0_2RBSkEt4"
      }
    },
    {
      "cell_type": "code",
      "execution_count": null,
      "metadata": {
        "colab": {
          "base_uri": "https://localhost:8080/"
        },
        "id": "cEJrHLGUyLmf",
        "outputId": "122a1531-6bdb-4c87-bf0f-3e5443d6e814"
      },
      "outputs": [
        {
          "output_type": "stream",
          "name": "stdout",
          "text": [
            "Drive already mounted at /content/drive; to attempt to forcibly remount, call drive.mount(\"/content/drive\", force_remount=True).\n"
          ]
        }
      ],
      "source": [
        "from google.colab import drive\n",
        "drive.mount('/content/drive')"
      ]
    },
    {
      "cell_type": "markdown",
      "source": [
        "**모듈 불러오기**"
      ],
      "metadata": {
        "id": "4aIsnjxxkG39"
      }
    },
    {
      "cell_type": "code",
      "source": [
        "import nltk\n",
        "nltk.download('stopwords')\n",
        "\n",
        "import numpy as np\n",
        "import pandas as pd\n",
        "import os\n",
        "import re\n",
        "import matplotlib.pyplot as plt\n",
        "from nltk.corpus import stopwords\n",
        "from bs4 import BeautifulSoup \n",
        "from tensorflow.keras.preprocessing.text import Tokenizer \n",
        "from tensorflow.keras.preprocessing.sequence import pad_sequences\n",
        "import urllib.request\n",
        "import warnings"
      ],
      "metadata": {
        "colab": {
          "base_uri": "https://localhost:8080/"
        },
        "id": "6Vk698c6yPIV",
        "outputId": "cb2557bb-e84d-4ff0-c8c7-83865bf204b6"
      },
      "execution_count": null,
      "outputs": [
        {
          "output_type": "stream",
          "name": "stdout",
          "text": [
            "[nltk_data] Downloading package stopwords to /root/nltk_data...\n",
            "[nltk_data]   Package stopwords is already up-to-date!\n"
          ]
        }
      ]
    },
    {
      "cell_type": "markdown",
      "source": [
        "## **Step 1. 데이터 수집하기**"
      ],
      "metadata": {
        "id": "60srTG99J4nH"
      }
    },
    {
      "cell_type": "code",
      "source": [
        "import urllib.request\n",
        "urllib.request.urlretrieve(\"https://raw.githubusercontent.com/sunnysai12345/News_Summary/master/news_summary_more.csv\", filename=\"news_summary_more.csv\")\n",
        "data = pd.read_csv('news_summary_more.csv', encoding='iso-8859-1')"
      ],
      "metadata": {
        "id": "mm5cojjDyctO"
      },
      "execution_count": null,
      "outputs": []
    },
    {
      "cell_type": "code",
      "source": [
        "data.sample(10)"
      ],
      "metadata": {
        "colab": {
          "base_uri": "https://localhost:8080/",
          "height": 363
        },
        "id": "Tp98N4shygYV",
        "outputId": "7dc3f8b1-d281-4f8e-99d9-186901c4cfb9"
      },
      "execution_count": null,
      "outputs": [
        {
          "output_type": "execute_result",
          "data": {
            "text/plain": [
              "                                               headlines  \\\n",
              "29180  AIADMK expels member for comparing reporters t...   \n",
              "66686   Ram Rahim moves High Court against rape sentence   \n",
              "80423  Emirates business class crew pours champagne b...   \n",
              "16113  SC refers plea on female genital mutilation to...   \n",
              "62706  Drive-in theater to drive-in match: Ishant on ...   \n",
              "8496   Microsoft briefly surpasses Apple as world's m...   \n",
              "28872  I blame myself: Bobby Deol on absence from fil...   \n",
              "76666  Petrified first word of my twins will be in Ma...   \n",
              "97241  Pak singer Ghulam Ali to perform at Varanasi t...   \n",
              "69169        China gets the world's fastest bullet train   \n",
              "\n",
              "                                                    text  \n",
              "29180  The AIADMK has expelled IT wing member Hari Pr...  \n",
              "66686  Jailed Dera Sacha Sauda chief Gurmeet Ram Rahi...  \n",
              "80423  An Emirates air hostess can be seen pouring ch...  \n",
              "16113  The Supreme Court on Monday referred to a five...  \n",
              "62706  Reacting to the car invasion that stalled the ...  \n",
              "8496   Microsoft on Monday briefly overtook Apple as ...  \n",
              "28872  Actor Bobby Deol who made a comeback in Bollyw...  \n",
              "76666  Karan Johar has said that every single day he ...  \n",
              "97241  Pakistani ghazal maestro Ghulam Ali is schedul...  \n",
              "69169  China on Thursday started operating the world'...  "
            ],
            "text/html": [
              "\n",
              "  <div id=\"df-e53f1ca2-b3fe-49cf-87c2-01340e9e8297\">\n",
              "    <div class=\"colab-df-container\">\n",
              "      <div>\n",
              "<style scoped>\n",
              "    .dataframe tbody tr th:only-of-type {\n",
              "        vertical-align: middle;\n",
              "    }\n",
              "\n",
              "    .dataframe tbody tr th {\n",
              "        vertical-align: top;\n",
              "    }\n",
              "\n",
              "    .dataframe thead th {\n",
              "        text-align: right;\n",
              "    }\n",
              "</style>\n",
              "<table border=\"1\" class=\"dataframe\">\n",
              "  <thead>\n",
              "    <tr style=\"text-align: right;\">\n",
              "      <th></th>\n",
              "      <th>headlines</th>\n",
              "      <th>text</th>\n",
              "    </tr>\n",
              "  </thead>\n",
              "  <tbody>\n",
              "    <tr>\n",
              "      <th>29180</th>\n",
              "      <td>AIADMK expels member for comparing reporters t...</td>\n",
              "      <td>The AIADMK has expelled IT wing member Hari Pr...</td>\n",
              "    </tr>\n",
              "    <tr>\n",
              "      <th>66686</th>\n",
              "      <td>Ram Rahim moves High Court against rape sentence</td>\n",
              "      <td>Jailed Dera Sacha Sauda chief Gurmeet Ram Rahi...</td>\n",
              "    </tr>\n",
              "    <tr>\n",
              "      <th>80423</th>\n",
              "      <td>Emirates business class crew pours champagne b...</td>\n",
              "      <td>An Emirates air hostess can be seen pouring ch...</td>\n",
              "    </tr>\n",
              "    <tr>\n",
              "      <th>16113</th>\n",
              "      <td>SC refers plea on female genital mutilation to...</td>\n",
              "      <td>The Supreme Court on Monday referred to a five...</td>\n",
              "    </tr>\n",
              "    <tr>\n",
              "      <th>62706</th>\n",
              "      <td>Drive-in theater to drive-in match: Ishant on ...</td>\n",
              "      <td>Reacting to the car invasion that stalled the ...</td>\n",
              "    </tr>\n",
              "    <tr>\n",
              "      <th>8496</th>\n",
              "      <td>Microsoft briefly surpasses Apple as world's m...</td>\n",
              "      <td>Microsoft on Monday briefly overtook Apple as ...</td>\n",
              "    </tr>\n",
              "    <tr>\n",
              "      <th>28872</th>\n",
              "      <td>I blame myself: Bobby Deol on absence from fil...</td>\n",
              "      <td>Actor Bobby Deol who made a comeback in Bollyw...</td>\n",
              "    </tr>\n",
              "    <tr>\n",
              "      <th>76666</th>\n",
              "      <td>Petrified first word of my twins will be in Ma...</td>\n",
              "      <td>Karan Johar has said that every single day he ...</td>\n",
              "    </tr>\n",
              "    <tr>\n",
              "      <th>97241</th>\n",
              "      <td>Pak singer Ghulam Ali to perform at Varanasi t...</td>\n",
              "      <td>Pakistani ghazal maestro Ghulam Ali is schedul...</td>\n",
              "    </tr>\n",
              "    <tr>\n",
              "      <th>69169</th>\n",
              "      <td>China gets the world's fastest bullet train</td>\n",
              "      <td>China on Thursday started operating the world'...</td>\n",
              "    </tr>\n",
              "  </tbody>\n",
              "</table>\n",
              "</div>\n",
              "      <button class=\"colab-df-convert\" onclick=\"convertToInteractive('df-e53f1ca2-b3fe-49cf-87c2-01340e9e8297')\"\n",
              "              title=\"Convert this dataframe to an interactive table.\"\n",
              "              style=\"display:none;\">\n",
              "        \n",
              "  <svg xmlns=\"http://www.w3.org/2000/svg\" height=\"24px\"viewBox=\"0 0 24 24\"\n",
              "       width=\"24px\">\n",
              "    <path d=\"M0 0h24v24H0V0z\" fill=\"none\"/>\n",
              "    <path d=\"M18.56 5.44l.94 2.06.94-2.06 2.06-.94-2.06-.94-.94-2.06-.94 2.06-2.06.94zm-11 1L8.5 8.5l.94-2.06 2.06-.94-2.06-.94L8.5 2.5l-.94 2.06-2.06.94zm10 10l.94 2.06.94-2.06 2.06-.94-2.06-.94-.94-2.06-.94 2.06-2.06.94z\"/><path d=\"M17.41 7.96l-1.37-1.37c-.4-.4-.92-.59-1.43-.59-.52 0-1.04.2-1.43.59L10.3 9.45l-7.72 7.72c-.78.78-.78 2.05 0 2.83L4 21.41c.39.39.9.59 1.41.59.51 0 1.02-.2 1.41-.59l7.78-7.78 2.81-2.81c.8-.78.8-2.07 0-2.86zM5.41 20L4 18.59l7.72-7.72 1.47 1.35L5.41 20z\"/>\n",
              "  </svg>\n",
              "      </button>\n",
              "      \n",
              "  <style>\n",
              "    .colab-df-container {\n",
              "      display:flex;\n",
              "      flex-wrap:wrap;\n",
              "      gap: 12px;\n",
              "    }\n",
              "\n",
              "    .colab-df-convert {\n",
              "      background-color: #E8F0FE;\n",
              "      border: none;\n",
              "      border-radius: 50%;\n",
              "      cursor: pointer;\n",
              "      display: none;\n",
              "      fill: #1967D2;\n",
              "      height: 32px;\n",
              "      padding: 0 0 0 0;\n",
              "      width: 32px;\n",
              "    }\n",
              "\n",
              "    .colab-df-convert:hover {\n",
              "      background-color: #E2EBFA;\n",
              "      box-shadow: 0px 1px 2px rgba(60, 64, 67, 0.3), 0px 1px 3px 1px rgba(60, 64, 67, 0.15);\n",
              "      fill: #174EA6;\n",
              "    }\n",
              "\n",
              "    [theme=dark] .colab-df-convert {\n",
              "      background-color: #3B4455;\n",
              "      fill: #D2E3FC;\n",
              "    }\n",
              "\n",
              "    [theme=dark] .colab-df-convert:hover {\n",
              "      background-color: #434B5C;\n",
              "      box-shadow: 0px 1px 3px 1px rgba(0, 0, 0, 0.15);\n",
              "      filter: drop-shadow(0px 1px 2px rgba(0, 0, 0, 0.3));\n",
              "      fill: #FFFFFF;\n",
              "    }\n",
              "  </style>\n",
              "\n",
              "      <script>\n",
              "        const buttonEl =\n",
              "          document.querySelector('#df-e53f1ca2-b3fe-49cf-87c2-01340e9e8297 button.colab-df-convert');\n",
              "        buttonEl.style.display =\n",
              "          google.colab.kernel.accessAllowed ? 'block' : 'none';\n",
              "\n",
              "        async function convertToInteractive(key) {\n",
              "          const element = document.querySelector('#df-e53f1ca2-b3fe-49cf-87c2-01340e9e8297');\n",
              "          const dataTable =\n",
              "            await google.colab.kernel.invokeFunction('convertToInteractive',\n",
              "                                                     [key], {});\n",
              "          if (!dataTable) return;\n",
              "\n",
              "          const docLinkHtml = 'Like what you see? Visit the ' +\n",
              "            '<a target=\"_blank\" href=https://colab.research.google.com/notebooks/data_table.ipynb>data table notebook</a>'\n",
              "            + ' to learn more about interactive tables.';\n",
              "          element.innerHTML = '';\n",
              "          dataTable['output_type'] = 'display_data';\n",
              "          await google.colab.output.renderOutput(dataTable, element);\n",
              "          const docLink = document.createElement('div');\n",
              "          docLink.innerHTML = docLinkHtml;\n",
              "          element.appendChild(docLink);\n",
              "        }\n",
              "      </script>\n",
              "    </div>\n",
              "  </div>\n",
              "  "
            ]
          },
          "metadata": {},
          "execution_count": 94
        }
      ]
    },
    {
      "cell_type": "markdown",
      "source": [
        "## **Step 2. 데이터 전처리하기 (추상적 요약)**"
      ],
      "metadata": {
        "id": "ibtrHZGeMRCQ"
      }
    },
    {
      "cell_type": "markdown",
      "source": [
        "## **2-1 데이터 정리하기**"
      ],
      "metadata": {
        "id": "KiUHlX4oST0Y"
      }
    },
    {
      "cell_type": "markdown",
      "source": [
        "**중복 데이터 유무 확인**"
      ],
      "metadata": {
        "id": "NWlsY1igQ3kF"
      }
    },
    {
      "cell_type": "code",
      "source": [
        "print('Text 열에서 중복을 배제한 유일한 샘플의 수 :', data['headlines'].nunique())\n",
        "print('Summary 열에서 중복을 배제한 유일한 샘플의 수 :', data['text'].nunique())"
      ],
      "metadata": {
        "colab": {
          "base_uri": "https://localhost:8080/"
        },
        "id": "Wwx5FmXFyiiW",
        "outputId": "4c69aa5c-c183-4d9a-bb4d-819dcff2f724"
      },
      "execution_count": null,
      "outputs": [
        {
          "output_type": "stream",
          "name": "stdout",
          "text": [
            "Text 열에서 중복을 배제한 유일한 샘플의 수 : 98280\n",
            "Summary 열에서 중복을 배제한 유일한 샘플의 수 : 98360\n"
          ]
        }
      ]
    },
    {
      "cell_type": "markdown",
      "source": [
        "**중복 샘플 제거**"
      ],
      "metadata": {
        "id": "QywM8mgnQ8NC"
      }
    },
    {
      "cell_type": "code",
      "source": [
        "# inplace=True 를 설정하면 DataFrame 타입 값을 return 하지 않고 data 내부를 직접적으로 바꿉니다\n",
        "data.drop_duplicates(subset = ['text'], inplace=True)\n",
        "print('전체 샘플수 :', (len(data)))"
      ],
      "metadata": {
        "colab": {
          "base_uri": "https://localhost:8080/"
        },
        "id": "X6Ua07TVykL6",
        "outputId": "53008fba-1b91-4807-ab27-533e707b0861"
      },
      "execution_count": null,
      "outputs": [
        {
          "output_type": "stream",
          "name": "stdout",
          "text": [
            "전체 샘플수 : 98360\n"
          ]
        }
      ]
    },
    {
      "cell_type": "markdown",
      "source": [
        "**Null 값 확인**"
      ],
      "metadata": {
        "id": "9eCA4ksCRACK"
      }
    },
    {
      "cell_type": "code",
      "source": [
        "print(data.isnull().sum())"
      ],
      "metadata": {
        "colab": {
          "base_uri": "https://localhost:8080/"
        },
        "id": "5-tYHFmCylyw",
        "outputId": "37b2bda4-6728-4b4c-d4ab-1d479d59461f"
      },
      "execution_count": null,
      "outputs": [
        {
          "output_type": "stream",
          "name": "stdout",
          "text": [
            "headlines    0\n",
            "text         0\n",
            "dtype: int64\n"
          ]
        }
      ]
    },
    {
      "cell_type": "markdown",
      "source": [
        "**Text 정규화를 위한 사전 구성**"
      ],
      "metadata": {
        "id": "VBNoTlYZRQH8"
      }
    },
    {
      "cell_type": "code",
      "source": [
        "contractions = {\"ain't\": \"is not\", \"aren't\": \"are not\",\"can't\": \"cannot\", \"'cause\": \"because\", \"could've\": \"could have\", \"couldn't\": \"could not\",\n",
        "                           \"didn't\": \"did not\",  \"doesn't\": \"does not\", \"don't\": \"do not\", \"hadn't\": \"had not\", \"hasn't\": \"has not\", \"haven't\": \"have not\",\n",
        "                           \"he'd\": \"he would\",\"he'll\": \"he will\", \"he's\": \"he is\", \"how'd\": \"how did\", \"how'd'y\": \"how do you\", \"how'll\": \"how will\", \"how's\": \"how is\",\n",
        "                           \"I'd\": \"I would\", \"I'd've\": \"I would have\", \"I'll\": \"I will\", \"I'll've\": \"I will have\",\"I'm\": \"I am\", \"I've\": \"I have\", \"i'd\": \"i would\",\n",
        "                           \"i'd've\": \"i would have\", \"i'll\": \"i will\",  \"i'll've\": \"i will have\",\"i'm\": \"i am\", \"i've\": \"i have\", \"isn't\": \"is not\", \"it'd\": \"it would\",\n",
        "                           \"it'd've\": \"it would have\", \"it'll\": \"it will\", \"it'll've\": \"it will have\",\"it's\": \"it is\", \"let's\": \"let us\", \"ma'am\": \"madam\",\n",
        "                           \"mayn't\": \"may not\", \"might've\": \"might have\",\"mightn't\": \"might not\",\"mightn't've\": \"might not have\", \"must've\": \"must have\",\n",
        "                           \"mustn't\": \"must not\", \"mustn't've\": \"must not have\", \"needn't\": \"need not\", \"needn't've\": \"need not have\",\"o'clock\": \"of the clock\",\n",
        "                           \"oughtn't\": \"ought not\", \"oughtn't've\": \"ought not have\", \"shan't\": \"shall not\", \"sha'n't\": \"shall not\", \"shan't've\": \"shall not have\",\n",
        "                           \"she'd\": \"she would\", \"she'd've\": \"she would have\", \"she'll\": \"she will\", \"she'll've\": \"she will have\", \"she's\": \"she is\",\n",
        "                           \"should've\": \"should have\", \"shouldn't\": \"should not\", \"shouldn't've\": \"should not have\", \"so've\": \"so have\",\"so's\": \"so as\",\n",
        "                           \"this's\": \"this is\",\"that'd\": \"that would\", \"that'd've\": \"that would have\", \"that's\": \"that is\", \"there'd\": \"there would\",\n",
        "                           \"there'd've\": \"there would have\", \"there's\": \"there is\", \"here's\": \"here is\",\"they'd\": \"they would\", \"they'd've\": \"they would have\",\n",
        "                           \"they'll\": \"they will\", \"they'll've\": \"they will have\", \"they're\": \"they are\", \"they've\": \"they have\", \"to've\": \"to have\",\n",
        "                           \"wasn't\": \"was not\", \"we'd\": \"we would\", \"we'd've\": \"we would have\", \"we'll\": \"we will\", \"we'll've\": \"we will have\", \"we're\": \"we are\",\n",
        "                           \"we've\": \"we have\", \"weren't\": \"were not\", \"what'll\": \"what will\", \"what'll've\": \"what will have\", \"what're\": \"what are\",\n",
        "                           \"what's\": \"what is\", \"what've\": \"what have\", \"when's\": \"when is\", \"when've\": \"when have\", \"where'd\": \"where did\", \"where's\": \"where is\",\n",
        "                           \"where've\": \"where have\", \"who'll\": \"who will\", \"who'll've\": \"who will have\", \"who's\": \"who is\", \"who've\": \"who have\",\n",
        "                           \"why's\": \"why is\", \"why've\": \"why have\", \"will've\": \"will have\", \"won't\": \"will not\", \"won't've\": \"will not have\",\n",
        "                           \"would've\": \"would have\", \"wouldn't\": \"would not\", \"wouldn't've\": \"would not have\", \"y'all\": \"you all\",\n",
        "                           \"y'all'd\": \"you all would\",\"y'all'd've\": \"you all would have\",\"y'all're\": \"you all are\",\"y'all've\": \"you all have\",\n",
        "                           \"you'd\": \"you would\", \"you'd've\": \"you would have\", \"you'll\": \"you will\", \"you'll've\": \"you will have\",\n",
        "                           \"you're\": \"you are\", \"you've\": \"you have\"}\n",
        "\n",
        "print(\"정규화 사전의 수: \", len(contractions))"
      ],
      "metadata": {
        "colab": {
          "base_uri": "https://localhost:8080/"
        },
        "id": "LcdDbyXCynON",
        "outputId": "c6274717-a0b2-4b79-aeae-2e458a51338a"
      },
      "execution_count": null,
      "outputs": [
        {
          "output_type": "stream",
          "name": "stdout",
          "text": [
            "정규화 사전의 수:  120\n"
          ]
        }
      ]
    },
    {
      "cell_type": "markdown",
      "source": [
        "**불용어 확인**"
      ],
      "metadata": {
        "id": "qBdMIzgvRY0r"
      }
    },
    {
      "cell_type": "code",
      "source": [
        "print('불용어 개수 :', len(stopwords.words('english') ))\n",
        "print(stopwords.words('english'))"
      ],
      "metadata": {
        "colab": {
          "base_uri": "https://localhost:8080/"
        },
        "id": "Uswnz_7wyo57",
        "outputId": "7a75eaa5-6352-49bc-9904-a3b7815da02a"
      },
      "execution_count": null,
      "outputs": [
        {
          "output_type": "stream",
          "name": "stdout",
          "text": [
            "불용어 개수 : 179\n",
            "['i', 'me', 'my', 'myself', 'we', 'our', 'ours', 'ourselves', 'you', \"you're\", \"you've\", \"you'll\", \"you'd\", 'your', 'yours', 'yourself', 'yourselves', 'he', 'him', 'his', 'himself', 'she', \"she's\", 'her', 'hers', 'herself', 'it', \"it's\", 'its', 'itself', 'they', 'them', 'their', 'theirs', 'themselves', 'what', 'which', 'who', 'whom', 'this', 'that', \"that'll\", 'these', 'those', 'am', 'is', 'are', 'was', 'were', 'be', 'been', 'being', 'have', 'has', 'had', 'having', 'do', 'does', 'did', 'doing', 'a', 'an', 'the', 'and', 'but', 'if', 'or', 'because', 'as', 'until', 'while', 'of', 'at', 'by', 'for', 'with', 'about', 'against', 'between', 'into', 'through', 'during', 'before', 'after', 'above', 'below', 'to', 'from', 'up', 'down', 'in', 'out', 'on', 'off', 'over', 'under', 'again', 'further', 'then', 'once', 'here', 'there', 'when', 'where', 'why', 'how', 'all', 'any', 'both', 'each', 'few', 'more', 'most', 'other', 'some', 'such', 'no', 'nor', 'not', 'only', 'own', 'same', 'so', 'than', 'too', 'very', 's', 't', 'can', 'will', 'just', 'don', \"don't\", 'should', \"should've\", 'now', 'd', 'll', 'm', 'o', 're', 've', 'y', 'ain', 'aren', \"aren't\", 'couldn', \"couldn't\", 'didn', \"didn't\", 'doesn', \"doesn't\", 'hadn', \"hadn't\", 'hasn', \"hasn't\", 'haven', \"haven't\", 'isn', \"isn't\", 'ma', 'mightn', \"mightn't\", 'mustn', \"mustn't\", 'needn', \"needn't\", 'shan', \"shan't\", 'shouldn', \"shouldn't\", 'wasn', \"wasn't\", 'weren', \"weren't\", 'won', \"won't\", 'wouldn', \"wouldn't\"]\n"
          ]
        }
      ]
    },
    {
      "cell_type": "markdown",
      "source": [
        "**데이터 전처리**<br>\n",
        "**(Text에선 불용어를 제거하고 Summary에는 남겨둔다)**"
      ],
      "metadata": {
        "id": "4E2xnvxKRdwh"
      }
    },
    {
      "cell_type": "code",
      "source": [
        "# 데이터 전처리 함수\n",
        "def preprocess_sentence(sentence, remove_stopwords=True):\n",
        "    sentence = sentence.lower() # 텍스트 소문자화\n",
        "    sentence = BeautifulSoup(sentence, \"lxml\").text # <br />, <a href = ...> 등의 html 태그 제거\n",
        "    sentence = re.sub(r'\\([^)]*\\)', '', sentence) # 괄호로 닫힌 문자열 (...) 제거 Ex) my husband (and myself!) for => my husband for\n",
        "    sentence = re.sub('\"','', sentence) # 쌍따옴표 \" 제거\n",
        "    sentence = ' '.join([contractions[t] if t in contractions else t for t in sentence.split(\" \")]) # 약어 정규화\n",
        "    sentence = re.sub(r\"'s\\b\",\"\", sentence) # 소유격 제거. Ex) roland's -> roland\n",
        "    sentence = re.sub(\"[^a-zA-Z]\", \" \", sentence) # 영어 외 문자(숫자, 특수문자 등) 공백으로 변환\n",
        "    sentence = re.sub('[m]{2,}', 'mm', sentence) # m이 3개 이상이면 2개로 변경. Ex) ummmmmmm yeah -> umm yeah\n",
        "    \n",
        "    # 불용어 제거 (Text)\n",
        "    if remove_stopwords:\n",
        "        tokens = ' '.join(word for word in sentence.split() if not word in stopwords.words('english') if len(word) > 1)\n",
        "    # 불용어 미제거 (Summary)\n",
        "    else:\n",
        "        tokens = ' '.join(word for word in sentence.split() if len(word) > 1)\n",
        "    return tokens"
      ],
      "metadata": {
        "id": "TM7MrhChyq6S"
      },
      "execution_count": null,
      "outputs": []
    },
    {
      "cell_type": "markdown",
      "source": [
        "**전처리 결과 확인**"
      ],
      "metadata": {
        "id": "iHLJub5IRwHl"
      }
    },
    {
      "cell_type": "code",
      "source": [
        "temp_headlines = 'Everything I bought was great, infact I ordered twice and the third ordered was<br />for my mother and father.'\n",
        "temp_text = 'Great way to start (or finish) the day!!!'\n",
        "\n",
        "print(\"headlines: \", preprocess_sentence(temp_headlines))\n",
        "print(\"text:\", preprocess_sentence(temp_text, False))  # 불용어를 제거하지 않습니다."
      ],
      "metadata": {
        "colab": {
          "base_uri": "https://localhost:8080/"
        },
        "id": "theQWqoKysjm",
        "outputId": "f2e2be79-6f82-477d-aa2e-0642983a8f52"
      },
      "execution_count": null,
      "outputs": [
        {
          "output_type": "stream",
          "name": "stdout",
          "text": [
            "headlines:  everything bought great infact ordered twice third ordered wasfor mother father\n",
            "text: great way to start the day\n"
          ]
        }
      ]
    },
    {
      "cell_type": "markdown",
      "source": [
        "**전체 데이터 전처리**"
      ],
      "metadata": {
        "id": "pw1OoohZRyDd"
      }
    },
    {
      "cell_type": "code",
      "source": [
        "clean_text = []\n",
        "# 전체 Text 데이터에 대한 전처리 : 10분 이상 시간이 걸릴 수 있습니다. \n",
        "for s in data['text']:\n",
        "    clean_text.append(preprocess_sentence(s))\n",
        "\n",
        "# 전처리 후 출력\n",
        "print(\"Text 전처리 후 결과: \", clean_text[:5])"
      ],
      "metadata": {
        "id": "SQWZQ1QOyuKF",
        "colab": {
          "base_uri": "https://localhost:8080/"
        },
        "outputId": "b97946c0-ca1b-4c03-d9e9-b4838b001893"
      },
      "execution_count": null,
      "outputs": [
        {
          "output_type": "stream",
          "name": "stdout",
          "text": [
            "Text 전처리 후 결과:  ['saurav kant alumnus upgrad iiit pg program machine learning artificial intelligence sr systems engineer infosys almost years work experience program upgrad degree career support helped transition data scientist tech mahindra salary hike upgrad online power learning powered lakh careers', 'kunal shah credit card bill payment platform cred gave users chance win free food swiggy one year pranav kaushik delhi techie bagged reward spending cred coins users get one cred coin per rupee bill paid used avail rewards brands like ixigo bookmyshow ubereats cult fit', 'new zealand defeated india wickets fourth odi hamilton thursday win first match five match odi series india lost international match rohit sharma captaincy consecutive victories dating back march match witnessed india getting seventh lowest total odi cricket history', 'aegon life iterm insurance plan customers enjoy tax benefits premiums paid save taxes plan provides life cover age years also customers options insure critical illnesses disability accidental death benefit rider life cover age years', 'speaking sexual harassment allegations rajkumar hirani sonam kapoor said known hirani many years true metoo movement get derailed metoo movement always believe woman case need reserve judgment added hirani accused assistant worked sanju']\n"
          ]
        }
      ]
    },
    {
      "cell_type": "code",
      "source": [
        "clean_headlines = []\n",
        "# 전체 Summary 데이터에 대한 전처리 : 5분 이상 시간이 걸릴 수 있습니다. \n",
        "for s in data['headlines']:\n",
        "    clean_headlines.append(preprocess_sentence(s, False))\n",
        "\n",
        "print(\"headlines 전처리 후 결과: \", clean_headlines[:5])"
      ],
      "metadata": {
        "id": "uPFpBQPsywA5",
        "colab": {
          "base_uri": "https://localhost:8080/"
        },
        "outputId": "f53b0f4c-4d53-4c67-df74-c47cb5d7f8ee"
      },
      "execution_count": null,
      "outputs": [
        {
          "output_type": "stream",
          "name": "stdout",
          "text": [
            "headlines 전처리 후 결과:  ['upgrad learner switches to career in ml al with salary hike', 'delhi techie wins free food from swiggy for one year on cred', 'new zealand end rohit sharma led india match winning streak', 'aegon life iterm insurance plan helps customers save tax', 'have known hirani for yrs what if metoo claims are not true sonam']\n"
          ]
        }
      ]
    },
    {
      "cell_type": "markdown",
      "source": [
        "**Null 값 확인 및 제거**"
      ],
      "metadata": {
        "id": "kDntOBQdR_QY"
      }
    },
    {
      "cell_type": "code",
      "source": [
        "data['text'] = clean_text\n",
        "data['headlines'] = clean_headlines\n",
        "\n",
        "# 빈 값을 Null 값으로 변환\n",
        "data.replace('', np.nan, inplace=True)"
      ],
      "metadata": {
        "id": "Td9p5nco5Rwz"
      },
      "execution_count": null,
      "outputs": []
    },
    {
      "cell_type": "code",
      "source": [
        "data.isnull().sum()"
      ],
      "metadata": {
        "id": "hJ6Oapfz3HGR",
        "colab": {
          "base_uri": "https://localhost:8080/"
        },
        "outputId": "34f79191-9d0a-4797-be73-6da3de79d50a"
      },
      "execution_count": null,
      "outputs": [
        {
          "output_type": "execute_result",
          "data": {
            "text/plain": [
              "headlines    0\n",
              "text         0\n",
              "dtype: int64"
            ]
          },
          "metadata": {},
          "execution_count": 105
        }
      ]
    },
    {
      "cell_type": "code",
      "source": [
        "data.dropna(axis=0, inplace=True)\n",
        "print('전체 샘플수 :',(len(data)))#데이터 전처리 함수"
      ],
      "metadata": {
        "id": "3Q1D3sQM5UaD",
        "colab": {
          "base_uri": "https://localhost:8080/"
        },
        "outputId": "f781d268-2654-46d3-ec81-7bd2304a0171"
      },
      "execution_count": null,
      "outputs": [
        {
          "output_type": "stream",
          "name": "stdout",
          "text": [
            "전체 샘플수 : 98360\n"
          ]
        }
      ]
    },
    {
      "cell_type": "markdown",
      "source": [
        "## **2-2. 훈련데이터와 테스트데이터 나누기**"
      ],
      "metadata": {
        "id": "cFadCnHySahm"
      }
    },
    {
      "cell_type": "markdown",
      "source": [
        "**샘플 최대 길이 정하기**"
      ],
      "metadata": {
        "id": "mj09lHy6SlgN"
      }
    },
    {
      "cell_type": "code",
      "source": [
        "# 길이 분포 출력\n",
        "\n",
        "text_len = [len(s.split()) for s in data['text']]\n",
        "headlines_len = [len(s.split()) for s in data['headlines']]\n",
        "\n",
        "print('텍스트의 최소 길이 : {}'.format(np.min(text_len)))\n",
        "print('텍스트의 최대 길이 : {}'.format(np.max(text_len)))\n",
        "print('텍스트의 평균 길이 : {}'.format(np.mean(text_len)))\n",
        "print('헤드라인의 최소 길이 : {}'.format(np.min(headlines_len)))\n",
        "print('헤드라인의 최대 길이 : {}'.format(np.max(headlines_len)))\n",
        "print('헤드라인의 평균 길이 : {}'.format(np.mean(headlines_len)))\n",
        "\n",
        "plt.subplot(1,2,1)\n",
        "plt.boxplot(headlines_len)\n",
        "plt.title('headlines')\n",
        "plt.subplot(1,2,2)\n",
        "plt.boxplot(text_len)\n",
        "plt.title('Text')\n",
        "plt.tight_layout()\n",
        "plt.show()\n",
        "\n",
        "plt.title('headlines')\n",
        "plt.hist(headlines_len, bins = 40)\n",
        "plt.xlabel('length of samples')\n",
        "plt.ylabel('number of samples')\n",
        "plt.show()\n",
        "\n",
        "plt.title('Text')\n",
        "plt.hist(text_len, bins = 40)\n",
        "plt.xlabel('length of samples')\n",
        "plt.ylabel('number of samples')\n",
        "plt.show()"
      ],
      "metadata": {
        "id": "otphvkAj5ZGK",
        "colab": {
          "base_uri": "https://localhost:8080/",
          "height": 964
        },
        "outputId": "4ca238f8-72f1-4953-f9ee-5f02a6a62547"
      },
      "execution_count": null,
      "outputs": [
        {
          "output_type": "stream",
          "name": "stdout",
          "text": [
            "텍스트의 최소 길이 : 1\n",
            "텍스트의 최대 길이 : 60\n",
            "텍스트의 평균 길이 : 35.09968483123221\n",
            "헤드라인의 최소 길이 : 1\n",
            "헤드라인의 최대 길이 : 16\n",
            "헤드라인의 평균 길이 : 9.299532330215534\n"
          ]
        },
        {
          "output_type": "display_data",
          "data": {
            "text/plain": [
              "<Figure size 432x288 with 2 Axes>"
            ],
            "image/png": "[encoded data removed]"
          },
          "metadata": {
            "needs_background": "light"
          }
        },
        {
          "output_type": "display_data",
          "data": {
            "text/plain": [
              "<Figure size 432x288 with 1 Axes>"
            ],
            "image/png": "[encoded data removed]"
          },
          "metadata": {
            "needs_background": "light"
          }
        },
        {
          "output_type": "display_data",
          "data": {
            "text/plain": [
              "<Figure size 432x288 with 1 Axes>"
            ],
            "image/png": "[encoded data removed]"
          },
          "metadata": {
            "needs_background": "light"
          }
        }
      ]
    },
    {
      "cell_type": "markdown",
      "source": [
        "**text, headlines 임의 길이 설정**"
      ],
      "metadata": {
        "id": "g-YB_7R6TdP8"
      }
    },
    {
      "cell_type": "code",
      "source": [
        "text_max_len = 45\n",
        "headlines_max_len = 13"
      ],
      "metadata": {
        "id": "O5ABTgN-5e0F"
      },
      "execution_count": null,
      "outputs": []
    },
    {
      "cell_type": "code",
      "source": [
        "def below_threshold_len(max_len, nested_list):\n",
        "  cnt = 0\n",
        "  for s in nested_list:\n",
        "    if(len(s.split()) <= max_len):\n",
        "        cnt = cnt + 1\n",
        "  print('전체 샘플 중 길이가 %s 이하인 샘플의 비율: %s'%(max_len, (cnt / len(nested_list))))"
      ],
      "metadata": {
        "id": "jcYkAZXy5wSz"
      },
      "execution_count": null,
      "outputs": []
    },
    {
      "cell_type": "code",
      "source": [
        "below_threshold_len(text_max_len, data['text'])\n",
        "below_threshold_len(headlines_max_len,  data['headlines'])"
      ],
      "metadata": {
        "id": "0tY8S2Ze5491",
        "colab": {
          "base_uri": "https://localhost:8080/"
        },
        "outputId": "e4d6d38a-63ef-406c-b565-b01fa381b6d0"
      },
      "execution_count": null,
      "outputs": [
        {
          "output_type": "stream",
          "name": "stdout",
          "text": [
            "전체 샘플 중 길이가 45 이하인 샘플의 비율: 0.9967771451809678\n",
            "전체 샘플 중 길이가 13 이하인 샘플의 비율: 0.9981699877999186\n"
          ]
        }
      ]
    },
    {
      "cell_type": "code",
      "source": [
        "data = data[data['text'].apply(lambda x: len(x.split()) <= text_max_len)]\n",
        "data = data[data['headlines'].apply(lambda x: len(x.split()) <= headlines_max_len)]\n",
        "print('전체 샘플수 :',(len(data)))"
      ],
      "metadata": {
        "id": "fO1BTlQr59aw",
        "colab": {
          "base_uri": "https://localhost:8080/"
        },
        "outputId": "a9fb7bdd-0191-4b31-f0e9-547b9e45c339"
      },
      "execution_count": null,
      "outputs": [
        {
          "output_type": "stream",
          "name": "stdout",
          "text": [
            "전체 샘플수 : 97863\n"
          ]
        }
      ]
    },
    {
      "cell_type": "markdown",
      "source": [
        "**시작 토큰과 종료 토큰을 추가**"
      ],
      "metadata": {
        "id": "Zk_A1f77T8Np"
      }
    },
    {
      "cell_type": "code",
      "source": [
        "#요약 데이터에는 시작 토큰과 종료 토큰을 추가한다.\n",
        "data['decoder_input'] = data['headlines'].apply(lambda x : 'sostoken '+ x)\n",
        "data['decoder_target'] = data['headlines'].apply(lambda x : x + ' eostoken')\n",
        "data.head()"
      ],
      "metadata": {
        "id": "UJZm-KkA6Fq8",
        "colab": {
          "base_uri": "https://localhost:8080/",
          "height": 337
        },
        "outputId": "a47fa9be-1668-4959-dc91-de1fa97b2aa0"
      },
      "execution_count": null,
      "outputs": [
        {
          "output_type": "execute_result",
          "data": {
            "text/plain": [
              "                                           headlines  \\\n",
              "0  upgrad learner switches to career in ml al wit...   \n",
              "1  delhi techie wins free food from swiggy for on...   \n",
              "2  new zealand end rohit sharma led india match w...   \n",
              "3  aegon life iterm insurance plan helps customer...   \n",
              "4  have known hirani for yrs what if metoo claims...   \n",
              "\n",
              "                                                text  \\\n",
              "0  saurav kant alumnus upgrad iiit pg program mac...   \n",
              "1  kunal shah credit card bill payment platform c...   \n",
              "2  new zealand defeated india wickets fourth odi ...   \n",
              "3  aegon life iterm insurance plan customers enjo...   \n",
              "4  speaking sexual harassment allegations rajkuma...   \n",
              "\n",
              "                                       decoder_input  \\\n",
              "0  sostoken upgrad learner switches to career in ...   \n",
              "1  sostoken delhi techie wins free food from swig...   \n",
              "2  sostoken new zealand end rohit sharma led indi...   \n",
              "3  sostoken aegon life iterm insurance plan helps...   \n",
              "4  sostoken have known hirani for yrs what if met...   \n",
              "\n",
              "                                      decoder_target  \n",
              "0  upgrad learner switches to career in ml al wit...  \n",
              "1  delhi techie wins free food from swiggy for on...  \n",
              "2  new zealand end rohit sharma led india match w...  \n",
              "3  aegon life iterm insurance plan helps customer...  \n",
              "4  have known hirani for yrs what if metoo claims...  "
            ],
            "text/html": [
              "\n",
              "  <div id=\"df-651ef7e1-2ca7-4039-87f2-1b9e86124eb5\">\n",
              "    <div class=\"colab-df-container\">\n",
              "      <div>\n",
              "<style scoped>\n",
              "    .dataframe tbody tr th:only-of-type {\n",
              "        vertical-align: middle;\n",
              "    }\n",
              "\n",
              "    .dataframe tbody tr th {\n",
              "        vertical-align: top;\n",
              "    }\n",
              "\n",
              "    .dataframe thead th {\n",
              "        text-align: right;\n",
              "    }\n",
              "</style>\n",
              "<table border=\"1\" class=\"dataframe\">\n",
              "  <thead>\n",
              "    <tr style=\"text-align: right;\">\n",
              "      <th></th>\n",
              "      <th>headlines</th>\n",
              "      <th>text</th>\n",
              "      <th>decoder_input</th>\n",
              "      <th>decoder_target</th>\n",
              "    </tr>\n",
              "  </thead>\n",
              "  <tbody>\n",
              "    <tr>\n",
              "      <th>0</th>\n",
              "      <td>upgrad learner switches to career in ml al wit...</td>\n",
              "      <td>saurav kant alumnus upgrad iiit pg program mac...</td>\n",
              "      <td>sostoken upgrad learner switches to career in ...</td>\n",
              "      <td>upgrad learner switches to career in ml al wit...</td>\n",
              "    </tr>\n",
              "    <tr>\n",
              "      <th>1</th>\n",
              "      <td>delhi techie wins free food from swiggy for on...</td>\n",
              "      <td>kunal shah credit card bill payment platform c...</td>\n",
              "      <td>sostoken delhi techie wins free food from swig...</td>\n",
              "      <td>delhi techie wins free food from swiggy for on...</td>\n",
              "    </tr>\n",
              "    <tr>\n",
              "      <th>2</th>\n",
              "      <td>new zealand end rohit sharma led india match w...</td>\n",
              "      <td>new zealand defeated india wickets fourth odi ...</td>\n",
              "      <td>sostoken new zealand end rohit sharma led indi...</td>\n",
              "      <td>new zealand end rohit sharma led india match w...</td>\n",
              "    </tr>\n",
              "    <tr>\n",
              "      <th>3</th>\n",
              "      <td>aegon life iterm insurance plan helps customer...</td>\n",
              "      <td>aegon life iterm insurance plan customers enjo...</td>\n",
              "      <td>sostoken aegon life iterm insurance plan helps...</td>\n",
              "      <td>aegon life iterm insurance plan helps customer...</td>\n",
              "    </tr>\n",
              "    <tr>\n",
              "      <th>4</th>\n",
              "      <td>have known hirani for yrs what if metoo claims...</td>\n",
              "      <td>speaking sexual harassment allegations rajkuma...</td>\n",
              "      <td>sostoken have known hirani for yrs what if met...</td>\n",
              "      <td>have known hirani for yrs what if metoo claims...</td>\n",
              "    </tr>\n",
              "  </tbody>\n",
              "</table>\n",
              "</div>\n",
              "      <button class=\"colab-df-convert\" onclick=\"convertToInteractive('df-651ef7e1-2ca7-4039-87f2-1b9e86124eb5')\"\n",
              "              title=\"Convert this dataframe to an interactive table.\"\n",
              "              style=\"display:none;\">\n",
              "        \n",
              "  <svg xmlns=\"http://www.w3.org/2000/svg\" height=\"24px\"viewBox=\"0 0 24 24\"\n",
              "       width=\"24px\">\n",
              "    <path d=\"M0 0h24v24H0V0z\" fill=\"none\"/>\n",
              "    <path d=\"M18.56 5.44l.94 2.06.94-2.06 2.06-.94-2.06-.94-.94-2.06-.94 2.06-2.06.94zm-11 1L8.5 8.5l.94-2.06 2.06-.94-2.06-.94L8.5 2.5l-.94 2.06-2.06.94zm10 10l.94 2.06.94-2.06 2.06-.94-2.06-.94-.94-2.06-.94 2.06-2.06.94z\"/><path d=\"M17.41 7.96l-1.37-1.37c-.4-.4-.92-.59-1.43-.59-.52 0-1.04.2-1.43.59L10.3 9.45l-7.72 7.72c-.78.78-.78 2.05 0 2.83L4 21.41c.39.39.9.59 1.41.59.51 0 1.02-.2 1.41-.59l7.78-7.78 2.81-2.81c.8-.78.8-2.07 0-2.86zM5.41 20L4 18.59l7.72-7.72 1.47 1.35L5.41 20z\"/>\n",
              "  </svg>\n",
              "      </button>\n",
              "      \n",
              "  <style>\n",
              "    .colab-df-container {\n",
              "      display:flex;\n",
              "      flex-wrap:wrap;\n",
              "      gap: 12px;\n",
              "    }\n",
              "\n",
              "    .colab-df-convert {\n",
              "      background-color: #E8F0FE;\n",
              "      border: none;\n",
              "      border-radius: 50%;\n",
              "      cursor: pointer;\n",
              "      display: none;\n",
              "      fill: #1967D2;\n",
              "      height: 32px;\n",
              "      padding: 0 0 0 0;\n",
              "      width: 32px;\n",
              "    }\n",
              "\n",
              "    .colab-df-convert:hover {\n",
              "      background-color: #E2EBFA;\n",
              "      box-shadow: 0px 1px 2px rgba(60, 64, 67, 0.3), 0px 1px 3px 1px rgba(60, 64, 67, 0.15);\n",
              "      fill: #174EA6;\n",
              "    }\n",
              "\n",
              "    [theme=dark] .colab-df-convert {\n",
              "      background-color: #3B4455;\n",
              "      fill: #D2E3FC;\n",
              "    }\n",
              "\n",
              "    [theme=dark] .colab-df-convert:hover {\n",
              "      background-color: #434B5C;\n",
              "      box-shadow: 0px 1px 3px 1px rgba(0, 0, 0, 0.15);\n",
              "      filter: drop-shadow(0px 1px 2px rgba(0, 0, 0, 0.3));\n",
              "      fill: #FFFFFF;\n",
              "    }\n",
              "  </style>\n",
              "\n",
              "      <script>\n",
              "        const buttonEl =\n",
              "          document.querySelector('#df-651ef7e1-2ca7-4039-87f2-1b9e86124eb5 button.colab-df-convert');\n",
              "        buttonEl.style.display =\n",
              "          google.colab.kernel.accessAllowed ? 'block' : 'none';\n",
              "\n",
              "        async function convertToInteractive(key) {\n",
              "          const element = document.querySelector('#df-651ef7e1-2ca7-4039-87f2-1b9e86124eb5');\n",
              "          const dataTable =\n",
              "            await google.colab.kernel.invokeFunction('convertToInteractive',\n",
              "                                                     [key], {});\n",
              "          if (!dataTable) return;\n",
              "\n",
              "          const docLinkHtml = 'Like what you see? Visit the ' +\n",
              "            '<a target=\"_blank\" href=https://colab.research.google.com/notebooks/data_table.ipynb>data table notebook</a>'\n",
              "            + ' to learn more about interactive tables.';\n",
              "          element.innerHTML = '';\n",
              "          dataTable['output_type'] = 'display_data';\n",
              "          await google.colab.output.renderOutput(dataTable, element);\n",
              "          const docLink = document.createElement('div');\n",
              "          docLink.innerHTML = docLinkHtml;\n",
              "          element.appendChild(docLink);\n",
              "        }\n",
              "      </script>\n",
              "    </div>\n",
              "  </div>\n",
              "  "
            ]
          },
          "metadata": {},
          "execution_count": 112
        }
      ]
    },
    {
      "cell_type": "markdown",
      "source": [
        "**인코더, 디코더의 입력 및 레이블을 numpy로 저장**"
      ],
      "metadata": {
        "id": "4aPumSd_UQBY"
      }
    },
    {
      "cell_type": "code",
      "source": [
        "#Numpy 타입으로 저장\n",
        "encoder_input = np.array(data['text']) # 인코더의 입력\n",
        "decoder_input = np.array(data['decoder_input']) # 디코더의 입력\n",
        "decoder_target = np.array(data['decoder_target']) # 디코더의 레이블"
      ],
      "metadata": {
        "id": "m2wYl2zd6IVN"
      },
      "execution_count": null,
      "outputs": []
    },
    {
      "cell_type": "markdown",
      "source": [
        "**훈련-테스트 데이터 분리하기**<br>\n",
        "**encoder_input과 크기와 형태가 같은 순서가 섞인 정수 시퀀스 만들기&섞기**"
      ],
      "metadata": {
        "id": "XALvb5XzUghx"
      }
    },
    {
      "cell_type": "code",
      "source": [
        "#encoder_input과 크기와 형태가 같은 순서가 섞인 정수 시퀀스 만들고, 섞기\n",
        "indices = np.arange(encoder_input.shape[0])\n",
        "np.random.shuffle(indices)\n",
        "print(indices)"
      ],
      "metadata": {
        "id": "KrIlKbZu6Nbj",
        "colab": {
          "base_uri": "https://localhost:8080/"
        },
        "outputId": "23b4cdbf-bbee-4b48-9bfb-e9741e48ba44"
      },
      "execution_count": null,
      "outputs": [
        {
          "output_type": "stream",
          "name": "stdout",
          "text": [
            "[ 3137 86283 60061 ... 35230 12443 63081]\n"
          ]
        }
      ]
    },
    {
      "cell_type": "code",
      "source": [
        "#데이터 섞기\n",
        "encoder_input = encoder_input[indices]\n",
        "decoder_input = decoder_input[indices]\n",
        "decoder_target = decoder_target[indices]"
      ],
      "metadata": {
        "id": "XVW0tkZZ6SMr"
      },
      "execution_count": null,
      "outputs": []
    },
    {
      "cell_type": "markdown",
      "source": [
        "**8:2로 훈련 데이터와 테스트 데이터로 분리 및 0.2를 곱해서 데이터 크기 정의하기**"
      ],
      "metadata": {
        "id": "ZBS1CHINVBo_"
      }
    },
    {
      "cell_type": "code",
      "source": [
        "n_of_val = int(len(encoder_input)*0.2)\n",
        "print('테스트 데이터의 수 :',n_of_val)"
      ],
      "metadata": {
        "id": "ah27b3t56aSv",
        "colab": {
          "base_uri": "https://localhost:8080/"
        },
        "outputId": "fead3263-33d2-43d8-88b0-496a31eb9e66"
      },
      "execution_count": null,
      "outputs": [
        {
          "output_type": "stream",
          "name": "stdout",
          "text": [
            "테스트 데이터의 수 : 19572\n"
          ]
        }
      ]
    },
    {
      "cell_type": "markdown",
      "source": [
        "**훈련 데이터와 테스트 데이터 Split**"
      ],
      "metadata": {
        "id": "CLYI54MSVOHo"
      }
    },
    {
      "cell_type": "code",
      "source": [
        "encoder_input_train = encoder_input[:-n_of_val]\n",
        "decoder_input_train = decoder_input[:-n_of_val]\n",
        "decoder_target_train = decoder_target[:-n_of_val]\n",
        "\n",
        "encoder_input_test = encoder_input[-n_of_val:]\n",
        "decoder_input_test = decoder_input[-n_of_val:]\n",
        "decoder_target_test = decoder_target[-n_of_val:]\n",
        "\n",
        "print('훈련 데이터의 개수 :', len(encoder_input_train))\n",
        "print('훈련 레이블의 개수 :',len(decoder_input_train))\n",
        "print('테스트 데이터의 개수 :',len(encoder_input_test))\n",
        "print('테스트 레이블의 개수 :',len(decoder_input_test))"
      ],
      "metadata": {
        "id": "vjt4VEkZ6ddv",
        "colab": {
          "base_uri": "https://localhost:8080/"
        },
        "outputId": "2de2dc32-d194-4c8f-a4c2-0c19a6fd429c"
      },
      "execution_count": null,
      "outputs": [
        {
          "output_type": "stream",
          "name": "stdout",
          "text": [
            "훈련 데이터의 개수 : 78291\n",
            "훈련 레이블의 개수 : 78291\n",
            "테스트 데이터의 개수 : 19572\n",
            "테스트 레이블의 개수 : 19572\n"
          ]
        }
      ]
    },
    {
      "cell_type": "markdown",
      "source": [
        "##**2-3 정수 인코딩**"
      ],
      "metadata": {
        "id": "4yeSeI6cVnqr"
      }
    },
    {
      "cell_type": "markdown",
      "source": [
        "**토크나이저 정의 및 입력 데이터로부터 단어 집합 생성**"
      ],
      "metadata": {
        "id": "ecWk03bgV1KU"
      }
    },
    {
      "cell_type": "code",
      "source": [
        "src_tokenizer = Tokenizer()\n",
        "src_tokenizer.fit_on_texts(encoder_input_train)"
      ],
      "metadata": {
        "id": "0nWbpWJ46iIB"
      },
      "execution_count": null,
      "outputs": []
    },
    {
      "cell_type": "markdown",
      "source": [
        "단어들의 통계 정보 확인"
      ],
      "metadata": {
        "id": "TWcX5s3uWQGm"
      }
    },
    {
      "cell_type": "code",
      "source": [
        "threshold = 7\n",
        "total_cnt = len(src_tokenizer.word_index) # 단어의 수\n",
        "rare_cnt = 0 # 등장 빈도수가 threshold보다 작은 단어의 개수를 카운트\n",
        "total_freq = 0 # 훈련 데이터의 전체 단어 빈도수 총 합\n",
        "rare_freq = 0 # 등장 빈도수가 threshold보다 작은 단어의 등장 빈도수의 총 합\n",
        "\n",
        "# 단어와 빈도수의 쌍(pair)을 key와 value로 받는다.\n",
        "for key, value in src_tokenizer.word_counts.items():\n",
        "    total_freq = total_freq + value\n",
        "\n",
        "    # 단어의 등장 빈도수가 threshold보다 작으면\n",
        "    if(value < threshold):\n",
        "        rare_cnt = rare_cnt + 1\n",
        "        rare_freq = rare_freq + value\n",
        "\n",
        "print('단어 집합(vocabulary)의 크기 :', total_cnt)\n",
        "print('등장 빈도가 %s번 이하인 희귀 단어의 수: %s'%(threshold - 1, rare_cnt))\n",
        "print('단어 집합에서 희귀 단어를 제외시킬 경우의 단어 집합의 크기 %s'%(total_cnt - rare_cnt))\n",
        "print(\"단어 집합에서 희귀 단어의 비율:\", (rare_cnt / total_cnt)*100)\n",
        "print(\"전체 등장 빈도에서 희귀 단어 등장 빈도 비율:\", (rare_freq / total_freq)*100)"
      ],
      "metadata": {
        "id": "Irp1DLbQ6tdn",
        "colab": {
          "base_uri": "https://localhost:8080/"
        },
        "outputId": "711a47c5-679e-4372-dd08-0092630817eb"
      },
      "execution_count": null,
      "outputs": [
        {
          "output_type": "stream",
          "name": "stdout",
          "text": [
            "단어 집합(vocabulary)의 크기 : 69296\n",
            "등장 빈도가 6번 이하인 희귀 단어의 수: 47207\n",
            "단어 집합에서 희귀 단어를 제외시킬 경우의 단어 집합의 크기 22089\n",
            "단어 집합에서 희귀 단어의 비율: 68.12370122373585\n",
            "전체 등장 빈도에서 희귀 단어 등장 빈도 비율: 3.497099077249021\n"
          ]
        }
      ]
    },
    {
      "cell_type": "markdown",
      "source": [
        "**단어 집합 새로 만들기**"
      ],
      "metadata": {
        "id": "renhwyorWYOb"
      }
    },
    {
      "cell_type": "code",
      "source": [
        "src_vocab = 8000\n",
        "src_tokenizer = Tokenizer(num_words = src_vocab) # 단어 집합의 크기를 8,000으로 제한\n",
        "src_tokenizer.fit_on_texts(encoder_input_train) # 단어 집합 재생성."
      ],
      "metadata": {
        "id": "1HSfgi6160Uz"
      },
      "execution_count": null,
      "outputs": []
    },
    {
      "cell_type": "markdown",
      "source": [
        "**텍스트 시퀀스를 정수 시퀀스로 변환**"
      ],
      "metadata": {
        "id": "H2YzXA3WWii4"
      }
    },
    {
      "cell_type": "code",
      "source": [
        "encoder_input_train = src_tokenizer.texts_to_sequences(encoder_input_train) \n",
        "encoder_input_test = src_tokenizer.texts_to_sequences(encoder_input_test)\n",
        "\n",
        "#잘 진행되었는지 샘플 출력\n",
        "print(encoder_input_train[:3])"
      ],
      "metadata": {
        "id": "8lHhek307AlO",
        "colab": {
          "base_uri": "https://localhost:8080/"
        },
        "outputId": "6ed949fa-f85a-4937-fb1c-4aa4054ee3c1"
      },
      "execution_count": null,
      "outputs": [
        {
          "output_type": "stream",
          "name": "stdout",
          "text": [
            "[[172, 90, 10, 115, 17, 2327, 160, 5357, 1522, 224, 1473, 60, 125, 255, 1709, 96, 160, 227, 1522, 5072, 295, 272, 187, 485, 878, 164], [719, 457, 471, 269, 3902, 18, 4497, 284, 5692, 54, 203, 203, 656, 118, 284, 5692, 186, 2063, 5530, 2079, 764, 406, 45, 471, 239, 3212, 203, 118, 222, 5692, 332, 606, 532], [773, 23, 68, 1174, 751, 12, 4432, 3782, 2, 135, 613, 497, 481, 693, 363, 25, 120, 5693, 61, 120, 5873, 235, 608, 1344, 621, 73, 1754, 20, 200, 41, 320, 337, 24, 1246]]\n"
          ]
        }
      ]
    },
    {
      "cell_type": "markdown",
      "source": [
        "**headlines 토크나이징 및 통계정보 확인** "
      ],
      "metadata": {
        "id": "ieUs5V_nWwnY"
      }
    },
    {
      "cell_type": "code",
      "source": [
        "tar_tokenizer = Tokenizer()\n",
        "tar_tokenizer.fit_on_texts(decoder_input_train)"
      ],
      "metadata": {
        "id": "-0kXFgDr7GA6"
      },
      "execution_count": null,
      "outputs": []
    },
    {
      "cell_type": "code",
      "source": [
        "threshold = 6\n",
        "total_cnt = len(tar_tokenizer.word_index) # 단어의 수\n",
        "rare_cnt = 0 # 등장 빈도수가 threshold보다 작은 단어의 개수를 카운트\n",
        "total_freq = 0 # 훈련 데이터의 전체 단어 빈도수 총 합\n",
        "rare_freq = 0 # 등장 빈도수가 threshold보다 작은 단어의 등장 빈도수의 총 합\n",
        "\n",
        "# 단어와 빈도수의 쌍(pair)을 key와 value로 받는다.\n",
        "for key, value in tar_tokenizer.word_counts.items():\n",
        "    total_freq = total_freq + value\n",
        "\n",
        "    # 단어의 등장 빈도수가 threshold보다 작으면\n",
        "    if(value < threshold):\n",
        "        rare_cnt = rare_cnt + 1\n",
        "        rare_freq = rare_freq + value\n",
        "\n",
        "print('단어 집합(vocabulary)의 크기 :',total_cnt)\n",
        "print('등장 빈도가 %s번 이하인 희귀 단어의 수: %s'%(threshold - 1, rare_cnt))\n",
        "print('단어 집합에서 희귀 단어를 제외시킬 경우의 단어 집합의 크기 %s'%(total_cnt - rare_cnt))\n",
        "print(\"단어 집합에서 희귀 단어의 비율:\", (rare_cnt / total_cnt)*100)\n",
        "print(\"전체 등장 빈도에서 희귀 단어 등장 빈도 비율:\", (rare_freq / total_freq)*100)"
      ],
      "metadata": {
        "id": "t25cW2HM7Nvm",
        "colab": {
          "base_uri": "https://localhost:8080/"
        },
        "outputId": "d2ea978e-6287-4c90-849c-5a2f08ee45b3"
      },
      "execution_count": null,
      "outputs": [
        {
          "output_type": "stream",
          "name": "stdout",
          "text": [
            "단어 집합(vocabulary)의 크기 : 29971\n",
            "등장 빈도가 5번 이하인 희귀 단어의 수: 19590\n",
            "단어 집합에서 희귀 단어를 제외시킬 경우의 단어 집합의 크기 10381\n",
            "단어 집합에서 희귀 단어의 비율: 65.36318441159787\n",
            "전체 등장 빈도에서 희귀 단어 등장 빈도 비율: 4.6595288972940505\n"
          ]
        }
      ]
    },
    {
      "cell_type": "markdown",
      "source": [
        "**단어 집합 새로 만들고 정수로 변환**"
      ],
      "metadata": {
        "id": "M-a_WTtUXYiX"
      }
    },
    {
      "cell_type": "code",
      "source": [
        "tar_vocab = 2000\n",
        "tar_tokenizer = Tokenizer(num_words=tar_vocab) \n",
        "tar_tokenizer.fit_on_texts(decoder_input_train)\n",
        "tar_tokenizer.fit_on_texts(decoder_target_train)\n",
        "\n",
        "# 텍스트 시퀀스를 정수 시퀀스로 변환\n",
        "decoder_input_train = tar_tokenizer.texts_to_sequences(decoder_input_train) \n",
        "decoder_target_train = tar_tokenizer.texts_to_sequences(decoder_target_train)\n",
        "decoder_input_test = tar_tokenizer.texts_to_sequences(decoder_input_test)\n",
        "decoder_target_test = tar_tokenizer.texts_to_sequences(decoder_target_test)\n",
        "\n",
        "# 잘 변환되었는지 확인\n",
        "print('input')\n",
        "print('input ',decoder_input_train[:5])\n",
        "print('target')\n",
        "print('decoder ',decoder_target_train[:5])"
      ],
      "metadata": {
        "id": "7NQOSR5h7VGV",
        "colab": {
          "base_uri": "https://localhost:8080/"
        },
        "outputId": "7c9d0f0f-ba38-4c23-ca63-512fe642f95c"
      },
      "execution_count": null,
      "outputs": [
        {
          "output_type": "stream",
          "name": "stdout",
          "text": [
            "input\n",
            "input  [[1, 75, 11, 126, 95, 973, 4, 725], [1, 260, 32, 1708, 1335, 339, 17, 234], [1, 454, 133, 766, 3, 5, 178, 1174], [1, 1555, 72, 89, 1050], [1, 484, 9, 49, 1865, 7, 34, 659, 1008]]\n",
            "target\n",
            "decoder  [[75, 11, 126, 95, 973, 4, 725, 2], [260, 32, 1708, 1335, 339, 17, 234, 2], [454, 133, 766, 3, 5, 178, 1174, 2], [1555, 72, 89, 1050, 2], [484, 9, 49, 1865, 7, 34, 659, 1008, 2]]\n"
          ]
        }
      ]
    },
    {
      "cell_type": "markdown",
      "source": [
        "**삭제할 데이터 정의**"
      ],
      "metadata": {
        "id": "AIv8Cv4Ya-6k"
      }
    },
    {
      "cell_type": "code",
      "source": [
        "drop_train = [index for index, sentence in enumerate(decoder_input_train) if len(sentence) == 1]\n",
        "drop_test = [index for index, sentence in enumerate(decoder_input_test) if len(sentence) == 1]\n",
        "\n",
        "print('삭제할 훈련 데이터의 개수 :', len(drop_train))\n",
        "print('삭제할 테스트 데이터의 개수 :', len(drop_test))\n",
        "\n",
        "encoder_input_train = [sentence for index, sentence in enumerate(encoder_input_train) if index not in drop_train]\n",
        "decoder_input_train = [sentence for index, sentence in enumerate(decoder_input_train) if index not in drop_train]\n",
        "decoder_target_train = [sentence for index, sentence in enumerate(decoder_target_train) if index not in drop_train]\n",
        "\n",
        "encoder_input_test = [sentence for index, sentence in enumerate(encoder_input_test) if index not in drop_test]\n",
        "decoder_input_test = [sentence for index, sentence in enumerate(decoder_input_test) if index not in drop_test]\n",
        "decoder_target_test = [sentence for index, sentence in enumerate(decoder_target_test) if index not in drop_test]\n",
        "\n",
        "print('훈련 데이터의 개수 :', len(encoder_input_train))\n",
        "print('훈련 레이블의 개수 :', len(decoder_input_train))\n",
        "print('테스트 데이터의 개수 :', len(encoder_input_test))\n",
        "print('테스트 레이블의 개수 :', len(decoder_input_test))"
      ],
      "metadata": {
        "id": "V4C-u0qU7YO4",
        "colab": {
          "base_uri": "https://localhost:8080/"
        },
        "outputId": "f7336e66-9c11-4e16-b341-b50db5743cb0"
      },
      "execution_count": null,
      "outputs": [
        {
          "output_type": "stream",
          "name": "stdout",
          "text": [
            "삭제할 훈련 데이터의 개수 : 11\n",
            "삭제할 테스트 데이터의 개수 : 3\n",
            "훈련 데이터의 개수 : 78280\n",
            "훈련 레이블의 개수 : 78280\n",
            "테스트 데이터의 개수 : 19569\n",
            "테스트 레이블의 개수 : 19569\n"
          ]
        }
      ]
    },
    {
      "cell_type": "markdown",
      "source": [
        "**패딩하기**"
      ],
      "metadata": {
        "id": "Pnieg_NF7sJL"
      }
    },
    {
      "cell_type": "code",
      "source": [
        "encoder_input_train = pad_sequences(encoder_input_train, maxlen = text_max_len, padding='post')\n",
        "encoder_input_test = pad_sequences(encoder_input_test, maxlen = text_max_len, padding='post')\n",
        "decoder_input_train = pad_sequences(decoder_input_train, maxlen = headlines_max_len, padding='post')\n",
        "decoder_target_train = pad_sequences(decoder_target_train, maxlen = headlines_max_len, padding='post')\n",
        "decoder_input_test = pad_sequences(decoder_input_test, maxlen = headlines_max_len, padding='post')\n",
        "decoder_target_test = pad_sequences(decoder_target_test, maxlen = headlines_max_len, padding='post')"
      ],
      "metadata": {
        "id": "owIcV93I7mIV"
      },
      "execution_count": null,
      "outputs": []
    },
    {
      "cell_type": "markdown",
      "source": [
        "## **Step 3. 어텐션 메커니즘 사용하기 (추상적 요약)**"
      ],
      "metadata": {
        "id": "P1ToPtPtbW6V"
      }
    },
    {
      "cell_type": "markdown",
      "source": [
        "##**3-1. 모델 설계**"
      ],
      "metadata": {
        "id": "ZwccPDan7yGA"
      }
    },
    {
      "cell_type": "code",
      "source": [
        "from tensorflow.keras.layers import Input, LSTM, Embedding, Dense, Concatenate, TimeDistributed\n",
        "from tensorflow.keras.models import Model\n",
        "from tensorflow.keras.callbacks import EarlyStopping, ModelCheckpoint\n",
        "\n",
        "\n",
        "# 인코더 설계 시작\n",
        "embedding_dim = 128\n",
        "hidden_size = 256\n",
        "\n",
        "# 인코더\n",
        "encoder_inputs = Input(shape=(text_max_len,))\n",
        "\n",
        "# 인코더의 임베딩 층\n",
        "enc_emb = Embedding(src_vocab, embedding_dim)(encoder_inputs)\n",
        "\n",
        "# 인코더의 LSTM 1\n",
        "# encoder_lstm1 = LSTM(hidden_size, return_sequences=True, return_state=True ,dropout = 0.4, recurrent_dropout = 0.4)\n",
        "encoder_lstm1 = LSTM(hidden_size, return_sequences=True, return_state=True ,dropout = 0.4)\n",
        "encoder_output1, state_h1, state_c1 = encoder_lstm1(enc_emb)\n",
        "\n",
        "# 인코더의 LSTM 2\n",
        "# encoder_lstm2 = LSTM(hidden_size, return_sequences=True, return_state=True, dropout=0.4, recurrent_dropout=0.4)\n",
        "encoder_lstm2 = LSTM(hidden_size, return_sequences=True, return_state=True, dropout=0.4)\n",
        "encoder_output2, state_h2, state_c2 = encoder_lstm2(encoder_output1)\n",
        "\n",
        "# 인코더의 LSTM 3\n",
        "# encoder_lstm3 = LSTM(hidden_size, return_state=True, return_sequences=True, dropout=0.4, recurrent_dropout=0.4)\n",
        "encoder_lstm3 = LSTM(hidden_size, return_state=True, return_sequences=True, dropout=0.4)\n",
        "encoder_outputs, state_h, state_c= encoder_lstm3(encoder_output2)"
      ],
      "metadata": {
        "id": "iQZ_3EfB73Kf"
      },
      "execution_count": null,
      "outputs": []
    },
    {
      "cell_type": "code",
      "source": [
        "# 디코더 설계\n",
        "decoder_inputs = Input(shape=(None,))\n",
        "\n",
        "# 디코더의 임베딩 층\n",
        "dec_emb_layer = Embedding(tar_vocab, embedding_dim)\n",
        "dec_emb = dec_emb_layer(decoder_inputs)\n",
        "\n",
        "# 디코더의 LSTM\n",
        "# decoder_lstm = LSTM(hidden_size, return_sequences=True, return_state=True, dropout=0.4, recurrent_dropout=0.2)\n",
        "decoder_lstm = LSTM(hidden_size, return_sequences=True, return_state=True, dropout=0.4)\n",
        "decoder_outputs, _, _ = decoder_lstm(dec_emb, initial_state=[state_h, state_c])"
      ],
      "metadata": {
        "id": "cR_MaXi28GN6"
      },
      "execution_count": null,
      "outputs": []
    },
    {
      "cell_type": "code",
      "source": [
        "# 디코더의 출력층\n",
        "decoder_softmax_layer = Dense(tar_vocab, activation='softmax')\n",
        "decoder_softmax_outputs = decoder_softmax_layer(decoder_outputs) \n",
        "\n",
        "# 모델 정의\n",
        "model = Model([encoder_inputs, decoder_inputs], decoder_softmax_outputs)\n",
        "model.summary()"
      ],
      "metadata": {
        "id": "yq8xcVP08OrK",
        "colab": {
          "base_uri": "https://localhost:8080/"
        },
        "outputId": "c3365661-55a9-4362-e9ff-44eaaac2562b"
      },
      "execution_count": null,
      "outputs": [
        {
          "output_type": "stream",
          "name": "stdout",
          "text": [
            "Model: \"model_4\"\n",
            "__________________________________________________________________________________________________\n",
            " Layer (type)                   Output Shape         Param #     Connected to                     \n",
            "==================================================================================================\n",
            " input_5 (InputLayer)           [(None, 45)]         0           []                               \n",
            "                                                                                                  \n",
            " embedding_4 (Embedding)        (None, 45, 128)      1024000     ['input_5[0][0]']                \n",
            "                                                                                                  \n",
            " lstm_8 (LSTM)                  [(None, 45, 256),    394240      ['embedding_4[0][0]']            \n",
            "                                 (None, 256),                                                     \n",
            "                                 (None, 256)]                                                     \n",
            "                                                                                                  \n",
            " input_6 (InputLayer)           [(None, None)]       0           []                               \n",
            "                                                                                                  \n",
            " lstm_9 (LSTM)                  [(None, 45, 256),    525312      ['lstm_8[0][0]']                 \n",
            "                                 (None, 256),                                                     \n",
            "                                 (None, 256)]                                                     \n",
            "                                                                                                  \n",
            " embedding_5 (Embedding)        (None, None, 128)    256000      ['input_6[0][0]']                \n",
            "                                                                                                  \n",
            " lstm_10 (LSTM)                 [(None, 45, 256),    525312      ['lstm_9[0][0]']                 \n",
            "                                 (None, 256),                                                     \n",
            "                                 (None, 256)]                                                     \n",
            "                                                                                                  \n",
            " lstm_11 (LSTM)                 [(None, None, 256),  394240      ['embedding_5[0][0]',            \n",
            "                                 (None, 256),                     'lstm_10[0][1]',                \n",
            "                                 (None, 256)]                     'lstm_10[0][2]']                \n",
            "                                                                                                  \n",
            " dense_4 (Dense)                (None, None, 2000)   514000      ['lstm_11[0][0]']                \n",
            "                                                                                                  \n",
            "==================================================================================================\n",
            "Total params: 3,633,104\n",
            "Trainable params: 3,633,104\n",
            "Non-trainable params: 0\n",
            "__________________________________________________________________________________________________\n"
          ]
        }
      ]
    },
    {
      "cell_type": "code",
      "source": [
        "from tensorflow.keras.layers import AdditiveAttention\n",
        "\n",
        "# 어텐션 층(어텐션 함수)\n",
        "attn_layer = AdditiveAttention(name='attention_layer')\n",
        "\n",
        "# 인코더와 디코더의 모든 time step의 hidden state를 어텐션 층에 전달하고 결과를 리턴\n",
        "attn_out = attn_layer([decoder_outputs, encoder_outputs])\n",
        "\n",
        "\n",
        "# 어텐션의 결과와 디코더의 hidden state들을 연결\n",
        "decoder_concat_input = Concatenate(axis=-1, name='concat_layer')([decoder_outputs, attn_out])\n",
        "\n",
        "# 디코더의 출력층\n",
        "decoder_softmax_layer = Dense(tar_vocab, activation='softmax')\n",
        "decoder_softmax_outputs = decoder_softmax_layer(decoder_concat_input)\n",
        "\n",
        "# 모델 정의\n",
        "model = Model([encoder_inputs, decoder_inputs], decoder_softmax_outputs)\n",
        "model.summary()"
      ],
      "metadata": {
        "id": "dlVt1WrP8Q5O",
        "colab": {
          "base_uri": "https://localhost:8080/"
        },
        "outputId": "f173019d-4858-4cc8-8ce6-58b044c559cc"
      },
      "execution_count": null,
      "outputs": [
        {
          "output_type": "stream",
          "name": "stdout",
          "text": [
            "Model: \"model_5\"\n",
            "__________________________________________________________________________________________________\n",
            " Layer (type)                   Output Shape         Param #     Connected to                     \n",
            "==================================================================================================\n",
            " input_5 (InputLayer)           [(None, 45)]         0           []                               \n",
            "                                                                                                  \n",
            " embedding_4 (Embedding)        (None, 45, 128)      1024000     ['input_5[0][0]']                \n",
            "                                                                                                  \n",
            " lstm_8 (LSTM)                  [(None, 45, 256),    394240      ['embedding_4[0][0]']            \n",
            "                                 (None, 256),                                                     \n",
            "                                 (None, 256)]                                                     \n",
            "                                                                                                  \n",
            " input_6 (InputLayer)           [(None, None)]       0           []                               \n",
            "                                                                                                  \n",
            " lstm_9 (LSTM)                  [(None, 45, 256),    525312      ['lstm_8[0][0]']                 \n",
            "                                 (None, 256),                                                     \n",
            "                                 (None, 256)]                                                     \n",
            "                                                                                                  \n",
            " embedding_5 (Embedding)        (None, None, 128)    256000      ['input_6[0][0]']                \n",
            "                                                                                                  \n",
            " lstm_10 (LSTM)                 [(None, 45, 256),    525312      ['lstm_9[0][0]']                 \n",
            "                                 (None, 256),                                                     \n",
            "                                 (None, 256)]                                                     \n",
            "                                                                                                  \n",
            " lstm_11 (LSTM)                 [(None, None, 256),  394240      ['embedding_5[0][0]',            \n",
            "                                 (None, 256),                     'lstm_10[0][1]',                \n",
            "                                 (None, 256)]                     'lstm_10[0][2]']                \n",
            "                                                                                                  \n",
            " attention_layer (AdditiveAtten  (None, None, 256)   256         ['lstm_11[0][0]',                \n",
            " tion)                                                            'lstm_10[0][0]']                \n",
            "                                                                                                  \n",
            " concat_layer (Concatenate)     (None, None, 512)    0           ['lstm_11[0][0]',                \n",
            "                                                                  'attention_layer[0][0]']        \n",
            "                                                                                                  \n",
            " dense_5 (Dense)                (None, None, 2000)   1026000     ['concat_layer[0][0]']           \n",
            "                                                                                                  \n",
            "==================================================================================================\n",
            "Total params: 4,145,360\n",
            "Trainable params: 4,145,360\n",
            "Non-trainable params: 0\n",
            "__________________________________________________________________________________________________\n"
          ]
        }
      ]
    },
    {
      "cell_type": "markdown",
      "source": [
        "## **3-2. 모델 훈련하기**"
      ],
      "metadata": {
        "id": "frD59kF7-0Cz"
      }
    },
    {
      "cell_type": "code",
      "source": [
        "model.compile(optimizer='rmsprop', loss='sparse_categorical_crossentropy')\n",
        "es = EarlyStopping(monitor='val_loss', patience=2, verbose=1)\n",
        "history = model.fit(x=[encoder_input_train, decoder_input_train], y=decoder_target_train, \\\n",
        "          validation_data=([encoder_input_test, decoder_input_test], decoder_target_test),\n",
        "          batch_size=256, callbacks=[es], epochs=50)"
      ],
      "metadata": {
        "id": "czsqe9mqMGpY",
        "colab": {
          "base_uri": "https://localhost:8080/"
        },
        "outputId": "118d1f1f-4b8a-4aa4-af9c-12aef5be4f66"
      },
      "execution_count": null,
      "outputs": [
        {
          "output_type": "stream",
          "name": "stdout",
          "text": [
            "Epoch 1/50\n",
            "306/306 [==============================] - 25s 63ms/step - loss: 3.6010 - val_loss: 3.3127\n",
            "Epoch 2/50\n",
            "306/306 [==============================] - 18s 59ms/step - loss: 3.1816 - val_loss: 3.0179\n",
            "Epoch 3/50\n",
            "306/306 [==============================] - 18s 59ms/step - loss: 2.9115 - val_loss: 2.8041\n",
            "Epoch 4/50\n",
            "306/306 [==============================] - 18s 59ms/step - loss: 2.7231 - val_loss: 2.6734\n",
            "Epoch 5/50\n",
            "306/306 [==============================] - 18s 59ms/step - loss: 2.5907 - val_loss: 2.5723\n",
            "Epoch 6/50\n",
            "306/306 [==============================] - 18s 59ms/step - loss: 2.4871 - val_loss: 2.5031\n",
            "Epoch 7/50\n",
            "306/306 [==============================] - 18s 58ms/step - loss: 2.3998 - val_loss: 2.4485\n",
            "Epoch 8/50\n",
            "306/306 [==============================] - 18s 59ms/step - loss: 2.3259 - val_loss: 2.4018\n",
            "Epoch 9/50\n",
            "306/306 [==============================] - 18s 59ms/step - loss: 2.2619 - val_loss: 2.3643\n",
            "Epoch 10/50\n",
            "306/306 [==============================] - 18s 59ms/step - loss: 2.2038 - val_loss: 2.3392\n",
            "Epoch 11/50\n",
            "306/306 [==============================] - 18s 58ms/step - loss: 2.1532 - val_loss: 2.3081\n",
            "Epoch 12/50\n",
            "306/306 [==============================] - 18s 58ms/step - loss: 2.1061 - val_loss: 2.2927\n",
            "Epoch 13/50\n",
            "306/306 [==============================] - 18s 59ms/step - loss: 2.0639 - val_loss: 2.2769\n",
            "Epoch 14/50\n",
            "306/306 [==============================] - 18s 59ms/step - loss: 2.0243 - val_loss: 2.2633\n",
            "Epoch 15/50\n",
            "306/306 [==============================] - 18s 59ms/step - loss: 1.9872 - val_loss: 2.2519\n",
            "Epoch 16/50\n",
            "306/306 [==============================] - 18s 59ms/step - loss: 1.9538 - val_loss: 2.2447\n",
            "Epoch 17/50\n",
            "306/306 [==============================] - 18s 59ms/step - loss: 1.9224 - val_loss: 2.2390\n",
            "Epoch 18/50\n",
            "306/306 [==============================] - 18s 58ms/step - loss: 1.8937 - val_loss: 2.2325\n",
            "Epoch 19/50\n",
            "306/306 [==============================] - 18s 59ms/step - loss: 1.8655 - val_loss: 2.2271\n",
            "Epoch 20/50\n",
            "306/306 [==============================] - 18s 59ms/step - loss: 1.8395 - val_loss: 2.2283\n",
            "Epoch 21/50\n",
            "306/306 [==============================] - 18s 59ms/step - loss: 1.8153 - val_loss: 2.2232\n",
            "Epoch 22/50\n",
            "306/306 [==============================] - 18s 59ms/step - loss: 1.7928 - val_loss: 2.2252\n",
            "Epoch 23/50\n",
            "306/306 [==============================] - 18s 59ms/step - loss: 1.7708 - val_loss: 2.2228\n",
            "Epoch 24/50\n",
            "306/306 [==============================] - 18s 59ms/step - loss: 1.7499 - val_loss: 2.2268\n",
            "Epoch 25/50\n",
            "306/306 [==============================] - 18s 59ms/step - loss: 1.7300 - val_loss: 2.2273\n",
            "Epoch 25: early stopping\n"
          ]
        }
      ]
    },
    {
      "cell_type": "markdown",
      "source": [
        "**과정 시각화**"
      ],
      "metadata": {
        "id": "gqO8k0WqcFY4"
      }
    },
    {
      "cell_type": "code",
      "source": [
        "plt.plot(history.history['loss'], label='train')\n",
        "plt.plot(history.history['val_loss'], label='test')\n",
        "plt.legend()\n",
        "plt.show()"
      ],
      "metadata": {
        "id": "XporEqi0AvCm",
        "colab": {
          "base_uri": "https://localhost:8080/",
          "height": 265
        },
        "outputId": "02dcf273-e860-4de6-d98e-bf79bc7e103f"
      },
      "execution_count": null,
      "outputs": [
        {
          "output_type": "display_data",
          "data": {
            "text/plain": [
              "<Figure size 432x288 with 1 Axes>"
            ],
            "image/png": "[encoded data removed]"
          },
          "metadata": {
            "needs_background": "light"
          }
        }
      ]
    },
    {
      "cell_type": "markdown",
      "source": [
        "##**3-3. 인퍼런스 모델 구현**"
      ],
      "metadata": {
        "id": "nQdJYDItcSRO"
      }
    },
    {
      "cell_type": "markdown",
      "source": [
        "**사전준비**"
      ],
      "metadata": {
        "id": "B02V8lHDcxps"
      }
    },
    {
      "cell_type": "code",
      "source": [
        "src_index_to_word = src_tokenizer.index_word # 원문 단어 집합에서 정수 -> 단어를 얻음\n",
        "tar_word_to_index = tar_tokenizer.word_index # 요약 단어 집합에서 단어 -> 정수를 얻음\n",
        "tar_index_to_word = tar_tokenizer.index_word # 요약 단어 집합에서 정수 -> 단어를 얻음"
      ],
      "metadata": {
        "id": "Vixe8x3SAwQg"
      },
      "execution_count": null,
      "outputs": []
    },
    {
      "cell_type": "markdown",
      "source": [
        "**인퍼런스 모델 설계- 인코더 디코더를 따로 설계해야 한다.**"
      ],
      "metadata": {
        "id": "1jC-XCVnc4gh"
      }
    },
    {
      "cell_type": "code",
      "source": [
        "# 인코더 설계\n",
        "encoder_model = Model(inputs=encoder_inputs, outputs=[encoder_outputs, state_h, state_c])\n",
        "\n",
        "# 이전 시점의 상태들을 저장하는 텐서\n",
        "decoder_state_input_h = Input(shape=(hidden_size,))\n",
        "decoder_state_input_c = Input(shape=(hidden_size,))\n",
        "\n",
        "dec_emb2 = dec_emb_layer(decoder_inputs)\n",
        "\n",
        "# 문장의 다음 단어를 예측하기 위해서 초기 상태(initial_state)를 이전 시점의 상태로 사용. 이는 뒤의 함수 decode_sequence()에 구현\n",
        "# 훈련 과정에서와 달리 LSTM의 리턴하는 은닉 상태와 셀 상태인 state_h와 state_c를 버리지 않음.\n",
        "decoder_outputs2, state_h2, state_c2 = decoder_lstm(dec_emb2, initial_state=[decoder_state_input_h, decoder_state_input_c])"
      ],
      "metadata": {
        "id": "De8u4IHpA2W2"
      },
      "execution_count": null,
      "outputs": []
    },
    {
      "cell_type": "markdown",
      "source": [
        "**어텐션 메커니즘 출력층 설계**"
      ],
      "metadata": {
        "id": "FuP68KDUdBdi"
      }
    },
    {
      "cell_type": "code",
      "source": [
        "# 어텐션 함수\n",
        "decoder_hidden_state_input = Input(shape=(text_max_len, hidden_size))\n",
        "attn_out_inf = attn_layer([decoder_outputs2, decoder_hidden_state_input])\n",
        "decoder_inf_concat = Concatenate(axis=-1, name='concat')([decoder_outputs2, attn_out_inf])\n",
        "\n",
        "# 디코더의 출력층\n",
        "decoder_outputs2 = decoder_softmax_layer(decoder_inf_concat) \n",
        "\n",
        "# 최종 디코더 모델\n",
        "decoder_model = Model(\n",
        "    [decoder_inputs] + [decoder_hidden_state_input,decoder_state_input_h, decoder_state_input_c],\n",
        "    [decoder_outputs2] + [state_h2, state_c2])"
      ],
      "metadata": {
        "id": "-2qS55MsA57r"
      },
      "execution_count": null,
      "outputs": []
    },
    {
      "cell_type": "markdown",
      "source": [
        "**인퍼런스 단계에서 단어 시퀀스를 완성하는 함수 생성**"
      ],
      "metadata": {
        "id": "t5fDHHcAdMBt"
      }
    },
    {
      "cell_type": "code",
      "source": [
        "def decode_sequence(input_seq):\n",
        "    # 입력으로부터 인코더의 상태를 얻음\n",
        "    e_out, e_h, e_c = encoder_model.predict(input_seq)\n",
        "\n",
        "     # <SOS>에 해당하는 토큰 생성\n",
        "    target_seq = np.zeros((1,1))\n",
        "    target_seq[0, 0] = tar_word_to_index['sostoken']\n",
        "\n",
        "    stop_condition = False\n",
        "    decoded_sentence = ''\n",
        "    while not stop_condition: # stop_condition이 True가 될 때까지 루프 반복\n",
        "\n",
        "        output_tokens, h, c = decoder_model.predict([target_seq] + [e_out, e_h, e_c])\n",
        "        sampled_token_index = np.argmax(output_tokens[0, -1, :])\n",
        "        sampled_token = tar_index_to_word[sampled_token_index]\n",
        "\n",
        "        if (sampled_token!='eostoken'):\n",
        "            decoded_sentence += ' '+sampled_token\n",
        "\n",
        "        #  <eos>에 도달하거나 최대 길이를 넘으면 중단.\n",
        "        if (sampled_token == 'eostoken'  or len(decoded_sentence.split()) >= (headlines_max_len-1)):\n",
        "            stop_condition = True\n",
        "\n",
        "        # 길이가 1인 타겟 시퀀스를 업데이트\n",
        "        target_seq = np.zeros((1,1))\n",
        "        target_seq[0, 0] = sampled_token_index\n",
        "\n",
        "        # 상태를 업데이트 합니다.\n",
        "        e_h, e_c = h, c\n",
        "\n",
        "    return decoded_sentence"
      ],
      "metadata": {
        "id": "ngrKRSt0A_Fn"
      },
      "execution_count": null,
      "outputs": []
    },
    {
      "cell_type": "code",
      "source": [
        "# 원문의 정수 시퀀스를 텍스트 시퀀스로 변환\n",
        "def seq2text(input_seq):\n",
        "    temp=''\n",
        "    for i in input_seq:\n",
        "        if (i!=0):\n",
        "            temp = temp + src_index_to_word[i]+' '\n",
        "    return temp\n",
        "\n",
        "# 요약문의 정수 시퀀스를 텍스트 시퀀스로 변환\n",
        "def seq2summary(input_seq):\n",
        "    temp=''\n",
        "    for i in input_seq:\n",
        "        if ((i!=0 and i!=tar_word_to_index['sostoken']) and i!=tar_word_to_index['eostoken']):\n",
        "            temp = temp + tar_index_to_word[i] + ' '\n",
        "    return temp"
      ],
      "metadata": {
        "id": "NOKSqRWgBJCZ"
      },
      "execution_count": null,
      "outputs": []
    },
    {
      "cell_type": "markdown",
      "source": [
        "## **Step 4. 실제 결과와 요약문 비교하기 (추상적 요약)**\n"
      ],
      "metadata": {
        "id": "zaBHrTXveNMM"
      }
    },
    {
      "cell_type": "code",
      "source": [
        "for i in range(50, 100):\n",
        "    print(\"원문 :\", seq2text(encoder_input_test[i]))\n",
        "    print(\"실제 요약 :\", seq2summary(decoder_input_test[i]))\n",
        "    print(\"예측 요약 :\", decode_sequence(encoder_input_test[i].reshape(1, text_max_len)))\n",
        "    print(\"\\n\")"
      ],
      "metadata": {
        "id": "q5Q6zqV9BVX9",
        "colab": {
          "base_uri": "https://localhost:8080/"
        },
        "outputId": "4b1451f8-58fb-45e8-9053-d722c6f84f19"
      },
      "execution_count": null,
      "outputs": [
        {
          "output_type": "stream",
          "name": "stdout",
          "text": [
            "원문 : mother dairy recently organised event delhi daredevils players dil campaign delhi daredevils principal second year mother dairy enabled farmers interact dd players turn appreciated efforts farmers put event success ended series group pictures \n",
            "실제 요약 : delhi players meet india farmers \n",
            "예측 요약 :  delhi police to hold for\n",
            "\n",
            "\n",
            "원문 : virender sehwag revealed virat kohli used quiet front senior players used team sehwag added kohli fell ill told coach would play next match fever went away started batting normally \n",
            "실제 요약 : kohli was and in front of us sehwag \n",
            "예측 요약 :  kohli should have to be as coach\n",
            "\n",
            "\n",
            "원문 : balloon depicting us president donald trump chicken due set coast san francisco foot balloon dressed black white prison labelled prisoner page launched name send president chicken jail help \n",
            "실제 요약 : trump as to along \n",
            "예측 요약 :  trump walk on foot walk\n",
            "\n",
            "\n",
            "원문 : midfielder scored free kick th minute help germany defeat sweden stay alive fifa world cup defending champions needed win teams progress second round many players inside box took shot \n",
            "실제 요약 : watch the th min goal that helped germany stay alive in wc \n",
            "예측 요약 :  scores free from to win in\n",
            "\n",
            "\n",
            "원문 : bobby deol said always saw fans getting work realised taking care waiting work come go get work added said things would different \n",
            "실제 요약 : my fans and why was not getting work \n",
            "예측 요약 :  do not want to go to go on\n",
            "\n",
            "\n",
            "원문 : central government looking house delhi presidential candidate ram nath kovind urban development minister venkaiah naidu reportedly asked officials see rule book provides house presidential candidate sources said kovind needs house besides allowing run presidential election campaign \n",
            "실제 요약 : centre looking for house for kovind his \n",
            "예측 요약 :  yoga to be in vice prez\n",
            "\n",
            "\n",
            "원문 : national green tribunal imposed crore fine delhi government taking action steel units operating residential areas tribunal directed government immediately shut units fall prohibited list industrial activity estimated units release yamuna river \n",
            "실제 요약 : delhi govt fined cr for against \n",
            "예측 요약 :  delhi govt fined crore for delhi\n",
            "\n",
            "\n",
            "원문 : helicopter carrying karnataka cm siddaramaiah suffered bird hit made emergency landing bengaluru airport monday shortly take police official said siddaramaiah four others including state home minister also board safe chopper suffer damage assistant commissioner police kumar said \n",
            "실제 요약 : taka cm makes emergency landing after hit \n",
            "예측 요약 :  taka cm lands on bridge in\n",
            "\n",
            "\n",
            "원문 : speaking karnataka farm loan waivers congress president rahul gandhi said challenge pm modi give money required waive loans alleged pm modi cannot spend single rupee karnataka farmers rahul said congress jd coalition government karnataka announced crore farm loan waiver july promised nnnn \n",
            "실제 요약 : give money to taka loans rahul to pm modi \n",
            "예측 요약 :  pm modi is not loans rahul gandhi\n",
            "\n",
            "\n",
            "원문 : uber planning deliver food using drones us part commercial test program approved federal government wednesday startup ceo dara khosrowshahi said people expect delivery minutes depending whether comes drone human push button get food added \n",
            "실제 요약 : uber plans to food within min using in us \n",
            "예측 요약 :  uber to allow to help in food delivery\n",
            "\n",
            "\n",
            "원문 : year old pune man arrested allegedly repeatedly raping year old since november accused runs stall works part time dance teacher raped minor threatening kill mother minor teacher following police complaint lodged arrested \n",
            "실제 요약 : pune man held for raping year old \n",
            "예측 요약 :  year old man arrested for raping year old girl in delhi\n",
            "\n",
            "\n",
            "원문 : virus outbreak kerala claimed least lives state government announced schools colleges remain shut till june extended till june earlier meanwhile kerala health minister kk teacher said second wave outbreak possible global pattern \n",
            "실제 요약 : kerala schools to stay shut as death toll rises to \n",
            "예측 요약 :  kerala schools shut down due to heavy\n",
            "\n",
            "\n",
            "원문 : indian tennis player sania mirza former women doubles partner switzerland wimbledon mixed doubles title alongside andy murray brother murray sunday british swiss duo defeated defending champions watson murray fourth grand slam title registered rd grand slam title \n",
            "실제 요약 : ex partner wins wimbledon \n",
            "예측 요약 :  serena to win wimbledon title\n",
            "\n",
            "\n",
            "원문 : addressing concerns phone addiction among children apple ceo tim cook said never wanted people product want people things could otherwise spend time phone spending much time added cook \n",
            "실제 요약 : we have never wanted people to our apple ceo \n",
            "예측 요약 :  do not think about apple ceo cook\n",
            "\n",
            "\n",
            "원문 : indian army tuesday armed pakistani terrorist sector forces reportedly recovered five pistol bullets pistol one ak assault rifle two ak rifle rounds ammunition hand forces area \n",
            "실제 요약 : pakistani terrorist with killed \n",
            "예측 요약 :  army kills pakistani soldiers\n",
            "\n",
            "\n",
            "원문 : actor rajkummar rao speaking sexual harassment said important voice opinion victim silence put post social media people support added rao said sexual harassment exists everywhere film industry \n",
            "실제 요약 : only rao on sexual harassment \n",
            "예측 요약 :  sexual harassment rajkummar rao\n",
            "\n",
            "\n",
            "원문 : three policemen driver killed monday speeding truck hit convoy car madhya pradesh assembly deputy speaker district police said accident took place deputy speaker hina returning constituency policemen another car behind vehicle police said escaped police added \n",
            "실제 요약 : one driver killed in mp car truck accident \n",
            "예측 요약 :  car into tree kills in car accident\n",
            "\n",
            "\n",
            "원문 : nawazuddin siddiqui ex girlfriend sunita sent legal notice revealing personal details relationship ordinary life said despite nawazuddin claim withdrawing book still circulation sunita also asked apology nawazuddin within hours demanded sum crore \n",
            "실제 요약 : nawazuddin ex sends him legal notice over his \n",
            "예측 요약 :  nawazuddin apologises to ex girlfriend\n",
            "\n",
            "\n",
            "원문 : world number three indian shuttler kidambi srikanth wednesday formally took charge deputy collector andhra pradesh native town june andhra pradesh cm chandrababu naidu offered srikanth group officer post indonesian australian open titles recently srikanth bagged maiden singles silver medal commonwealth games \n",
            "실제 요약 : world no takes charge as dy \n",
            "예측 요약 :  takes andhra cm office\n",
            "\n",
            "\n",
            "원문 : singer malik broke girlfriend said love someone rest life talking relationship added love think pretty posted break march dating two years \n",
            "실제 요약 : was to be in love with someone \n",
            "예측 요약 :  love to boyfriend on\n",
            "\n",
            "\n",
            "원문 : jammu kashmir government reportedly decided reward terrorists surrender security forces lakh part rehabilitation militants according reports reward given form fixed deposit lock period years display good behaviour \n",
            "실제 요약 : to give reward to militants for report \n",
            "예측 요약 :  govt to lakh for terror attacks\n",
            "\n",
            "\n",
            "원문 : constable pune arrested allegedly filming neighbour woman constable family members accused assaulted victim went police officials said accused family members booked assault criminal \n",
            "실제 요약 : pune cop held for woman cop while she was \n",
            "예측 요약 :  arrested for woman in up\n",
            "\n",
            "\n",
            "원문 : prisoner jail uttar pradesh written pm narendra modi seeking permission sell kidney legal expenses required fight case arrested rape attempted murder woman said better sell kidney fight legal battle commit suicide \n",
            "실제 요약 : asks pm modi if he could sell to fight case \n",
            "예측 요약 :  man who to file case against pm modi\n",
            "\n",
            "\n",
            "원문 : bharatiya janata party objected sultan portrait unveiled delhi chief minister arvind kejriwal occasion th republic day cm uncovered portrait among personalities including freedom fighters heroes bjp said delhi assembly put portrait controversial personality \n",
            "실제 요약 : bjp to of in delhi assembly \n",
            "예측 요약 :  bjp to launch delhi cm kejriwal in delhi\n",
            "\n",
            "\n",
            "원문 : year old man us sentenced years imprisonment sexually assaulting year old woman officials said accused assaulted forcing drive atm withdraw money sentenced years criminal sexual assault years armed robbery \n",
            "실제 요약 : man gets yrs in jail for sexually assaulting yr old \n",
            "예측 요약 :  man jailed for yrs for assaulting woman\n",
            "\n",
            "\n",
            "원문 : mumbai police arrested year old man jharkhand connection theft high end mobile phones worth lakh shop last month according police man four hole shop gain entry night also stole lakh cash safe \n",
            "실제 요약 : man accused of stealing phones arrested by mumbai police \n",
            "예측 요약 :  man arrested for stealing phones in gurugram\n",
            "\n",
            "\n",
            "원문 : budget airline spicejet net profit jumped crore september quarter marking consecutive profitable quarter revenue rose eighth straight quarter crore spicejet reported highest passenger factor airlines country quarter company said statement \n",
            "실제 요약 : posts th straight profit at crore \n",
            "예측 요약 :  profit rises to crore in quarter\n",
            "\n",
            "\n",
            "원문 : five people injured tamil nadu district cut actor collapsed several fans standing cut supported wooden incident actor action film featuring south indian actress hit theatres today along rajinikanth featuring nawazuddin siddiqui \n",
            "실제 요약 : actor cut out falls during in tn injured \n",
            "예측 요약 :  tamil nadu tamil nadu theatres\n",
            "\n",
            "\n",
            "원문 : former australian pm tony claimed assaulted man opposing sex marriage leading campaign sex marriage earlier said real issue religious freedom sex marriage australia currently conducting two month poll sex marriage \n",
            "실제 요약 : ex aus pm for same sex marriage \n",
            "예측 요약 :  australian man admits to sex with sex\n",
            "\n",
            "\n",
            "원문 : us president donald trump said never beer life adding one good imagine alcohol mess would joked notably us leader elder brother jr suffered died told drink ever \n",
            "실제 요약 : never had beer one of my only good trump \n",
            "예측 요약 :  trump never thought he will never be\n",
            "\n",
            "\n",
            "원문 : pakistani cricketer shoaib malik hit six sixes charity cricket match involving shahid afridi foundation pakistan malik slammed six sixes azam later responded ball century malik playing shahid afridi foundation red team azam part shahid afridi foundation green team \n",
            "실제 요약 : hits in an over in match \n",
            "예측 요약 :  pak batsman hits after ball\n",
            "\n",
            "\n",
            "원문 : team india batsman kl rahul said former captain ms dhoni gives lot heart attacks opposition great see back captain ipl absolutely enjoyed watching hit sixes rahul added big year rahul said performance ipl \n",
            "실제 요약 : dhoni gives lot of heart attacks to the opposition rahul \n",
            "예측 요약 :  dhoni should have been called him rahul\n",
            "\n",
            "\n",
            "원문 : san francisco pune based sales startup raised million series funding round led silicon valley based firm partners existing investors accel partners new enterprise associates qualcomm ventures also participated round founded platform improving sales clients \n",
            "실제 요약 : sales startup raises mn in series \n",
            "예측 요약 :  online startup raises million\n",
            "\n",
            "\n",
            "원문 : singer composer dixit accused sexually harassing female singer studio alleged pulled closer asked give kiss signing cheque came asked like come work added clarified working \n",
            "실제 요약 : asked me to him while my singer \n",
            "예측 요약 :  was sexually by sexually\n",
            "\n",
            "\n",
            "원문 : cbi alleged chargesheet six persons unemployed made partners firms owned nirav modi reports said six persons paid per month remuneration agreed sign partnership documents papers whenever asked needed money reports added \n",
            "실제 요약 : nirav modi cbi \n",
            "예측 요약 :  cbi to nirav modi fraud\n",
            "\n",
            "\n",
            "원문 : central board direct taxes chairman sushil chandra said employees best taxpayers deserve better treatment put standard persons said added crore taxpayers paid lakh crore taxes crore business people gave crore \n",
            "실제 요약 : employees are best chairman \n",
            "예측 요약 :  chairman said not to pay\n",
            "\n",
            "\n",
            "원문 : uber coo said investments country like never adding country absolutely core market future highlighted uber interest minority deals going forward statement comes reports said ola talks acquire uber india business \n",
            "실제 요약 : we are down our in india uber \n",
            "예측 요약 :  uber to make up uber ceo\n",
            "\n",
            "\n",
            "원문 : white house banned staff guests using personal mobile phones within west wing citing security concerns move reportedly aimed preventing inside administration staff conduct business government issued devices continue working hard behalf american people white house press secretary said \n",
            "실제 요약 : white house bans staff from using personal mobile phones \n",
            "예측 요약 :  bans use of mobile phones in\n",
            "\n",
            "\n",
            "원문 : google photo sharing storage service google photos rolling video called displays pictures users background song users open google photos app tap assistant icon check whether feature available videos rolled users yet \n",
            "실제 요약 : google rolls out video of users pictures \n",
            "예측 요약 :  google rolls out feature to on\n",
            "\n",
            "\n",
            "원문 : us president donald trump said certain daughter ivanka would us envoy un think ivanka would incredible sure anybody world added however trump said would accused nepotism selected replace indian american nikki haley \n",
            "실제 요약 : would be as us envoy to un trump \n",
            "예측 요약 :  trump has no of us president\n",
            "\n",
            "\n",
            "원문 : army jawan allegedly shot dead colleague verbal army camp jammu kashmir district police said tuesday senior police officer said jawan brought hospital died minutes exact reason behind killing known added \n",
            "실제 요약 : army jawan shot dead by in and kashmir \n",
            "예측 요약 :  army jawan shot dead by jawan in\n",
            "\n",
            "\n",
            "원문 : reacting sexual harassment allegations filmmaker rajkumar hirani actress richa chadha said one directors image defending girl either learnt hard way friend mine falsely accused richa added said cases people must take legal route \n",
            "실제 요약 : has image richa on sexual harassment row \n",
            "예측 요약 :  am not to richa on sexual harassment row\n",
            "\n",
            "\n",
            "원문 : railway bridge station uttar pradesh northern railways within seven hours installed box tracks linked trains started immediately general manager said would taken least three months bridge using normal method added \n",
            "실제 요약 : railways up bridge in hours \n",
            "예측 요약 :  railway station run in up\n",
            "\n",
            "\n",
            "원문 : chinese farmer turned constructed life sized airbus replica fulfil childhood dream plane took two years build replica made tons steel engine replica actually spin however aircraft replica fly \n",
            "실제 요약 : chinese farmer to dream \n",
            "예측 요약 :  chinese man falls on road for\n",
            "\n",
            "\n",
            "원문 : brother late actor mani said suspects actor dileep involvement murder brother reportedly told cbi mani involved land deal claimed dileep cooperate investigation mani death mani passed away march reportedly due poisoning \n",
            "실제 요약 : dead actor brother in murder \n",
            "예측 요약 :  brother brother brother in law case\n",
            "\n",
            "\n",
            "원문 : rss backed centre planning sell products including made cow amazon centre also makes face cow urine primary according reports unit also sell modi yogi online \n",
            "실제 요약 : cow made at rss backed to be sold online \n",
            "예측 요약 :  rss plans to raise cow to\n",
            "\n",
            "\n",
            "원문 : several border security force personnel deployed uniform bsf sandhu daughter wedding chandigarh resort sunday reports said bsf men called chandigarh jammu put special marriage duty according bsf personnel reportedly deployed marriage arrangements guide guests \n",
            "실제 요약 : bsf men at daughter wedding in \n",
            "예측 요약 :  bsf jawan daughter wedding in\n",
            "\n",
            "\n",
            "원문 : american startup disputed woman claim fitness exploded wrist testing shows external forces caused damage device said woman claimed suffered second degree burns due doctor remove pieces rubber plastic arm \n",
            "실제 요약 : denies woman claim of by \n",
            "예측 요약 :  startup gives to woman who died in\n",
            "\n",
            "\n",
            "원문 : talking sexual harassment workplace google employee said first thing hr silence employee participated protest google handling sexual harassment cases said company forced continue working alleged organisers demanded google end forced arbitration pay gap \n",
            "실제 요약 : tried to me google worker on sexual harassment \n",
            "예측 요약 :  google employee claims was to work on\n",
            "\n",
            "\n",
            "원문 : southwest airlines flight florida hit truck runway washington international airport united states meanwhile flight completed journey airline said adding glad hear everyone made safely destination \n",
            "실제 요약 : aircraft hit by truck on airport \n",
            "예측 요약 :  plane with at airport\n",
            "\n",
            "\n"
          ]
        }
      ]
    },
    {
      "cell_type": "markdown",
      "source": [
        "# **Step 5. Summa을 이용해서 추출적 요약해보기**"
      ],
      "metadata": {
        "id": "L9POQbprCp8l"
      }
    },
    {
      "cell_type": "markdown",
      "source": [
        "**패키지 설치**"
      ],
      "metadata": {
        "id": "E-tevhLlegK2"
      }
    },
    {
      "cell_type": "code",
      "source": [
        "!pip install summa"
      ],
      "metadata": {
        "id": "hu3h5pHqCrHn",
        "colab": {
          "base_uri": "https://localhost:8080/"
        },
        "outputId": "39c7300a-a7b6-48c1-9c19-6e53168d2d0f"
      },
      "execution_count": null,
      "outputs": [
        {
          "output_type": "stream",
          "name": "stdout",
          "text": [
            "Looking in indexes: https://pypi.org/simple, https://us-python.pkg.dev/colab-wheels/public/simple/\n",
            "Collecting summa\n",
            "  Downloading summa-1.2.0.tar.gz (54 kB)\n",
            "\u001b[K     |████████████████████████████████| 54 kB 3.0 MB/s \n",
            "\u001b[?25hRequirement already satisfied: scipy>=0.19 in /usr/local/lib/python3.7/dist-packages (from summa) (1.4.1)\n",
            "Requirement already satisfied: numpy>=1.13.3 in /usr/local/lib/python3.7/dist-packages (from scipy>=0.19->summa) (1.21.6)\n",
            "Building wheels for collected packages: summa\n",
            "  Building wheel for summa (setup.py) ... \u001b[?25l\u001b[?25hdone\n",
            "  Created wheel for summa: filename=summa-1.2.0-py3-none-any.whl size=54412 sha256=daa9effcb5d66ae78101f965b531dd3c6b8c8ee8948da0480a1760d0a1c6e1f9\n",
            "  Stored in directory: /root/.cache/pip/wheels/29/64/ac/7b443477588d365ef37ada30d456bdf5f07dc5be9f6324cb6e\n",
            "Successfully built summa\n",
            "Installing collected packages: summa\n",
            "Successfully installed summa-1.2.0\n"
          ]
        }
      ]
    },
    {
      "cell_type": "markdown",
      "source": [
        "**summarize 사용**"
      ],
      "metadata": {
        "id": "23-RoLsFelly"
      }
    },
    {
      "cell_type": "code",
      "source": [
        "import requests\n",
        "from summa.summarizer import summarize"
      ],
      "metadata": {
        "id": "HsBq7hHwQqTT"
      },
      "execution_count": null,
      "outputs": []
    },
    {
      "cell_type": "code",
      "source": [
        "urllib.request.urlretrieve(\"https://raw.githubusercontent.com/sunnysai12345/News_Summary/master/news_summary_more.csv\", filename=\"news_summary_more.csv\")\n",
        "data = pd.read_csv('news_summary_more.csv', encoding='iso-8859-1')"
      ],
      "metadata": {
        "id": "DpSCeBt2P2VR"
      },
      "execution_count": null,
      "outputs": []
    },
    {
      "cell_type": "markdown",
      "source": [
        " **추출적 요약**"
      ],
      "metadata": {
        "id": "YIqKoxAORmmG"
      }
    },
    {
      "cell_type": "code",
      "source": [
        "for idx, (head, text) in enumerate(zip(data['headlines'], data['text'])):\n",
        "    if idx == 20:\n",
        "        break\n",
        "    print(\"원문 :\", text)\n",
        "    print(\"실제 요약 :\", head)\n",
        "    print(\"예측 요약 :\", summarize(text, ratio=0.5))\n",
        "    print(\"\\n\")"
      ],
      "metadata": {
        "id": "NOpfl9sOCyvr",
        "colab": {
          "base_uri": "https://localhost:8080/"
        },
        "outputId": "17cdadec-d78a-4b2a-ef38-f7189cc2c398"
      },
      "execution_count": null,
      "outputs": [
        {
          "output_type": "stream",
          "name": "stdout",
          "text": [
            "원문 : Saurav Kant, an alumnus of upGrad and IIIT-B's PG Program in Machine learning and Artificial Intelligence, was a Sr Systems Engineer at Infosys with almost 5 years of work experience. The program and upGrad's 360-degree career support helped him transition to a Data Scientist at Tech Mahindra with 90% salary hike. upGrad's Online Power Learning has powered 3 lakh+ careers.\n",
            "실제 요약 : upGrad learner switches to career in ML & Al with 90% salary hike\n",
            "예측 요약 : upGrad's Online Power Learning has powered 3 lakh+ careers.\n",
            "\n",
            "\n",
            "원문 : Kunal Shah's credit card bill payment platform, CRED, gave users a chance to win free food from Swiggy for one year. Pranav Kaushik, a Delhi techie, bagged this reward after spending 2000 CRED coins. Users get one CRED coin per rupee of bill paid, which can be used to avail rewards from brands like Ixigo, BookMyShow, UberEats, Cult.Fit and more.\n",
            "실제 요약 : Delhi techie wins free food from Swiggy for one year on CRED\n",
            "예측 요약 : Users get one CRED coin per rupee of bill paid, which can be used to avail rewards from brands like Ixigo, BookMyShow, UberEats, Cult.Fit and more.\n",
            "\n",
            "\n",
            "원문 : New Zealand defeated India by 8 wickets in the fourth ODI at Hamilton on Thursday to win their first match of the five-match ODI series. India lost an international match under Rohit Sharma's captaincy after 12 consecutive victories dating back to March 2018. The match witnessed India getting all out for 92, their seventh lowest total in ODI cricket history.\n",
            "실제 요약 : New Zealand end Rohit Sharma-led India's 12-match winning streak\n",
            "예측 요약 : The match witnessed India getting all out for 92, their seventh lowest total in ODI cricket history.\n",
            "\n",
            "\n",
            "원문 : With Aegon Life iTerm Insurance plan, customers can enjoy tax benefits on your premiums paid and save up to Ã¢ÂÂ¹46,800^ on taxes. The plan provides life cover up to the age of 100 years. Also, customers have options to insure against Critical Illnesses, Disability and Accidental Death Benefit Rider with a life cover up to the age of 80 years.\n",
            "실제 요약 : Aegon life iTerm insurance plan helps customers save tax\n",
            "예측 요약 : Also, customers have options to insure against Critical Illnesses, Disability and Accidental Death Benefit Rider with a life cover up to the age of 80 years.\n",
            "\n",
            "\n",
            "원문 : Speaking about the sexual harassment allegations against Rajkumar Hirani, Sonam Kapoor said, \"I've known Hirani for many years...What if it's not true, the [#MeToo] movement will get derailed.\" \"In the #MeToo movement, I always believe a woman. But in this case, we need to reserve our judgment,\" she added. Hirani has been accused by an assistant who worked in 'Sanju'.\n",
            "실제 요약 : Have known Hirani for yrs, what if MeToo claims are not true: Sonam\n",
            "예측 요약 : Speaking about the sexual harassment allegations against Rajkumar Hirani, Sonam Kapoor said, \"I've known Hirani for many years...What if it's not true, the [#MeToo] movement will get derailed.\" \"In the #MeToo movement, I always believe a woman.\n",
            "\n",
            "\n",
            "원문 : Pakistani singer Rahat Fateh Ali Khan has denied receiving any notice from the Enforcement Directorate over allegedly smuggling foreign currency out of India. \"It would have been better if the authorities would have served the notice first if any and then publicised this,\" reads a press release issued on behalf of Rahat. The statement further called the allegation \"bizarre\".\n",
            "실제 요약 : Rahat Fateh Ali Khan denies getting notice for smuggling currency\n",
            "예측 요약 : Pakistani singer Rahat Fateh Ali Khan has denied receiving any notice from the Enforcement Directorate over allegedly smuggling foreign currency out of India.\n",
            "\n",
            "\n",
            "원문 : India recorded their lowest ODI total in New Zealand after getting all out for 92 runs in 30.5 overs in the fourth ODI at Hamilton on Thursday. Seven of India's batsmen were dismissed for single-digit scores, while their number ten batsman Yuzvendra Chahal top-scored with 18*(37). India's previous lowest ODI total in New Zealand was 108.\n",
            "실제 요약 : India get all out for 92, their lowest ODI total in New Zealand\n",
            "예측 요약 : India's previous lowest ODI total in New Zealand was 108.\n",
            "\n",
            "\n",
            "원문 : Weeks after ex-CBI Director Alok Verma told the Department of Personnel and Training to consider him retired, the Home Ministry asked him to join work on the last day of his fixed tenure as Director on Thursday. The ministry directed him to immediately join as DG, Fire Services, the post he was transferred to after his removal as CBI chief.\n",
            "실제 요약 : Govt directs Alok Verma to join work 1 day before his retirement\n",
            "예측 요약 : Weeks after ex-CBI Director Alok Verma told the Department of Personnel and Training to consider him retired, the Home Ministry asked him to join work on the last day of his fixed tenure as Director on Thursday.\n",
            "\n",
            "\n",
            "원문 : Andhra Pradesh CM N Chandrababu Naidu has said, \"When I met then US President Bill Clinton, I addressed him as Mr Clinton, not as 'sir'. (PM Narendra) Modi is my junior in politics...I addressed him as sir 10 times.\" \"I did this...to satisfy his ego in the hope that he will do justice to the state,\" he added.\n",
            "실제 요약 : Called PM Modi 'sir' 10 times to satisfy his ego: Andhra CM\n",
            "예측 요약 : Andhra Pradesh CM N Chandrababu Naidu has said, \"When I met then US President Bill Clinton, I addressed him as Mr Clinton, not as 'sir'.\n",
            "\n",
            "\n",
            "원문 : Congress candidate Shafia Zubair won the Ramgarh Assembly seat in Rajasthan, by defeating BJP's Sukhwant Singh with a margin of 12,228 votes in the bypoll. With this victory, Congress has taken its total to 100 seats in the 200-member assembly. The election to the Ramgarh seat was delayed due to the death of sitting MLA and BSP candidate Laxman Singh.\n",
            "실제 요약 : Cong wins Ramgarh bypoll in Rajasthan, takes total to 100 seats\n",
            "예측 요약 : Congress candidate Shafia Zubair won the Ramgarh Assembly seat in Rajasthan, by defeating BJP's Sukhwant Singh with a margin of 12,228 votes in the bypoll.\n",
            "\n",
            "\n",
            "원문 : Two minor cousins in Uttar Pradesh's Gorakhpur were allegedly repeatedly burnt with tongs and forced to eat human excreta by their family for being friends with two boys from the same school. The cousins revealed their ordeal to the police and Child Welfare Committee after being brought back to Gorakhpur from Nepal, where they had fled to escape the torture.\n",
            "실제 요약 : UP cousins fed human excreta for friendship with boys\n",
            "예측 요약 : Two minor cousins in Uttar Pradesh's Gorakhpur were allegedly repeatedly burnt with tongs and forced to eat human excreta by their family for being friends with two boys from the same school.\n",
            "\n",
            "\n",
            "원문 : Isha Ghosh, an 81-year-old member of Bharat Scouts and Guides (BSG), has been imparting physical and mental training to schoolchildren in Jharkhand for several decades. Chaibasa-based Ghosh reportedly walks seven kilometres daily and spends eight hours conducting physical training, apart from climbing and yoga sessions. She says, \"One should do something for society till one's last breath.\"\n",
            "실제 요약 : 81-yr-old woman conducts physical training in J'khand schools\n",
            "예측 요약 : Isha Ghosh, an 81-year-old member of Bharat Scouts and Guides (BSG), has been imparting physical and mental training to schoolchildren in Jharkhand for several decades.\n",
            "\n",
            "\n",
            "원문 : Urging saints and seers at the Kumbh Mela to quit smoking, Yoga guru Ramdev said, \"We follow Ram and Krishna who never smoked in their life then why should we?\" Making them take a pledge to quit tobacco, he collected chillum (clay pipe) from several sadhus. He said he will deposit the chillums for display at a museum he'll build.\n",
            "실제 요약 : Ram, Krishna didn't smoke, why should we: Ramdev to sadhus at Kumbh\n",
            "예측 요약 : Urging saints and seers at the Kumbh Mela to quit smoking, Yoga guru Ramdev said, \"We follow Ram and Krishna who never smoked in their life then why should we?\" Making them take a pledge to quit tobacco, he collected chillum (clay pipe) from several sadhus.\n",
            "\n",
            "\n",
            "원문 : Former stripper and regional sales director of a pharmaceutical company, Sunrise Lee, gave a doctor a lap dance in a nightclub to persuade him to prescribe an addictive fentanyl spray in 2012, the company's sales representative told a US court. She said she saw Lee \"sitting on [doctor's] lap, kind of bouncing around.\" Lee has been accused of bribing doctors.\n",
            "실제 요약 : Pharma exec gave doctor a lap dance to sell medicine in US: Witness\n",
            "예측 요약 : Former stripper and regional sales director of a pharmaceutical company, Sunrise Lee, gave a doctor a lap dance in a nightclub to persuade him to prescribe an addictive fentanyl spray in 2012, the company's sales representative told a US court.\n",
            "\n",
            "\n",
            "원문 : Reliance Industries' Chairman Mukesh Ambani's daughter Isha Ambani, who got married last month, said she only cried at her 'bidaai' because she felt peer pressure as everyone was crying, especially her parents. \"I was emotional too but everyone around me would cry all the time,\" she added. \"It was a very emotional affair for everyone in my family,\" said Isha.\n",
            "실제 요약 :  I only cried at my 'bidaai' as I felt peer pressure: Isha Ambani\n",
            "예측 요약 : \"It was a very emotional affair for everyone in my family,\" said Isha.\n",
            "\n",
            "\n",
            "원문 : Louis Vuitton owner LVMH, which makes high-end beverages like MoÃÂ«t & Chandon champagne and Hennessy cognac, said it's stockpiling four months' worth of wine and spirits in UK in preparation for Brexit. \"We're ready for worst case scenario if there are difficulties with deliveries,\" the French luxury giant said. The UK is scheduled to leave the EU on March 29.\n",
            "실제 요약 : Louis Vuitton owner to stockpile 4 months of wine, spirits in UK\n",
            "예측 요약 : Louis Vuitton owner LVMH, which makes high-end beverages like MoÃÂ«t & Chandon champagne and Hennessy cognac, said it's stockpiling four months' worth of wine and spirits in UK in preparation for Brexit.\n",
            "\n",
            "\n",
            "원문 : Filmmaker Karan Johar and actress Tabu turned showstoppers for Gaurav Gupta on the opening night of LakmÃÂ© Fashion Week Summer/ Resort 2019. While Johar wore a red sequinned jacket with black pants, Tabu walked the ramp in a grey embellished gown. The fashion show, which began on January 29, will continue till February 3.\n",
            "실제 요약 : Karan Johar, Tabu turn showstoppers on opening night of LFW\n",
            "예측 요약 : Filmmaker Karan Johar and actress Tabu turned showstoppers for Gaurav Gupta on the opening night of LakmÃÂ© Fashion Week Summer/ Resort 2019.\n",
            "\n",
            "\n",
            "원문 : In a jibe at Congress President Rahul Gandhi, PM Narendra Modi on Wednesday said those on \"bail will have to go to jail.\" PM Modi added, \"He is out on bail and his associates too are facing charges...I know they will be convicted one day.\" The PM claimed he'd waged a war on corruption because he's from a common household. \n",
            "실제 요약 : Those on bail will go to jail: PM Modi takes jibe at Rahul\n",
            "예측 요약 : \n",
            "\n",
            "\n",
            "원문 : Days after he threatened to step down from his post if Congress MLAs continue \"crossing the line,\" Karnataka Chief Minister HD Kumaraswamy accused them of taking potshots and asked, \"How many more days can I tolerate such stuff?\" Kumaraswamy, who made the statements after a Congress MLA demanded that Siddaramaiah be made CM again, said, \"Power is ephemeral.\"\n",
            "실제 요약 : How long can I tolerate Congress leaders' potshots: K'taka CM\n",
            "예측 요약 : \n",
            "\n",
            "\n",
            "원문 : Union Minister Dharmendra Pradhan on Wednesday claimed the illegal mining mafia in Odisha operates under the control of CM Naveen Patnaik and state Congress chief Niranjan Patnaik. He added, \"The time has come for the people of Odisha to put a full stop to their activities...The time has come for us to ask for an explanation from this corrupt government.\"\n",
            "실제 요약 : Odisha CM Patnaik controls mining mafia: Union Minister\n",
            "예측 요약 : Union Minister Dharmendra Pradhan on Wednesday claimed the illegal mining mafia in Odisha operates under the control of CM Naveen Patnaik and state Congress chief Niranjan Patnaik.\n",
            "\n",
            "\n"
          ]
        }
      ]
    },
    {
      "cell_type": "markdown",
      "source": [
        "### 회고"
      ],
      "metadata": {
        "id": "SweJ1BH4R0_H"
      }
    },
    {
      "cell_type": "markdown",
      "source": [
        "추상적 요약에서 early stopping(es) 사용시 의미를 알 수 없는 요약문이 나왔다. es를 제거하고 50 epoch를 돌리니 원문과 조금이나마 더 의미가 통하는 요약문이 나온 것 같은데... val_loss가 과적합으로 오히려 올라갔음에도 이런 결과가 나오는 것은 무엇 때문인지 궁금하다. 노드에서 목적하는 바는 es를 사용하는 것 같아서 epoch 수와 배치사이즈 등 하이퍼파라미터들을 바꿔봤으나 마땅히 개선되는 점을 찾을 수 없었다. \n",
        "\n",
        "추출적 요약이 실제 요약문과 훨씬 근접하고 고유명사 등을 포함하고 문장이 길어 (그나마) 잘 된 요약인 것 같다. 반면 추상적 요약은 의미를 전혀 알 수가 없다. 추상적 요약과 추출적 요약의 개념 자체가 기존 원문으로부터 새로운 문장을 '추론'한 것과 중요 단어를 집어 '요약'한 것이라는 점에서 둘의 격차가 명확할 수밖에 없다는 생각이 들었다. (아직 인공지능이 그만큼 발전하지 못한 탓인지 이번 익스에서 쓴 모듈이 딱 그정도인건지는 의문..)\n",
        "\n",
        "그렇다면 실제로 쓰이는 요약은 대부분 추출적 요약이지 않을까? 소설을 쓰는 인공지능 모델같은 것은 당연히 추상적 요약인줄 알았는데 데이터(다른 소설)를 많이 넣어주면 추출적 요약으로도 표절시비 없이 가능할수 있겠구나 라는 생각도 해보았다. 노드를 그대로 따라가며 코딩할 수 있었고 AI기자나 AI소설가 등등 한번씩 들어보고 관심이 있던 분야라 흥미로운 익스였다."
      ],
      "metadata": {
        "id": "DfXH3C5NFWkG"
      }
    },
    {
      "cell_type": "code",
      "source": [
        ""
      ],
      "metadata": {
        "id": "h5U4JxZJi8Tl"
      },
      "execution_count": null,
      "outputs": []
    }
  ]
}
{
 "cells": [
  {
   "cell_type": "markdown",
   "id": "f3648951",
   "metadata": {},
   "source": [
    "# 프로젝트 1 : 손수 설계하는 선형회귀, 당뇨병 수치를 맞춰보자!"
   ]
  },
  {
   "cell_type": "markdown",
   "id": "2add4850",
   "metadata": {},
   "source": [
    "### (1) 데이터 가져오기"
   ]
  },
  {
   "cell_type": "code",
   "execution_count": 59,
   "id": "c3856ead",
   "metadata": {},
   "outputs": [],
   "source": [
    "from sklearn.datasets import load_diabetes #sklearn.datasets의 load_diabetes 데이터 가져오기\n",
    "diabetes = load_diabetes() #diabetes 데이터를 diabetes에 저장"
   ]
  },
  {
   "cell_type": "code",
   "execution_count": 60,
   "id": "6a5d9546",
   "metadata": {},
   "outputs": [],
   "source": [
    "import numpy as np #수학을 잘하는 친구 np, 행렬, 배열, 난수\n",
    "import pandas as pd #수학을 잘하는 친구2 pd, 수치표, 시계열, series, dataframe\n",
    "import matplotlib.pyplot as plt #플롯, 차트, 그래프 등 시각화 good"
   ]
  },
  {
   "cell_type": "code",
   "execution_count": 61,
   "id": "d7f38b64",
   "metadata": {},
   "outputs": [
    {
     "data": {
      "text/plain": [
       "['DESCR',\n",
       " 'data',\n",
       " 'data_filename',\n",
       " 'data_module',\n",
       " 'feature_names',\n",
       " 'frame',\n",
       " 'target',\n",
       " 'target_filename']"
      ]
     },
     "execution_count": 61,
     "metadata": {},
     "output_type": "execute_result"
    }
   ],
   "source": [
    "diabetes = load_diabetes()\n",
    "dir(diabetes) #데이터셋 보여주기"
   ]
  },
  {
   "cell_type": "code",
   "execution_count": 62,
   "id": "96a419ae",
   "metadata": {},
   "outputs": [],
   "source": [
    "df_X = pd.DataFrame(diabetes.data, columns=diabetes.feature_names)\n",
    "df_y = pd.DataFrame(diabetes.target, columns=['target']) #diabetes의 data를 df_X에, target을 df_y에 저장"
   ]
  },
  {
   "cell_type": "markdown",
   "id": "d5b4aad1",
   "metadata": {},
   "source": [
    "### (2) 모델에 입력할 데이터 X 준비하기"
   ]
  },
  {
   "cell_type": "code",
   "execution_count": 63,
   "id": "ae8d4717",
   "metadata": {},
   "outputs": [
    {
     "data": {
      "text/html": [
       "<div>\n",
       "<style scoped>\n",
       "    .dataframe tbody tr th:only-of-type {\n",
       "        vertical-align: middle;\n",
       "    }\n",
       "\n",
       "    .dataframe tbody tr th {\n",
       "        vertical-align: top;\n",
       "    }\n",
       "\n",
       "    .dataframe thead th {\n",
       "        text-align: right;\n",
       "    }\n",
       "</style>\n",
       "<table border=\"1\" class=\"dataframe\">\n",
       "  <thead>\n",
       "    <tr style=\"text-align: right;\">\n",
       "      <th></th>\n",
       "      <th>age</th>\n",
       "      <th>sex</th>\n",
       "      <th>bmi</th>\n",
       "      <th>bp</th>\n",
       "      <th>s1</th>\n",
       "      <th>s2</th>\n",
       "      <th>s3</th>\n",
       "      <th>s4</th>\n",
       "      <th>s5</th>\n",
       "      <th>s6</th>\n",
       "    </tr>\n",
       "  </thead>\n",
       "  <tbody>\n",
       "    <tr>\n",
       "      <th>0</th>\n",
       "      <td>0.038076</td>\n",
       "      <td>0.050680</td>\n",
       "      <td>0.061696</td>\n",
       "      <td>0.021872</td>\n",
       "      <td>-0.044223</td>\n",
       "      <td>-0.034821</td>\n",
       "      <td>-0.043401</td>\n",
       "      <td>-0.002592</td>\n",
       "      <td>0.019908</td>\n",
       "      <td>-0.017646</td>\n",
       "    </tr>\n",
       "    <tr>\n",
       "      <th>1</th>\n",
       "      <td>-0.001882</td>\n",
       "      <td>-0.044642</td>\n",
       "      <td>-0.051474</td>\n",
       "      <td>-0.026328</td>\n",
       "      <td>-0.008449</td>\n",
       "      <td>-0.019163</td>\n",
       "      <td>0.074412</td>\n",
       "      <td>-0.039493</td>\n",
       "      <td>-0.068330</td>\n",
       "      <td>-0.092204</td>\n",
       "    </tr>\n",
       "    <tr>\n",
       "      <th>2</th>\n",
       "      <td>0.085299</td>\n",
       "      <td>0.050680</td>\n",
       "      <td>0.044451</td>\n",
       "      <td>-0.005671</td>\n",
       "      <td>-0.045599</td>\n",
       "      <td>-0.034194</td>\n",
       "      <td>-0.032356</td>\n",
       "      <td>-0.002592</td>\n",
       "      <td>0.002864</td>\n",
       "      <td>-0.025930</td>\n",
       "    </tr>\n",
       "    <tr>\n",
       "      <th>3</th>\n",
       "      <td>-0.089063</td>\n",
       "      <td>-0.044642</td>\n",
       "      <td>-0.011595</td>\n",
       "      <td>-0.036656</td>\n",
       "      <td>0.012191</td>\n",
       "      <td>0.024991</td>\n",
       "      <td>-0.036038</td>\n",
       "      <td>0.034309</td>\n",
       "      <td>0.022692</td>\n",
       "      <td>-0.009362</td>\n",
       "    </tr>\n",
       "    <tr>\n",
       "      <th>4</th>\n",
       "      <td>0.005383</td>\n",
       "      <td>-0.044642</td>\n",
       "      <td>-0.036385</td>\n",
       "      <td>0.021872</td>\n",
       "      <td>0.003935</td>\n",
       "      <td>0.015596</td>\n",
       "      <td>0.008142</td>\n",
       "      <td>-0.002592</td>\n",
       "      <td>-0.031991</td>\n",
       "      <td>-0.046641</td>\n",
       "    </tr>\n",
       "    <tr>\n",
       "      <th>...</th>\n",
       "      <td>...</td>\n",
       "      <td>...</td>\n",
       "      <td>...</td>\n",
       "      <td>...</td>\n",
       "      <td>...</td>\n",
       "      <td>...</td>\n",
       "      <td>...</td>\n",
       "      <td>...</td>\n",
       "      <td>...</td>\n",
       "      <td>...</td>\n",
       "    </tr>\n",
       "    <tr>\n",
       "      <th>437</th>\n",
       "      <td>0.041708</td>\n",
       "      <td>0.050680</td>\n",
       "      <td>0.019662</td>\n",
       "      <td>0.059744</td>\n",
       "      <td>-0.005697</td>\n",
       "      <td>-0.002566</td>\n",
       "      <td>-0.028674</td>\n",
       "      <td>-0.002592</td>\n",
       "      <td>0.031193</td>\n",
       "      <td>0.007207</td>\n",
       "    </tr>\n",
       "    <tr>\n",
       "      <th>438</th>\n",
       "      <td>-0.005515</td>\n",
       "      <td>0.050680</td>\n",
       "      <td>-0.015906</td>\n",
       "      <td>-0.067642</td>\n",
       "      <td>0.049341</td>\n",
       "      <td>0.079165</td>\n",
       "      <td>-0.028674</td>\n",
       "      <td>0.034309</td>\n",
       "      <td>-0.018118</td>\n",
       "      <td>0.044485</td>\n",
       "    </tr>\n",
       "    <tr>\n",
       "      <th>439</th>\n",
       "      <td>0.041708</td>\n",
       "      <td>0.050680</td>\n",
       "      <td>-0.015906</td>\n",
       "      <td>0.017282</td>\n",
       "      <td>-0.037344</td>\n",
       "      <td>-0.013840</td>\n",
       "      <td>-0.024993</td>\n",
       "      <td>-0.011080</td>\n",
       "      <td>-0.046879</td>\n",
       "      <td>0.015491</td>\n",
       "    </tr>\n",
       "    <tr>\n",
       "      <th>440</th>\n",
       "      <td>-0.045472</td>\n",
       "      <td>-0.044642</td>\n",
       "      <td>0.039062</td>\n",
       "      <td>0.001215</td>\n",
       "      <td>0.016318</td>\n",
       "      <td>0.015283</td>\n",
       "      <td>-0.028674</td>\n",
       "      <td>0.026560</td>\n",
       "      <td>0.044528</td>\n",
       "      <td>-0.025930</td>\n",
       "    </tr>\n",
       "    <tr>\n",
       "      <th>441</th>\n",
       "      <td>-0.045472</td>\n",
       "      <td>-0.044642</td>\n",
       "      <td>-0.073030</td>\n",
       "      <td>-0.081414</td>\n",
       "      <td>0.083740</td>\n",
       "      <td>0.027809</td>\n",
       "      <td>0.173816</td>\n",
       "      <td>-0.039493</td>\n",
       "      <td>-0.004220</td>\n",
       "      <td>0.003064</td>\n",
       "    </tr>\n",
       "  </tbody>\n",
       "</table>\n",
       "<p>442 rows × 10 columns</p>\n",
       "</div>"
      ],
      "text/plain": [
       "          age       sex       bmi        bp        s1        s2        s3  \\\n",
       "0    0.038076  0.050680  0.061696  0.021872 -0.044223 -0.034821 -0.043401   \n",
       "1   -0.001882 -0.044642 -0.051474 -0.026328 -0.008449 -0.019163  0.074412   \n",
       "2    0.085299  0.050680  0.044451 -0.005671 -0.045599 -0.034194 -0.032356   \n",
       "3   -0.089063 -0.044642 -0.011595 -0.036656  0.012191  0.024991 -0.036038   \n",
       "4    0.005383 -0.044642 -0.036385  0.021872  0.003935  0.015596  0.008142   \n",
       "..        ...       ...       ...       ...       ...       ...       ...   \n",
       "437  0.041708  0.050680  0.019662  0.059744 -0.005697 -0.002566 -0.028674   \n",
       "438 -0.005515  0.050680 -0.015906 -0.067642  0.049341  0.079165 -0.028674   \n",
       "439  0.041708  0.050680 -0.015906  0.017282 -0.037344 -0.013840 -0.024993   \n",
       "440 -0.045472 -0.044642  0.039062  0.001215  0.016318  0.015283 -0.028674   \n",
       "441 -0.045472 -0.044642 -0.073030 -0.081414  0.083740  0.027809  0.173816   \n",
       "\n",
       "           s4        s5        s6  \n",
       "0   -0.002592  0.019908 -0.017646  \n",
       "1   -0.039493 -0.068330 -0.092204  \n",
       "2   -0.002592  0.002864 -0.025930  \n",
       "3    0.034309  0.022692 -0.009362  \n",
       "4   -0.002592 -0.031991 -0.046641  \n",
       "..        ...       ...       ...  \n",
       "437 -0.002592  0.031193  0.007207  \n",
       "438  0.034309 -0.018118  0.044485  \n",
       "439 -0.011080 -0.046879  0.015491  \n",
       "440  0.026560  0.044528 -0.025930  \n",
       "441 -0.039493 -0.004220  0.003064  \n",
       "\n",
       "[442 rows x 10 columns]"
      ]
     },
     "execution_count": 63,
     "metadata": {},
     "output_type": "execute_result"
    }
   ],
   "source": [
    "df_X"
   ]
  },
  {
   "cell_type": "markdown",
   "id": "97fc12be",
   "metadata": {},
   "source": [
    "### (3) 모델에 예측할 데이터 y 준비하기"
   ]
  },
  {
   "cell_type": "code",
   "execution_count": 64,
   "id": "5df1e6ae",
   "metadata": {},
   "outputs": [
    {
     "data": {
      "text/html": [
       "<div>\n",
       "<style scoped>\n",
       "    .dataframe tbody tr th:only-of-type {\n",
       "        vertical-align: middle;\n",
       "    }\n",
       "\n",
       "    .dataframe tbody tr th {\n",
       "        vertical-align: top;\n",
       "    }\n",
       "\n",
       "    .dataframe thead th {\n",
       "        text-align: right;\n",
       "    }\n",
       "</style>\n",
       "<table border=\"1\" class=\"dataframe\">\n",
       "  <thead>\n",
       "    <tr style=\"text-align: right;\">\n",
       "      <th></th>\n",
       "      <th>target</th>\n",
       "    </tr>\n",
       "  </thead>\n",
       "  <tbody>\n",
       "    <tr>\n",
       "      <th>0</th>\n",
       "      <td>151.0</td>\n",
       "    </tr>\n",
       "    <tr>\n",
       "      <th>1</th>\n",
       "      <td>75.0</td>\n",
       "    </tr>\n",
       "    <tr>\n",
       "      <th>2</th>\n",
       "      <td>141.0</td>\n",
       "    </tr>\n",
       "    <tr>\n",
       "      <th>3</th>\n",
       "      <td>206.0</td>\n",
       "    </tr>\n",
       "    <tr>\n",
       "      <th>4</th>\n",
       "      <td>135.0</td>\n",
       "    </tr>\n",
       "    <tr>\n",
       "      <th>...</th>\n",
       "      <td>...</td>\n",
       "    </tr>\n",
       "    <tr>\n",
       "      <th>437</th>\n",
       "      <td>178.0</td>\n",
       "    </tr>\n",
       "    <tr>\n",
       "      <th>438</th>\n",
       "      <td>104.0</td>\n",
       "    </tr>\n",
       "    <tr>\n",
       "      <th>439</th>\n",
       "      <td>132.0</td>\n",
       "    </tr>\n",
       "    <tr>\n",
       "      <th>440</th>\n",
       "      <td>220.0</td>\n",
       "    </tr>\n",
       "    <tr>\n",
       "      <th>441</th>\n",
       "      <td>57.0</td>\n",
       "    </tr>\n",
       "  </tbody>\n",
       "</table>\n",
       "<p>442 rows × 1 columns</p>\n",
       "</div>"
      ],
      "text/plain": [
       "     target\n",
       "0     151.0\n",
       "1      75.0\n",
       "2     141.0\n",
       "3     206.0\n",
       "4     135.0\n",
       "..      ...\n",
       "437   178.0\n",
       "438   104.0\n",
       "439   132.0\n",
       "440   220.0\n",
       "441    57.0\n",
       "\n",
       "[442 rows x 1 columns]"
      ]
     },
     "execution_count": 64,
     "metadata": {},
     "output_type": "execute_result"
    }
   ],
   "source": [
    "df_y"
   ]
  },
  {
   "cell_type": "code",
   "execution_count": 65,
   "id": "eb47d4ec",
   "metadata": {},
   "outputs": [],
   "source": [
    "x = df_X.values"
   ]
  },
  {
   "cell_type": "code",
   "execution_count": 66,
   "id": "c1f21d88",
   "metadata": {},
   "outputs": [],
   "source": [
    "y = df_y['target'].values"
   ]
  },
  {
   "cell_type": "markdown",
   "id": "9589e332",
   "metadata": {},
   "source": [
    "### (4) train 데이터와 test 데이터로 분리하기"
   ]
  },
  {
   "cell_type": "code",
   "execution_count": 67,
   "id": "ab483bf0",
   "metadata": {},
   "outputs": [],
   "source": [
    "from sklearn.model_selection import train_test_split\n",
    "\n",
    "X_train, X_test, y_train, y_test = train_test_split(X, y, test_size=0.2, random_state=1)"
   ]
  },
  {
   "cell_type": "markdown",
   "id": "690ebded",
   "metadata": {},
   "source": [
    "### (5) 모델 준비하기"
   ]
  },
  {
   "cell_type": "code",
   "execution_count": 68,
   "id": "0c042ee6",
   "metadata": {},
   "outputs": [],
   "source": [
    "W = np.random.rand(10)\n",
    "b = np.random.rand()"
   ]
  },
  {
   "cell_type": "code",
   "execution_count": 69,
   "id": "a0658f02",
   "metadata": {},
   "outputs": [
    {
     "data": {
      "text/plain": [
       "array([0.4552806 , 0.46222715, 0.61859813, 0.9130964 , 0.05760394,\n",
       "       0.99858284, 0.32859902, 0.93263882, 0.38958866, 0.91764696])"
      ]
     },
     "execution_count": 69,
     "metadata": {},
     "output_type": "execute_result"
    }
   ],
   "source": [
    "W"
   ]
  },
  {
   "cell_type": "code",
   "execution_count": 70,
   "id": "5b710b4a",
   "metadata": {},
   "outputs": [
    {
     "data": {
      "text/plain": [
       "0.16398615820995222"
      ]
     },
     "execution_count": 70,
     "metadata": {},
     "output_type": "execute_result"
    }
   ],
   "source": [
    "b"
   ]
  },
  {
   "cell_type": "code",
   "execution_count": 76,
   "id": "dffc54b3",
   "metadata": {},
   "outputs": [],
   "source": [
    "def model(x,W,b):\n",
    "    predictions = 0\n",
    "    for i in range(10):\n",
    "        predictions += x[:,i]*W[i]\n",
    "    predictions += b\n",
    "    return predictions"
   ]
  },
  {
   "cell_type": "markdown",
   "id": "b5540562",
   "metadata": {},
   "source": [
    "### (6) 손실함수 loss 정의하기"
   ]
  },
  {
   "cell_type": "code",
   "execution_count": 77,
   "id": "35798312",
   "metadata": {},
   "outputs": [],
   "source": [
    "def MSE(a, b):                    # 손실함수를 MSE 함수로 정의\n",
    "    mse = ((a - b) ** 2).mean()  # 두 값의 차이의 제곱의 평균\n",
    "    return mse"
   ]
  },
  {
   "cell_type": "code",
   "execution_count": 78,
   "id": "f937b4cf",
   "metadata": {},
   "outputs": [],
   "source": [
    "def loss(x, w, b, y):\n",
    "    predictions = model(x, w, b)\n",
    "    L = MSE(predictions, y)\n",
    "    return L"
   ]
  },
  {
   "cell_type": "markdown",
   "id": "a9c5302f",
   "metadata": {},
   "source": [
    "### (7) 기울기를 구하는 gradient 함수 구현하기"
   ]
  },
  {
   "cell_type": "code",
   "execution_count": 123,
   "id": "5140d951",
   "metadata": {},
   "outputs": [],
   "source": [
    "def gradient(X,W,b,y):\n",
    "    N = len(W)                          # N은 가중치의 개수\n",
    "    y_pred = model(X,W,b)               # y_pred 준비\n",
    "    \n",
    "    dW = 1/N * 2 * (X.T).dot(y_pred-y) # 공식에 맞게 gradient 계산\n",
    "    db = 2 * (y_pred-y).mean()         # b의 gradient 계산\n",
    "    return dW, db"
   ]
  },
  {
   "cell_type": "markdown",
   "id": "fad84581",
   "metadata": {},
   "source": [
    "### (8) 학습률 설정하기"
   ]
  },
  {
   "cell_type": "code",
   "execution_count": 124,
   "id": "f4876a42",
   "metadata": {},
   "outputs": [],
   "source": [
    "learning_rate = 0.001 # 사람이 설정하는 매개변수: 하이퍼 파라미터 "
   ]
  },
  {
   "cell_type": "markdown",
   "id": "c6f71bbc",
   "metadata": {},
   "source": [
    "### (9) 모델 학습하기"
   ]
  },
  {
   "cell_type": "code",
   "execution_count": 125,
   "id": "99d6e105",
   "metadata": {},
   "outputs": [
    {
     "name": "stdout",
     "output_type": "stream",
     "text": [
      "Iteration 10 : Loss 4486.0012\n",
      "Iteration 20 : Loss 4479.7099\n",
      "Iteration 30 : Loss 4473.4490\n",
      "Iteration 40 : Loss 4467.2180\n",
      "Iteration 50 : Loss 4461.0169\n",
      "Iteration 60 : Loss 4454.8454\n",
      "Iteration 70 : Loss 4448.7034\n",
      "Iteration 80 : Loss 4442.5906\n",
      "Iteration 90 : Loss 4436.5069\n",
      "Iteration 100 : Loss 4430.4521\n",
      "Iteration 110 : Loss 4424.4259\n",
      "Iteration 120 : Loss 4418.4283\n",
      "Iteration 130 : Loss 4412.4590\n",
      "Iteration 140 : Loss 4406.5177\n",
      "Iteration 150 : Loss 4400.6045\n",
      "Iteration 160 : Loss 4394.7190\n",
      "Iteration 170 : Loss 4388.8611\n",
      "Iteration 180 : Loss 4383.0306\n",
      "Iteration 190 : Loss 4377.2274\n",
      "Iteration 200 : Loss 4371.4512\n",
      "Iteration 210 : Loss 4365.7019\n",
      "Iteration 220 : Loss 4359.9794\n",
      "Iteration 230 : Loss 4354.2834\n",
      "Iteration 240 : Loss 4348.6138\n",
      "Iteration 250 : Loss 4342.9704\n",
      "Iteration 260 : Loss 4337.3531\n",
      "Iteration 270 : Loss 4331.7616\n",
      "Iteration 280 : Loss 4326.1959\n",
      "Iteration 290 : Loss 4320.6558\n",
      "Iteration 300 : Loss 4315.1411\n",
      "Iteration 310 : Loss 4309.6516\n",
      "Iteration 320 : Loss 4304.1873\n",
      "Iteration 330 : Loss 4298.7479\n",
      "Iteration 340 : Loss 4293.3333\n",
      "Iteration 350 : Loss 4287.9433\n",
      "Iteration 360 : Loss 4282.5778\n",
      "Iteration 370 : Loss 4277.2367\n",
      "Iteration 380 : Loss 4271.9198\n",
      "Iteration 390 : Loss 4266.6269\n",
      "Iteration 400 : Loss 4261.3579\n",
      "Iteration 410 : Loss 4256.1127\n",
      "Iteration 420 : Loss 4250.8911\n",
      "Iteration 430 : Loss 4245.6929\n",
      "Iteration 440 : Loss 4240.5181\n",
      "Iteration 450 : Loss 4235.3665\n",
      "Iteration 460 : Loss 4230.2379\n",
      "Iteration 470 : Loss 4225.1323\n",
      "Iteration 480 : Loss 4220.0494\n",
      "Iteration 490 : Loss 4214.9892\n",
      "Iteration 500 : Loss 4209.9515\n",
      "Iteration 510 : Loss 4204.9362\n",
      "Iteration 520 : Loss 4199.9431\n",
      "Iteration 530 : Loss 4194.9721\n",
      "Iteration 540 : Loss 4190.0232\n",
      "Iteration 550 : Loss 4185.0960\n",
      "Iteration 560 : Loss 4180.1907\n",
      "Iteration 570 : Loss 4175.3069\n",
      "Iteration 580 : Loss 4170.4446\n",
      "Iteration 590 : Loss 4165.6037\n",
      "Iteration 600 : Loss 4160.7840\n",
      "Iteration 610 : Loss 4155.9854\n",
      "Iteration 620 : Loss 4151.2078\n",
      "Iteration 630 : Loss 4146.4510\n",
      "Iteration 640 : Loss 4141.7151\n",
      "Iteration 650 : Loss 4136.9997\n",
      "Iteration 660 : Loss 4132.3049\n",
      "Iteration 670 : Loss 4127.6304\n",
      "Iteration 680 : Loss 4122.9763\n",
      "Iteration 690 : Loss 4118.3423\n",
      "Iteration 700 : Loss 4113.7284\n",
      "Iteration 710 : Loss 4109.1344\n",
      "Iteration 720 : Loss 4104.5602\n",
      "Iteration 730 : Loss 4100.0058\n",
      "Iteration 740 : Loss 4095.4710\n",
      "Iteration 750 : Loss 4090.9556\n",
      "Iteration 760 : Loss 4086.4597\n",
      "Iteration 770 : Loss 4081.9830\n",
      "Iteration 780 : Loss 4077.5255\n",
      "Iteration 790 : Loss 4073.0871\n",
      "Iteration 800 : Loss 4068.6677\n",
      "Iteration 810 : Loss 4064.2671\n",
      "Iteration 820 : Loss 4059.8853\n",
      "Iteration 830 : Loss 4055.5221\n",
      "Iteration 840 : Loss 4051.1775\n",
      "Iteration 850 : Loss 4046.8513\n",
      "Iteration 860 : Loss 4042.5435\n",
      "Iteration 870 : Loss 4038.2539\n",
      "Iteration 880 : Loss 4033.9825\n",
      "Iteration 890 : Loss 4029.7291\n",
      "Iteration 900 : Loss 4025.4937\n",
      "Iteration 910 : Loss 4021.2762\n",
      "Iteration 920 : Loss 4017.0764\n",
      "Iteration 930 : Loss 4012.8943\n",
      "Iteration 940 : Loss 4008.7298\n",
      "Iteration 950 : Loss 4004.5827\n",
      "Iteration 960 : Loss 4000.4530\n",
      "Iteration 970 : Loss 3996.3407\n",
      "Iteration 980 : Loss 3992.2455\n",
      "Iteration 990 : Loss 3988.1674\n",
      "Iteration 1000 : Loss 3984.1064\n",
      "Iteration 1010 : Loss 3980.0623\n",
      "Iteration 1020 : Loss 3976.0350\n",
      "Iteration 1030 : Loss 3972.0245\n",
      "Iteration 1040 : Loss 3968.0307\n",
      "Iteration 1050 : Loss 3964.0534\n",
      "Iteration 1060 : Loss 3960.0927\n",
      "Iteration 1070 : Loss 3956.1483\n",
      "Iteration 1080 : Loss 3952.2203\n",
      "Iteration 1090 : Loss 3948.3084\n",
      "Iteration 1100 : Loss 3944.4128\n",
      "Iteration 1110 : Loss 3940.5332\n",
      "Iteration 1120 : Loss 3936.6696\n",
      "Iteration 1130 : Loss 3932.8219\n",
      "Iteration 1140 : Loss 3928.9901\n",
      "Iteration 1150 : Loss 3925.1739\n",
      "Iteration 1160 : Loss 3921.3735\n",
      "Iteration 1170 : Loss 3917.5886\n",
      "Iteration 1180 : Loss 3913.8192\n",
      "Iteration 1190 : Loss 3910.0653\n",
      "Iteration 1200 : Loss 3906.3266\n",
      "Iteration 1210 : Loss 3902.6033\n",
      "Iteration 1220 : Loss 3898.8951\n",
      "Iteration 1230 : Loss 3895.2021\n",
      "Iteration 1240 : Loss 3891.5241\n",
      "Iteration 1250 : Loss 3887.8610\n",
      "Iteration 1260 : Loss 3884.2129\n",
      "Iteration 1270 : Loss 3880.5795\n",
      "Iteration 1280 : Loss 3876.9609\n",
      "Iteration 1290 : Loss 3873.3570\n",
      "Iteration 1300 : Loss 3869.7676\n",
      "Iteration 1310 : Loss 3866.1928\n",
      "Iteration 1320 : Loss 3862.6324\n",
      "Iteration 1330 : Loss 3859.0864\n",
      "Iteration 1340 : Loss 3855.5546\n",
      "Iteration 1350 : Loss 3852.0371\n",
      "Iteration 1360 : Loss 3848.5338\n",
      "Iteration 1370 : Loss 3845.0446\n",
      "Iteration 1380 : Loss 3841.5694\n",
      "Iteration 1390 : Loss 3838.1081\n",
      "Iteration 1400 : Loss 3834.6608\n",
      "Iteration 1410 : Loss 3831.2272\n",
      "Iteration 1420 : Loss 3827.8074\n",
      "Iteration 1430 : Loss 3824.4013\n",
      "Iteration 1440 : Loss 3821.0088\n",
      "Iteration 1450 : Loss 3817.6299\n",
      "Iteration 1460 : Loss 3814.2644\n",
      "Iteration 1470 : Loss 3810.9124\n",
      "Iteration 1480 : Loss 3807.5737\n",
      "Iteration 1490 : Loss 3804.2483\n",
      "Iteration 1500 : Loss 3800.9362\n",
      "Iteration 1510 : Loss 3797.6372\n",
      "Iteration 1520 : Loss 3794.3513\n",
      "Iteration 1530 : Loss 3791.0784\n",
      "Iteration 1540 : Loss 3787.8185\n",
      "Iteration 1550 : Loss 3784.5715\n",
      "Iteration 1560 : Loss 3781.3374\n",
      "Iteration 1570 : Loss 3778.1161\n",
      "Iteration 1580 : Loss 3774.9075\n",
      "Iteration 1590 : Loss 3771.7116\n",
      "Iteration 1600 : Loss 3768.5283\n",
      "Iteration 1610 : Loss 3765.3575\n",
      "Iteration 1620 : Loss 3762.1992\n",
      "Iteration 1630 : Loss 3759.0534\n",
      "Iteration 1640 : Loss 3755.9199\n",
      "Iteration 1650 : Loss 3752.7988\n",
      "Iteration 1660 : Loss 3749.6899\n",
      "Iteration 1670 : Loss 3746.5932\n",
      "Iteration 1680 : Loss 3743.5087\n",
      "Iteration 1690 : Loss 3740.4362\n",
      "Iteration 1700 : Loss 3737.3758\n",
      "Iteration 1710 : Loss 3734.3273\n",
      "Iteration 1720 : Loss 3731.2908\n",
      "Iteration 1730 : Loss 3728.2661\n",
      "Iteration 1740 : Loss 3725.2533\n",
      "Iteration 1750 : Loss 3722.2522\n",
      "Iteration 1760 : Loss 3719.2628\n",
      "Iteration 1770 : Loss 3716.2850\n",
      "Iteration 1780 : Loss 3713.3189\n",
      "Iteration 1790 : Loss 3710.3642\n",
      "Iteration 1800 : Loss 3707.4211\n",
      "Iteration 1810 : Loss 3704.4894\n",
      "Iteration 1820 : Loss 3701.5691\n",
      "Iteration 1830 : Loss 3698.6601\n",
      "Iteration 1840 : Loss 3695.7624\n",
      "Iteration 1850 : Loss 3692.8759\n",
      "Iteration 1860 : Loss 3690.0006\n",
      "Iteration 1870 : Loss 3687.1364\n",
      "Iteration 1880 : Loss 3684.2833\n",
      "Iteration 1890 : Loss 3681.4412\n",
      "Iteration 1900 : Loss 3678.6100\n",
      "Iteration 1910 : Loss 3675.7899\n",
      "Iteration 1920 : Loss 3672.9805\n",
      "Iteration 1930 : Loss 3670.1820\n",
      "Iteration 1940 : Loss 3667.3943\n",
      "Iteration 1950 : Loss 3664.6173\n",
      "Iteration 1960 : Loss 3661.8510\n",
      "Iteration 1970 : Loss 3659.0954\n",
      "Iteration 1980 : Loss 3656.3503\n",
      "Iteration 1990 : Loss 3653.6157\n",
      "Iteration 2000 : Loss 3650.8917\n",
      "Iteration 2010 : Loss 3648.1781\n",
      "Iteration 2020 : Loss 3645.4749\n",
      "Iteration 2030 : Loss 3642.7820\n",
      "Iteration 2040 : Loss 3640.0994\n",
      "Iteration 2050 : Loss 3637.4271\n",
      "Iteration 2060 : Loss 3634.7651\n",
      "Iteration 2070 : Loss 3632.1131\n",
      "Iteration 2080 : Loss 3629.4714\n",
      "Iteration 2090 : Loss 3626.8396\n",
      "Iteration 2100 : Loss 3624.2180\n",
      "Iteration 2110 : Loss 3621.6063\n",
      "Iteration 2120 : Loss 3619.0045\n",
      "Iteration 2130 : Loss 3616.4127\n",
      "Iteration 2140 : Loss 3613.8307\n",
      "Iteration 2150 : Loss 3611.2586\n",
      "Iteration 2160 : Loss 3608.6962\n",
      "Iteration 2170 : Loss 3606.1435\n",
      "Iteration 2180 : Loss 3603.6006\n",
      "Iteration 2190 : Loss 3601.0673\n",
      "Iteration 2200 : Loss 3598.5436\n",
      "Iteration 2210 : Loss 3596.0294\n",
      "Iteration 2220 : Loss 3593.5248\n",
      "Iteration 2230 : Loss 3591.0296\n",
      "Iteration 2240 : Loss 3588.5439\n",
      "Iteration 2250 : Loss 3586.0676\n",
      "Iteration 2260 : Loss 3583.6006\n",
      "Iteration 2270 : Loss 3581.1430\n",
      "Iteration 2280 : Loss 3578.6946\n",
      "Iteration 2290 : Loss 3576.2555\n",
      "Iteration 2300 : Loss 3573.8256\n",
      "Iteration 2310 : Loss 3571.4048\n",
      "Iteration 2320 : Loss 3568.9932\n",
      "Iteration 2330 : Loss 3566.5906\n",
      "Iteration 2340 : Loss 3564.1971\n",
      "Iteration 2350 : Loss 3561.8125\n",
      "Iteration 2360 : Loss 3559.4369\n",
      "Iteration 2370 : Loss 3557.0703\n",
      "Iteration 2380 : Loss 3554.7125\n",
      "Iteration 2390 : Loss 3552.3636\n",
      "Iteration 2400 : Loss 3550.0235\n",
      "Iteration 2410 : Loss 3547.6922\n",
      "Iteration 2420 : Loss 3545.3696\n",
      "Iteration 2430 : Loss 3543.0557\n",
      "Iteration 2440 : Loss 3540.7505\n",
      "Iteration 2450 : Loss 3538.4539\n",
      "Iteration 2460 : Loss 3536.1659\n",
      "Iteration 2470 : Loss 3533.8864\n",
      "Iteration 2480 : Loss 3531.6154\n",
      "Iteration 2490 : Loss 3529.3530\n",
      "Iteration 2500 : Loss 3527.0990\n",
      "Iteration 2510 : Loss 3524.8533\n",
      "Iteration 2520 : Loss 3522.6161\n",
      "Iteration 2530 : Loss 3520.3872\n",
      "Iteration 2540 : Loss 3518.1666\n",
      "Iteration 2550 : Loss 3515.9543\n",
      "Iteration 2560 : Loss 3513.7502\n",
      "Iteration 2570 : Loss 3511.5543\n",
      "Iteration 2580 : Loss 3509.3666\n",
      "Iteration 2590 : Loss 3507.1870\n",
      "Iteration 2600 : Loss 3505.0155\n",
      "Iteration 2610 : Loss 3502.8520\n",
      "Iteration 2620 : Loss 3500.6966\n",
      "Iteration 2630 : Loss 3498.5492\n",
      "Iteration 2640 : Loss 3496.4098\n",
      "Iteration 2650 : Loss 3494.2783\n",
      "Iteration 2660 : Loss 3492.1546\n"
     ]
    },
    {
     "name": "stdout",
     "output_type": "stream",
     "text": [
      "Iteration 2670 : Loss 3490.0389\n",
      "Iteration 2680 : Loss 3487.9310\n",
      "Iteration 2690 : Loss 3485.8309\n",
      "Iteration 2700 : Loss 3483.7385\n",
      "Iteration 2710 : Loss 3481.6539\n",
      "Iteration 2720 : Loss 3479.5770\n",
      "Iteration 2730 : Loss 3477.5077\n",
      "Iteration 2740 : Loss 3475.4461\n",
      "Iteration 2750 : Loss 3473.3921\n",
      "Iteration 2760 : Loss 3471.3457\n",
      "Iteration 2770 : Loss 3469.3068\n",
      "Iteration 2780 : Loss 3467.2755\n",
      "Iteration 2790 : Loss 3465.2516\n",
      "Iteration 2800 : Loss 3463.2352\n",
      "Iteration 2810 : Loss 3461.2262\n",
      "Iteration 2820 : Loss 3459.2246\n",
      "Iteration 2830 : Loss 3457.2304\n",
      "Iteration 2840 : Loss 3455.2435\n",
      "Iteration 2850 : Loss 3453.2639\n",
      "Iteration 2860 : Loss 3451.2915\n",
      "Iteration 2870 : Loss 3449.3264\n",
      "Iteration 2880 : Loss 3447.3686\n",
      "Iteration 2890 : Loss 3445.4179\n",
      "Iteration 2900 : Loss 3443.4744\n",
      "Iteration 2910 : Loss 3441.5379\n",
      "Iteration 2920 : Loss 3439.6086\n",
      "Iteration 2930 : Loss 3437.6864\n",
      "Iteration 2940 : Loss 3435.7712\n",
      "Iteration 2950 : Loss 3433.8630\n",
      "Iteration 2960 : Loss 3431.9618\n",
      "Iteration 2970 : Loss 3430.0675\n",
      "Iteration 2980 : Loss 3428.1802\n",
      "Iteration 2990 : Loss 3426.2998\n",
      "Iteration 3000 : Loss 3424.4262\n"
     ]
    }
   ],
   "source": [
    "losses = []\n",
    "\n",
    "for i in range(1, 3001):\n",
    "    dW, db = gradient(X_train, W, b, y_train) # 모델이 prediction을 예측하고, 손실함수값을 계산함과 동시에 기울기 계산\n",
    "    W -= learning_rate*dW                     # w = w - η * dw 로 업데이트\n",
    "    b -= learning_rate*db                     # b = b - η * db 로 업데이트\n",
    "    L = loss(X, W, b, y)                      # 현재의 loss 값 계산\n",
    "    losses.append(L)                          # loss 값 기록\n",
    "    \n",
    "    if i % 10 == 0:\n",
    "        print('Iteration %d : Loss %0.4f' % (i, L))"
   ]
  },
  {
   "cell_type": "markdown",
   "id": "dfdeaaf1",
   "metadata": {},
   "source": [
    "### (10) test 데이터에 대한 성능 확인하기"
   ]
  },
  {
   "cell_type": "code",
   "execution_count": 127,
   "id": "6fe7569e",
   "metadata": {},
   "outputs": [
    {
     "data": {
      "text/plain": [
       "3309.433980026633"
      ]
     },
     "execution_count": 127,
     "metadata": {},
     "output_type": "execute_result"
    }
   ],
   "source": [
    "predictions = model(X_test, W, b)\n",
    "mse = loss(X_test, W, b, y_test)\n",
    "mse"
   ]
  },
  {
   "cell_type": "markdown",
   "id": "ed3ac7c5",
   "metadata": {},
   "source": [
    "### (11) 정답 데이터와 예측한 데이터 시각화하기"
   ]
  },
  {
   "cell_type": "code",
   "execution_count": 128,
   "id": "ff5d10df",
   "metadata": {},
   "outputs": [
    {
     "data": {
      "image/png": "[encoded data removed]",
      "text/plain": [
       "<Figure size 432x288 with 1 Axes>"
      ]
     },
     "metadata": {
      "needs_background": "light"
     },
     "output_type": "display_data"
    }
   ],
   "source": [
    "plt.plot(losses)  #matplotlib을 이용한 visualization\n",
    "plt.show()"
   ]
  },
  {
   "cell_type": "code",
   "execution_count": 129,
   "id": "b6d452fb",
   "metadata": {},
   "outputs": [
    {
     "data": {
      "image/png": "[encoded data removed]",
      "text/plain": [
       "<Figure size 432x288 with 1 Axes>"
      ]
     },
     "metadata": {
      "needs_background": "light"
     },
     "output_type": "display_data"
    }
   ],
   "source": [
    "plt.scatter(X_test[:, 0], y_test, label=\"true\")        \n",
    "plt.scatter(X_test[:, 0], predictions, label=\"pred\")\n",
    "plt.legend()\n",
    "plt.show()"
   ]
  },
  {
   "cell_type": "markdown",
   "id": "80932bf8",
   "metadata": {},
   "source": [
    "<br>"
   ]
  },
  {
   "cell_type": "markdown",
   "id": "aa9918c0",
   "metadata": {},
   "source": [
    "# 프로젝트 2 : 날씨 좋은 월요일 오후 세 시, 자전거 타는 사람은 몇 명?"
   ]
  },
  {
   "cell_type": "markdown",
   "id": "a3ea8130",
   "metadata": {},
   "source": [
    "### (1) 데이터 가져오기"
   ]
  },
  {
   "cell_type": "code",
   "execution_count": 181,
   "id": "cba35a27",
   "metadata": {},
   "outputs": [],
   "source": [
    "import pandas as pd\n",
    "import numpy as np"
   ]
  },
  {
   "cell_type": "code",
   "execution_count": 182,
   "id": "8f47f5a3",
   "metadata": {},
   "outputs": [
    {
     "data": {
      "text/html": [
       "<div>\n",
       "<style scoped>\n",
       "    .dataframe tbody tr th:only-of-type {\n",
       "        vertical-align: middle;\n",
       "    }\n",
       "\n",
       "    .dataframe tbody tr th {\n",
       "        vertical-align: top;\n",
       "    }\n",
       "\n",
       "    .dataframe thead th {\n",
       "        text-align: right;\n",
       "    }\n",
       "</style>\n",
       "<table border=\"1\" class=\"dataframe\">\n",
       "  <thead>\n",
       "    <tr style=\"text-align: right;\">\n",
       "      <th></th>\n",
       "      <th>datetime</th>\n",
       "      <th>season</th>\n",
       "      <th>holiday</th>\n",
       "      <th>workingday</th>\n",
       "      <th>weather</th>\n",
       "      <th>temp</th>\n",
       "      <th>atemp</th>\n",
       "      <th>humidity</th>\n",
       "      <th>windspeed</th>\n",
       "      <th>casual</th>\n",
       "      <th>registered</th>\n",
       "      <th>count</th>\n",
       "    </tr>\n",
       "  </thead>\n",
       "  <tbody>\n",
       "    <tr>\n",
       "      <th>0</th>\n",
       "      <td>2011-01-01 00:00:00</td>\n",
       "      <td>1</td>\n",
       "      <td>0</td>\n",
       "      <td>0</td>\n",
       "      <td>1</td>\n",
       "      <td>9.84</td>\n",
       "      <td>14.395</td>\n",
       "      <td>81</td>\n",
       "      <td>0.0</td>\n",
       "      <td>3</td>\n",
       "      <td>13</td>\n",
       "      <td>16</td>\n",
       "    </tr>\n",
       "    <tr>\n",
       "      <th>1</th>\n",
       "      <td>2011-01-01 01:00:00</td>\n",
       "      <td>1</td>\n",
       "      <td>0</td>\n",
       "      <td>0</td>\n",
       "      <td>1</td>\n",
       "      <td>9.02</td>\n",
       "      <td>13.635</td>\n",
       "      <td>80</td>\n",
       "      <td>0.0</td>\n",
       "      <td>8</td>\n",
       "      <td>32</td>\n",
       "      <td>40</td>\n",
       "    </tr>\n",
       "    <tr>\n",
       "      <th>2</th>\n",
       "      <td>2011-01-01 02:00:00</td>\n",
       "      <td>1</td>\n",
       "      <td>0</td>\n",
       "      <td>0</td>\n",
       "      <td>1</td>\n",
       "      <td>9.02</td>\n",
       "      <td>13.635</td>\n",
       "      <td>80</td>\n",
       "      <td>0.0</td>\n",
       "      <td>5</td>\n",
       "      <td>27</td>\n",
       "      <td>32</td>\n",
       "    </tr>\n",
       "    <tr>\n",
       "      <th>3</th>\n",
       "      <td>2011-01-01 03:00:00</td>\n",
       "      <td>1</td>\n",
       "      <td>0</td>\n",
       "      <td>0</td>\n",
       "      <td>1</td>\n",
       "      <td>9.84</td>\n",
       "      <td>14.395</td>\n",
       "      <td>75</td>\n",
       "      <td>0.0</td>\n",
       "      <td>3</td>\n",
       "      <td>10</td>\n",
       "      <td>13</td>\n",
       "    </tr>\n",
       "    <tr>\n",
       "      <th>4</th>\n",
       "      <td>2011-01-01 04:00:00</td>\n",
       "      <td>1</td>\n",
       "      <td>0</td>\n",
       "      <td>0</td>\n",
       "      <td>1</td>\n",
       "      <td>9.84</td>\n",
       "      <td>14.395</td>\n",
       "      <td>75</td>\n",
       "      <td>0.0</td>\n",
       "      <td>0</td>\n",
       "      <td>1</td>\n",
       "      <td>1</td>\n",
       "    </tr>\n",
       "  </tbody>\n",
       "</table>\n",
       "</div>"
      ],
      "text/plain": [
       "              datetime  season  holiday  workingday  weather  temp   atemp  \\\n",
       "0  2011-01-01 00:00:00       1        0           0        1  9.84  14.395   \n",
       "1  2011-01-01 01:00:00       1        0           0        1  9.02  13.635   \n",
       "2  2011-01-01 02:00:00       1        0           0        1  9.02  13.635   \n",
       "3  2011-01-01 03:00:00       1        0           0        1  9.84  14.395   \n",
       "4  2011-01-01 04:00:00       1        0           0        1  9.84  14.395   \n",
       "\n",
       "   humidity  windspeed  casual  registered  count  \n",
       "0        81        0.0       3          13     16  \n",
       "1        80        0.0       8          32     40  \n",
       "2        80        0.0       5          27     32  \n",
       "3        75        0.0       3          10     13  \n",
       "4        75        0.0       0           1      1  "
      ]
     },
     "execution_count": 182,
     "metadata": {},
     "output_type": "execute_result"
    }
   ],
   "source": [
    "train = pd.read_csv(\"~/data/data/bike-sharing-demand/train.csv\")\n",
    "train.head()"
   ]
  },
  {
   "cell_type": "markdown",
   "id": "c81750a1",
   "metadata": {},
   "source": [
    "### (2) datetime 컬럼을 datetime 자료형으로 변환하고 연, 월, 일, 시, 분, 초까지 6가지 컬럼 생성하기"
   ]
  },
  {
   "cell_type": "code",
   "execution_count": 183,
   "id": "ffe04985",
   "metadata": {},
   "outputs": [],
   "source": [
    "train['datetime'] = pd.to_datetime(train['datetime'], format='%Y-%m-%d %H:%M:%S')"
   ]
  },
  {
   "cell_type": "code",
   "execution_count": 184,
   "id": "f4a236b9",
   "metadata": {
    "scrolled": true
   },
   "outputs": [
    {
     "data": {
      "text/html": [
       "<div>\n",
       "<style scoped>\n",
       "    .dataframe tbody tr th:only-of-type {\n",
       "        vertical-align: middle;\n",
       "    }\n",
       "\n",
       "    .dataframe tbody tr th {\n",
       "        vertical-align: top;\n",
       "    }\n",
       "\n",
       "    .dataframe thead th {\n",
       "        text-align: right;\n",
       "    }\n",
       "</style>\n",
       "<table border=\"1\" class=\"dataframe\">\n",
       "  <thead>\n",
       "    <tr style=\"text-align: right;\">\n",
       "      <th></th>\n",
       "      <th>datetime</th>\n",
       "      <th>season</th>\n",
       "      <th>holiday</th>\n",
       "      <th>workingday</th>\n",
       "      <th>weather</th>\n",
       "      <th>temp</th>\n",
       "      <th>atemp</th>\n",
       "      <th>humidity</th>\n",
       "      <th>windspeed</th>\n",
       "      <th>casual</th>\n",
       "      <th>registered</th>\n",
       "      <th>count</th>\n",
       "      <th>year</th>\n",
       "      <th>month</th>\n",
       "      <th>day</th>\n",
       "      <th>hour</th>\n",
       "      <th>minute</th>\n",
       "      <th>second</th>\n",
       "    </tr>\n",
       "  </thead>\n",
       "  <tbody>\n",
       "    <tr>\n",
       "      <th>0</th>\n",
       "      <td>2011-01-01 00:00:00</td>\n",
       "      <td>1</td>\n",
       "      <td>0</td>\n",
       "      <td>0</td>\n",
       "      <td>1</td>\n",
       "      <td>9.84</td>\n",
       "      <td>14.395</td>\n",
       "      <td>81</td>\n",
       "      <td>0.0</td>\n",
       "      <td>3</td>\n",
       "      <td>13</td>\n",
       "      <td>16</td>\n",
       "      <td>2011</td>\n",
       "      <td>1</td>\n",
       "      <td>1</td>\n",
       "      <td>0</td>\n",
       "      <td>0</td>\n",
       "      <td>0</td>\n",
       "    </tr>\n",
       "    <tr>\n",
       "      <th>1</th>\n",
       "      <td>2011-01-01 01:00:00</td>\n",
       "      <td>1</td>\n",
       "      <td>0</td>\n",
       "      <td>0</td>\n",
       "      <td>1</td>\n",
       "      <td>9.02</td>\n",
       "      <td>13.635</td>\n",
       "      <td>80</td>\n",
       "      <td>0.0</td>\n",
       "      <td>8</td>\n",
       "      <td>32</td>\n",
       "      <td>40</td>\n",
       "      <td>2011</td>\n",
       "      <td>1</td>\n",
       "      <td>1</td>\n",
       "      <td>1</td>\n",
       "      <td>0</td>\n",
       "      <td>0</td>\n",
       "    </tr>\n",
       "    <tr>\n",
       "      <th>2</th>\n",
       "      <td>2011-01-01 02:00:00</td>\n",
       "      <td>1</td>\n",
       "      <td>0</td>\n",
       "      <td>0</td>\n",
       "      <td>1</td>\n",
       "      <td>9.02</td>\n",
       "      <td>13.635</td>\n",
       "      <td>80</td>\n",
       "      <td>0.0</td>\n",
       "      <td>5</td>\n",
       "      <td>27</td>\n",
       "      <td>32</td>\n",
       "      <td>2011</td>\n",
       "      <td>1</td>\n",
       "      <td>1</td>\n",
       "      <td>2</td>\n",
       "      <td>0</td>\n",
       "      <td>0</td>\n",
       "    </tr>\n",
       "    <tr>\n",
       "      <th>3</th>\n",
       "      <td>2011-01-01 03:00:00</td>\n",
       "      <td>1</td>\n",
       "      <td>0</td>\n",
       "      <td>0</td>\n",
       "      <td>1</td>\n",
       "      <td>9.84</td>\n",
       "      <td>14.395</td>\n",
       "      <td>75</td>\n",
       "      <td>0.0</td>\n",
       "      <td>3</td>\n",
       "      <td>10</td>\n",
       "      <td>13</td>\n",
       "      <td>2011</td>\n",
       "      <td>1</td>\n",
       "      <td>1</td>\n",
       "      <td>3</td>\n",
       "      <td>0</td>\n",
       "      <td>0</td>\n",
       "    </tr>\n",
       "    <tr>\n",
       "      <th>4</th>\n",
       "      <td>2011-01-01 04:00:00</td>\n",
       "      <td>1</td>\n",
       "      <td>0</td>\n",
       "      <td>0</td>\n",
       "      <td>1</td>\n",
       "      <td>9.84</td>\n",
       "      <td>14.395</td>\n",
       "      <td>75</td>\n",
       "      <td>0.0</td>\n",
       "      <td>0</td>\n",
       "      <td>1</td>\n",
       "      <td>1</td>\n",
       "      <td>2011</td>\n",
       "      <td>1</td>\n",
       "      <td>1</td>\n",
       "      <td>4</td>\n",
       "      <td>0</td>\n",
       "      <td>0</td>\n",
       "    </tr>\n",
       "  </tbody>\n",
       "</table>\n",
       "</div>"
      ],
      "text/plain": [
       "             datetime  season  holiday  workingday  weather  temp   atemp  \\\n",
       "0 2011-01-01 00:00:00       1        0           0        1  9.84  14.395   \n",
       "1 2011-01-01 01:00:00       1        0           0        1  9.02  13.635   \n",
       "2 2011-01-01 02:00:00       1        0           0        1  9.02  13.635   \n",
       "3 2011-01-01 03:00:00       1        0           0        1  9.84  14.395   \n",
       "4 2011-01-01 04:00:00       1        0           0        1  9.84  14.395   \n",
       "\n",
       "   humidity  windspeed  casual  registered  count  year  month  day  hour  \\\n",
       "0        81        0.0       3          13     16  2011      1    1     0   \n",
       "1        80        0.0       8          32     40  2011      1    1     1   \n",
       "2        80        0.0       5          27     32  2011      1    1     2   \n",
       "3        75        0.0       3          10     13  2011      1    1     3   \n",
       "4        75        0.0       0           1      1  2011      1    1     4   \n",
       "\n",
       "   minute  second  \n",
       "0       0       0  \n",
       "1       0       0  \n",
       "2       0       0  \n",
       "3       0       0  \n",
       "4       0       0  "
      ]
     },
     "execution_count": 184,
     "metadata": {},
     "output_type": "execute_result"
    }
   ],
   "source": [
    "train['year'] = pd.DatetimeIndex(train['datetime']).year\n",
    "train['month'] = pd.DatetimeIndex(train['datetime']).month\n",
    "train['day'] = pd.DatetimeIndex(train['datetime']).day\n",
    "train['hour'] = pd.DatetimeIndex(train['datetime']).hour\n",
    "train['minute'] = pd.DatetimeIndex(train['datetime']).minute\n",
    "train['second'] = pd.DatetimeIndex(train['datetime']).second\n",
    "\n",
    "train.head()"
   ]
  },
  {
   "cell_type": "markdown",
   "id": "0e481415",
   "metadata": {},
   "source": [
    "### (3) year, month, day, hour, minute, second 데이터 개수 시각화하기"
   ]
  },
  {
   "cell_type": "code",
   "execution_count": 185,
   "id": "ffefa750",
   "metadata": {},
   "outputs": [
    {
     "data": {
      "image/png": "[encoded data removed]",
      "text/plain": [
       "<Figure size 1440x720 with 6 Axes>"
      ]
     },
     "metadata": {
      "needs_background": "light"
     },
     "output_type": "display_data"
    }
   ],
   "source": [
    "import matplotlib.pyplot as plt\n",
    "import seaborn as sns\n",
    "\n",
    "plt.figure(figsize=(20,10))\n",
    "plt.subplot(2,3,1) #2행 3열의 1행 1열 그림\n",
    "sns.countplot(x='year', data=train)\n",
    "\n",
    "plt.subplot(2,3,2) #2행 3열의 1행 2열 그림\n",
    "sns.countplot(x='month', data=train)\n",
    "\n",
    "plt.subplot(2,3,3) #2행 3열의 1행 3열 그림\n",
    "sns.countplot(x='day', data=train)\n",
    "\n",
    "plt.subplot(2,3,4) #2행 3열의 2행 1열 그림\n",
    "sns.countplot(x='hour', data=train)\n",
    "\n",
    "plt.subplot(2,3,5) #2행 3열의 2행 2열 그림\n",
    "sns.countplot(x='minute', data=train)\n",
    "\n",
    "plt.subplot(2,3,6) #2행 3열의 2행 3열 그림\n",
    "sns.countplot(x='second', data=train)\n",
    "\n",
    "plt.show()"
   ]
  },
  {
   "cell_type": "markdown",
   "id": "3a366b6d",
   "metadata": {},
   "source": [
    "### (4) X, y 컬럼 선택 및 train/test 데이터 분리"
   ]
  },
  {
   "cell_type": "code",
   "execution_count": 186,
   "id": "5a2f1ac2",
   "metadata": {},
   "outputs": [],
   "source": [
    "X = train[['season', 'workingday', 'weather', 'temp', 'atemp', 'humidity', 'windspeed', 'year', 'month', 'day', 'hour']].values\n",
    "y = train[['count']].values"
   ]
  },
  {
   "cell_type": "code",
   "execution_count": 187,
   "id": "55e172b7",
   "metadata": {},
   "outputs": [],
   "source": [
    "from sklearn.model_selection import train_test_split\n",
    "X_train, X_test, y_train, y_test = train_test_split(X, y, test_size=0.2, random_state=42)"
   ]
  },
  {
   "cell_type": "markdown",
   "id": "a489ad42",
   "metadata": {},
   "source": [
    "### (5) LinearRegression 모델 학습"
   ]
  },
  {
   "cell_type": "code",
   "execution_count": 188,
   "id": "611d105b",
   "metadata": {},
   "outputs": [
    {
     "data": {
      "text/plain": [
       "LinearRegression()"
      ]
     },
     "execution_count": 188,
     "metadata": {},
     "output_type": "execute_result"
    }
   ],
   "source": [
    "from sklearn.linear_model import LinearRegression\n",
    "model = LinearRegression()\n",
    "model.fit(X_train, y_train)"
   ]
  },
  {
   "cell_type": "markdown",
   "id": "26c4b4d1",
   "metadata": {},
   "source": [
    "### (6) 학습된 모델로 X_test에 대한 예측값 출력 및 손실함수값 계산"
   ]
  },
  {
   "cell_type": "code",
   "execution_count": 189,
   "id": "8254bf12",
   "metadata": {},
   "outputs": [
    {
     "data": {
      "text/plain": [
       "array([[248.05891613],\n",
       "       [ 56.38081455],\n",
       "       [200.22769991],\n",
       "       ...,\n",
       "       [308.93638227],\n",
       "       [ 37.20278053],\n",
       "       [243.69529579]])"
      ]
     },
     "execution_count": 189,
     "metadata": {},
     "output_type": "execute_result"
    }
   ],
   "source": [
    "predictions = model.predict(X_test)\n",
    "predictions"
   ]
  },
  {
   "cell_type": "code",
   "execution_count": 190,
   "id": "741fa1b5",
   "metadata": {},
   "outputs": [
    {
     "data": {
      "text/plain": [
       "19941.684575725816"
      ]
     },
     "execution_count": 190,
     "metadata": {},
     "output_type": "execute_result"
    }
   ],
   "source": [
    "from sklearn.metrics import mean_squared_error\n",
    "mse = mean_squared_error(y_test, predictions)\n",
    "mse"
   ]
  },
  {
   "cell_type": "code",
   "execution_count": 191,
   "id": "af408c3b",
   "metadata": {},
   "outputs": [
    {
     "data": {
      "text/plain": [
       "141.21502956741472"
      ]
     },
     "execution_count": 191,
     "metadata": {},
     "output_type": "execute_result"
    }
   ],
   "source": [
    "rmse = mean_squared_error(y_test, predictions, squared = False)\n",
    "rmse"
   ]
  },
  {
   "cell_type": "markdown",
   "id": "68347705",
   "metadata": {},
   "source": [
    "### (7) x축은 temp 또는 humidity로, y축은 count로 예측 결과 시각화하기"
   ]
  },
  {
   "cell_type": "code",
   "execution_count": 192,
   "id": "473b67cd",
   "metadata": {},
   "outputs": [
    {
     "data": {
      "text/html": [
       "<div>\n",
       "<style scoped>\n",
       "    .dataframe tbody tr th:only-of-type {\n",
       "        vertical-align: middle;\n",
       "    }\n",
       "\n",
       "    .dataframe tbody tr th {\n",
       "        vertical-align: top;\n",
       "    }\n",
       "\n",
       "    .dataframe thead th {\n",
       "        text-align: right;\n",
       "    }\n",
       "</style>\n",
       "<table border=\"1\" class=\"dataframe\">\n",
       "  <thead>\n",
       "    <tr style=\"text-align: right;\">\n",
       "      <th></th>\n",
       "      <th>season</th>\n",
       "      <th>workingday</th>\n",
       "      <th>weather</th>\n",
       "      <th>temp</th>\n",
       "      <th>atemp</th>\n",
       "      <th>humidity</th>\n",
       "      <th>windspeed</th>\n",
       "      <th>year</th>\n",
       "      <th>month</th>\n",
       "      <th>day</th>\n",
       "      <th>hour</th>\n",
       "      <th>predictions</th>\n",
       "      <th>y_test</th>\n",
       "    </tr>\n",
       "  </thead>\n",
       "  <tbody>\n",
       "    <tr>\n",
       "      <th>0</th>\n",
       "      <td>3.0</td>\n",
       "      <td>1.0</td>\n",
       "      <td>1.0</td>\n",
       "      <td>33.62</td>\n",
       "      <td>40.150</td>\n",
       "      <td>59.0</td>\n",
       "      <td>0.0000</td>\n",
       "      <td>2011.0</td>\n",
       "      <td>7.0</td>\n",
       "      <td>19.0</td>\n",
       "      <td>11.0</td>\n",
       "      <td>248.058916</td>\n",
       "      <td>127</td>\n",
       "    </tr>\n",
       "    <tr>\n",
       "      <th>1</th>\n",
       "      <td>1.0</td>\n",
       "      <td>0.0</td>\n",
       "      <td>1.0</td>\n",
       "      <td>4.10</td>\n",
       "      <td>6.820</td>\n",
       "      <td>54.0</td>\n",
       "      <td>6.0032</td>\n",
       "      <td>2012.0</td>\n",
       "      <td>1.0</td>\n",
       "      <td>16.0</td>\n",
       "      <td>6.0</td>\n",
       "      <td>56.380815</td>\n",
       "      <td>13</td>\n",
       "    </tr>\n",
       "    <tr>\n",
       "      <th>2</th>\n",
       "      <td>4.0</td>\n",
       "      <td>0.0</td>\n",
       "      <td>1.0</td>\n",
       "      <td>9.84</td>\n",
       "      <td>11.365</td>\n",
       "      <td>48.0</td>\n",
       "      <td>12.9980</td>\n",
       "      <td>2011.0</td>\n",
       "      <td>12.0</td>\n",
       "      <td>11.0</td>\n",
       "      <td>18.0</td>\n",
       "      <td>200.227700</td>\n",
       "      <td>163</td>\n",
       "    </tr>\n",
       "    <tr>\n",
       "      <th>3</th>\n",
       "      <td>3.0</td>\n",
       "      <td>1.0</td>\n",
       "      <td>2.0</td>\n",
       "      <td>29.52</td>\n",
       "      <td>34.090</td>\n",
       "      <td>62.0</td>\n",
       "      <td>12.9980</td>\n",
       "      <td>2012.0</td>\n",
       "      <td>8.0</td>\n",
       "      <td>15.0</td>\n",
       "      <td>10.0</td>\n",
       "      <td>292.817393</td>\n",
       "      <td>233</td>\n",
       "    </tr>\n",
       "    <tr>\n",
       "      <th>4</th>\n",
       "      <td>2.0</td>\n",
       "      <td>1.0</td>\n",
       "      <td>1.0</td>\n",
       "      <td>25.42</td>\n",
       "      <td>31.060</td>\n",
       "      <td>53.0</td>\n",
       "      <td>16.9979</td>\n",
       "      <td>2012.0</td>\n",
       "      <td>6.0</td>\n",
       "      <td>15.0</td>\n",
       "      <td>23.0</td>\n",
       "      <td>388.759208</td>\n",
       "      <td>222</td>\n",
       "    </tr>\n",
       "    <tr>\n",
       "      <th>...</th>\n",
       "      <td>...</td>\n",
       "      <td>...</td>\n",
       "      <td>...</td>\n",
       "      <td>...</td>\n",
       "      <td>...</td>\n",
       "      <td>...</td>\n",
       "      <td>...</td>\n",
       "      <td>...</td>\n",
       "      <td>...</td>\n",
       "      <td>...</td>\n",
       "      <td>...</td>\n",
       "      <td>...</td>\n",
       "      <td>...</td>\n",
       "    </tr>\n",
       "    <tr>\n",
       "      <th>2173</th>\n",
       "      <td>2.0</td>\n",
       "      <td>0.0</td>\n",
       "      <td>3.0</td>\n",
       "      <td>23.78</td>\n",
       "      <td>27.275</td>\n",
       "      <td>49.0</td>\n",
       "      <td>19.0012</td>\n",
       "      <td>2011.0</td>\n",
       "      <td>5.0</td>\n",
       "      <td>8.0</td>\n",
       "      <td>17.0</td>\n",
       "      <td>223.424206</td>\n",
       "      <td>351</td>\n",
       "    </tr>\n",
       "    <tr>\n",
       "      <th>2174</th>\n",
       "      <td>1.0</td>\n",
       "      <td>1.0</td>\n",
       "      <td>3.0</td>\n",
       "      <td>13.12</td>\n",
       "      <td>15.150</td>\n",
       "      <td>66.0</td>\n",
       "      <td>22.0028</td>\n",
       "      <td>2012.0</td>\n",
       "      <td>1.0</td>\n",
       "      <td>17.0</td>\n",
       "      <td>4.0</td>\n",
       "      <td>68.454724</td>\n",
       "      <td>2</td>\n",
       "    </tr>\n",
       "    <tr>\n",
       "      <th>2175</th>\n",
       "      <td>4.0</td>\n",
       "      <td>0.0</td>\n",
       "      <td>1.0</td>\n",
       "      <td>16.40</td>\n",
       "      <td>20.455</td>\n",
       "      <td>40.0</td>\n",
       "      <td>12.9980</td>\n",
       "      <td>2012.0</td>\n",
       "      <td>11.0</td>\n",
       "      <td>4.0</td>\n",
       "      <td>14.0</td>\n",
       "      <td>308.936382</td>\n",
       "      <td>509</td>\n",
       "    </tr>\n",
       "    <tr>\n",
       "      <th>2176</th>\n",
       "      <td>1.0</td>\n",
       "      <td>0.0</td>\n",
       "      <td>1.0</td>\n",
       "      <td>11.48</td>\n",
       "      <td>14.395</td>\n",
       "      <td>81.0</td>\n",
       "      <td>7.0015</td>\n",
       "      <td>2012.0</td>\n",
       "      <td>1.0</td>\n",
       "      <td>1.0</td>\n",
       "      <td>5.0</td>\n",
       "      <td>37.202781</td>\n",
       "      <td>5</td>\n",
       "    </tr>\n",
       "    <tr>\n",
       "      <th>2177</th>\n",
       "      <td>2.0</td>\n",
       "      <td>1.0</td>\n",
       "      <td>3.0</td>\n",
       "      <td>26.24</td>\n",
       "      <td>30.305</td>\n",
       "      <td>73.0</td>\n",
       "      <td>12.9980</td>\n",
       "      <td>2012.0</td>\n",
       "      <td>5.0</td>\n",
       "      <td>15.0</td>\n",
       "      <td>13.0</td>\n",
       "      <td>243.695296</td>\n",
       "      <td>239</td>\n",
       "    </tr>\n",
       "  </tbody>\n",
       "</table>\n",
       "<p>2178 rows × 13 columns</p>\n",
       "</div>"
      ],
      "text/plain": [
       "      season  workingday  weather   temp   atemp  humidity  windspeed    year  \\\n",
       "0        3.0         1.0      1.0  33.62  40.150      59.0     0.0000  2011.0   \n",
       "1        1.0         0.0      1.0   4.10   6.820      54.0     6.0032  2012.0   \n",
       "2        4.0         0.0      1.0   9.84  11.365      48.0    12.9980  2011.0   \n",
       "3        3.0         1.0      2.0  29.52  34.090      62.0    12.9980  2012.0   \n",
       "4        2.0         1.0      1.0  25.42  31.060      53.0    16.9979  2012.0   \n",
       "...      ...         ...      ...    ...     ...       ...        ...     ...   \n",
       "2173     2.0         0.0      3.0  23.78  27.275      49.0    19.0012  2011.0   \n",
       "2174     1.0         1.0      3.0  13.12  15.150      66.0    22.0028  2012.0   \n",
       "2175     4.0         0.0      1.0  16.40  20.455      40.0    12.9980  2012.0   \n",
       "2176     1.0         0.0      1.0  11.48  14.395      81.0     7.0015  2012.0   \n",
       "2177     2.0         1.0      3.0  26.24  30.305      73.0    12.9980  2012.0   \n",
       "\n",
       "      month   day  hour  predictions  y_test  \n",
       "0       7.0  19.0  11.0   248.058916     127  \n",
       "1       1.0  16.0   6.0    56.380815      13  \n",
       "2      12.0  11.0  18.0   200.227700     163  \n",
       "3       8.0  15.0  10.0   292.817393     233  \n",
       "4       6.0  15.0  23.0   388.759208     222  \n",
       "...     ...   ...   ...          ...     ...  \n",
       "2173    5.0   8.0  17.0   223.424206     351  \n",
       "2174    1.0  17.0   4.0    68.454724       2  \n",
       "2175   11.0   4.0  14.0   308.936382     509  \n",
       "2176    1.0   1.0   5.0    37.202781       5  \n",
       "2177    5.0  15.0  13.0   243.695296     239  \n",
       "\n",
       "[2178 rows x 13 columns]"
      ]
     },
     "execution_count": 192,
     "metadata": {},
     "output_type": "execute_result"
    }
   ],
   "source": [
    "col = ['season', 'workingday', 'weather', 'temp', 'atemp', 'humidity', 'windspeed', 'year', 'month', 'day', 'hour']\n",
    "X_test_df = pd.DataFrame(X_test, columns=col)\n",
    "X_test_df['predictions'] = predictions\n",
    "X_test_df['y_test'] = y_test\n",
    "\n",
    "X_test_df"
   ]
  },
  {
   "cell_type": "code",
   "execution_count": 193,
   "id": "0b9d4499",
   "metadata": {},
   "outputs": [
    {
     "data": {
      "image/png": "[encoded data removed]",
      "text/plain": [
       "<Figure size 1440x720 with 4 Axes>"
      ]
     },
     "metadata": {
      "needs_background": "light"
     },
     "output_type": "display_data"
    }
   ],
   "source": [
    "plt.figure(figsize=(20,10))\n",
    "\n",
    "#x축에 X 데이터 중 temp 데이터를, y축에는 count 데이터를 넣어서 시각화\n",
    "plt.subplot(2,2,1) #2행 2열의 1행 1열 그림\n",
    "sns.lineplot(x=X_test_df['temp'], y=X_test_df['predictions'])\n",
    "\n",
    "plt.subplot(2,2,2) #2행 2열의 1행 2열 그림\n",
    "sns.lineplot(x=X_test_df['temp'], y=X_test_df['y_test'])\n",
    "\n",
    "#x축에 X 데이터 중 humidity 데이터를, y축에는 count 데이터를 넣어서 시각화\n",
    "plt.subplot(2,2,3) #2행 2열의 2행 1열 그림\n",
    "sns.lineplot(x=X_test_df['humidity'], y=X_test_df['predictions'])\n",
    "\n",
    "plt.subplot(2,2,4) #2행 2열의 2행 2열 그림\n",
    "sns.lineplot(x=X_test_df['humidity'], y=X_test_df['y_test'])\n",
    "\n",
    "plt.show()"
   ]
  },
  {
   "cell_type": "markdown",
   "id": "10dbd031",
   "metadata": {},
   "source": [
    "<br>"
   ]
  },
  {
   "cell_type": "markdown",
   "id": "e8a177c1",
   "metadata": {},
   "source": [
    "<br>"
   ]
  },
  {
   "cell_type": "markdown",
   "id": "a3aee7b8",
   "metadata": {},
   "source": [
    "# 회고"
   ]
  },
  {
   "cell_type": "markdown",
   "id": "31e7292c",
   "metadata": {},
   "source": [
    "numpy와 pandas matplotlib 등을 노드에서 다뤄보았으나 정확히 무슨 기능을 하는지 할 때마다 헷갈렸다. 구글링 및 정리 후 옆에 간단히 주석을 달아 반복해서 보기로 하였다.\n",
    "\n",
    "경사하강법이 흥미로웠다. 고등학교 이후 수학과 담쌓고 살아온 나에게 아이펠 면접 수학질문은 challenge 였다. 면접 질문들 중 경사하강법에 대한 답을 찾다보니 요즘은 유튜브에 모든 수학강의가 올라와있단 것을 알게되었는데 sensational 했다. 경사하강법 강의를 몇개 찾아 들었더니 어려운 개념도 아니고 해서 관련 내용 노드는 수월하게 넘겼지만.. 프로젝트 시 가중치와 손실함수 계산에 자잘하게 신경써야 할게 많아서 피곤했다.\n",
    "\n",
    "프로젝트2에서 linear model을 사용하니 프로젝트1에서 번거로웠던 가중치 선언과 손실함수, 기울기를 일일이 계산할 필요가 없었다. 엄청 편했다...\n",
    "\n",
    "이론을 수월히 숙지해도 익스에서 코드로 전개하기 난해한 부분들이 있다. 반면에 이론이 어려워서 못알아듣고 넘겼지만 의외로 실습때의 코드는 간단한 부분들도 있다. 확실히 코드로 변환하기 및 풀어 쓰기는 또다른 과제이다. \n",
    "\n",
    "코드를 한줄한줄 전부 이해는 못하더라도 큰 틀을 잡는 것이 필요한 시점이라고 생각한다. 각론보단 총론, 마인드맵처럼 전체적인 큰 그림을 그리는데 집중하고 있다. 단, 코드 실행시 에러가 나거나 목표 결괏값이 나오지 않으면 무엇이 틀렸는지 찾아내야 하는데 이 과정이 좀 피로하다.. 디테일에도 집중해야 한다(특히 오타) X나 W를 소문자로 쓴 점 등에서 오류가 났다. 이론과 실습은 확실히 다르다고 느꼈고 개발자 실무를 위해 경험적 실습이 매우 중요하다고 감각적으로 느꼈다."
   ]
  }
 ],
 "metadata": {
  "kernelspec": {
   "display_name": "Python 3 (ipykernel)",
   "language": "python",
   "name": "python3"
  },
  "language_info": {
   "codemirror_mode": {
    "name": "ipython",
    "version": 3
   },
   "file_extension": ".py",
   "mimetype": "text/x-python",
   "name": "python",
   "nbconvert_exporter": "python",
   "pygments_lexer": "ipython3",
   "version": "3.9.7"
  }
 },
 "nbformat": 4,
 "nbformat_minor": 5
}

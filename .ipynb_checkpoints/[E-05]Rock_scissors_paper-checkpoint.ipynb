{
 "cells": [
  {
   "cell_type": "markdown",
   "id": "84a1715e",
   "metadata": {},
   "source": [
    "## 모듈 불러오기 "
   ]
  },
  {
   "cell_type": "code",
   "execution_count": 17,
   "id": "414fe07c",
   "metadata": {},
   "outputs": [],
   "source": [
    "from PIL import Image \n",
    "import os, glob"
   ]
  },
  {
   "cell_type": "markdown",
   "id": "06466df7",
   "metadata": {},
   "source": [
    "## 가위바위보 이미지를 28x28로 Resizing"
   ]
  },
  {
   "cell_type": "code",
   "execution_count": 18,
   "id": "6824fe17",
   "metadata": {},
   "outputs": [
    {
     "name": "stdout",
     "output_type": "stream",
     "text": [
      "이미지 디렉토리 경로:  /aiffel/aiffel/rock_scissor_paper/scissor\n",
      "scissor 이미지 resize 완료!\n",
      "이미지 디렉토리 경로:  /aiffel/aiffel/rock_scissor_paper/rock\n",
      "rock 이미지 resize 완료!\n",
      "이미지 디렉토리 경로:  /aiffel/aiffel/rock_scissor_paper/paper\n",
      "paper 이미지 resize 완료!\n"
     ]
    }
   ],
   "source": [
    "import os\n",
    "\n",
    "feature = ['scissor','rock','paper']\n",
    "for a in feature:\n",
    "     # 가위 이미지가 저장된 디렉토리 아래의 모든 jpg 파일을 읽어들여서\n",
    "    image_dir_path = os.getenv(\"HOME\") + \"/aiffel/rock_scissor_paper/\" + a\n",
    "    print(\"이미지 디렉토리 경로: \", image_dir_path)\n",
    "\n",
    "    images=glob.glob(image_dir_path + \"/*.jpg\")  \n",
    "\n",
    "    # 파일마다 모두 28x28 사이즈로 바꾸어 저장합니다.\n",
    "    target_size=(28,28)\n",
    "    for img in images:\n",
    "        old_img=Image.open(img)\n",
    "        new_img=old_img.resize(target_size,Image.ANTIALIAS)\n",
    "        new_img.save(img,\"JPEG\")\n",
    "\n",
    "    print(f\"{a} 이미지 resize 완료!\")"
   ]
  },
  {
   "cell_type": "markdown",
   "id": "50c300b9",
   "metadata": {},
   "source": [
    "## 데이터 불러오기 "
   ]
  },
  {
   "cell_type": "code",
   "execution_count": 19,
   "id": "7f8710ad",
   "metadata": {},
   "outputs": [],
   "source": [
    "import numpy as np\n",
    "def load_data(img_path, n):\n",
    "    # 가위 : 0, 바위 : 1, 보 : 2\n",
    "    number_of_data=n   # n : 가위바위보 이미지 개수 총합\n",
    "    img_size=28\n",
    "    color=3\n",
    "    #이미지 데이터와 라벨(가위 : 0, 바위 : 1, 보 : 2) 데이터를 담을 행렬(matrix) 영역을 생성합니다.\n",
    "    imgs=np.zeros(number_of_data*img_size*img_size*color,dtype=np.int32).reshape(number_of_data,img_size,img_size,color)\n",
    "    labels=np.zeros(number_of_data,dtype=np.int32)\n",
    "    idx=0\n",
    "    for file in glob.iglob(img_path+'/scissor/*.jpg'):\n",
    "        img = np.array(Image.open(file),dtype=np.int32)\n",
    "        imgs[idx,:,:,:]=img    # 데이터 영역에 이미지 행렬을 복사\n",
    "        labels[idx]=0   # 가위 : 0\n",
    "        idx=idx+1\n",
    "\n",
    "    for file in glob.iglob(img_path+'/rock/*.jpg'):\n",
    "        img = np.array(Image.open(file),dtype=np.int32)\n",
    "        imgs[idx,:,:,:]=img    # 데이터 영역에 이미지 행렬을 복사\n",
    "        labels[idx]=1   # 바위 : 1\n",
    "        idx=idx+1       \n",
    "    \n",
    "    for file in glob.iglob(img_path+'/paper/*.jpg'):\n",
    "        img = np.array(Image.open(file),dtype=np.int32)\n",
    "        imgs[idx,:,:,:]=img    # 데이터 영역에 이미지 행렬을 복사\n",
    "        labels[idx]=2   # 보 : 2\n",
    "        idx=idx+1\n",
    "    \n",
    "    \n",
    "    print(\"데이터의 이미지 개수는\",idx,\"입니다.\")\n",
    "    return imgs, labels"
   ]
  },
  {
   "cell_type": "markdown",
   "id": "8b6bc2c1",
   "metadata": {},
   "source": [
    "## 딥러닝 네트워크 설계하기"
   ]
  },
  {
   "cell_type": "code",
   "execution_count": 20,
   "id": "a0e2d304",
   "metadata": {},
   "outputs": [
    {
     "name": "stdout",
     "output_type": "stream",
     "text": [
      "Model에 추가된 Layer 개수:  7\n"
     ]
    }
   ],
   "source": [
    "import tensorflow as tf\n",
    "from tensorflow import keras\n",
    "import numpy as np\n",
    "\n",
    "model=keras.models.Sequential()\n",
    "\n",
    "model.add(keras.layers.Conv2D(8, (3,3), activation='relu', input_shape=(28,28,3)))\n",
    "#Conv2D()의 8, 16은 얼마나 다양한 이미지의 특징을 살펴볼 것인가? ( 입력 이미지가 다양할수록 더 많은 특징을 고려해보자. )\n",
    "#input_shape=(28,28,3) 채널 수 흑백은 1, 칼라라면 3\n",
    "model.add(keras.layers.MaxPool2D(2,2))\n",
    "model.add(keras.layers.Conv2D(16, (3,3), activation='relu'))\n",
    "model.add(keras.layers.MaxPooling2D((2,2)))\n",
    "model.add(keras.layers.Flatten())\n",
    "model.add(keras.layers.Dense(8, activation='relu'))\n",
    "model.add(keras.layers.Dense(3, activation='softmax'))\n",
    "#Dense()의 8은 분류기 알고리즘을 얼마나 복잡하게 할 것인가?( 복잡한 문제일수록 이 수를 늘려보자. )\n",
    "#Dense()의 3은 최종분류기의 class 수, 여기서는 가위,바위,보까지 총 3개의 class를 구분하므로 3.\n",
    "print('Model에 추가된 Layer 개수: ', len(model.layers))"
   ]
  },
  {
   "cell_type": "markdown",
   "id": "f2d12e12",
   "metadata": {},
   "source": [
    "## 딥러닝 네트워크 학습시키기"
   ]
  },
  {
   "cell_type": "code",
   "execution_count": 21,
   "id": "792bbbe1",
   "metadata": {},
   "outputs": [
    {
     "name": "stdout",
     "output_type": "stream",
     "text": [
      "Epoch 1/15\n",
      "10/10 [==============================] - 1s 17ms/step - loss: 1.0999 - accuracy: 0.3333\n",
      "Epoch 2/15\n",
      "10/10 [==============================] - 0s 18ms/step - loss: 1.0850 - accuracy: 0.3700\n",
      "Epoch 3/15\n",
      "10/10 [==============================] - 0s 15ms/step - loss: 1.0744 - accuracy: 0.4300\n",
      "Epoch 4/15\n",
      "10/10 [==============================] - 0s 15ms/step - loss: 1.0610 - accuracy: 0.4133\n",
      "Epoch 5/15\n",
      "10/10 [==============================] - 0s 17ms/step - loss: 1.0412 - accuracy: 0.5467\n",
      "Epoch 6/15\n",
      "10/10 [==============================] - 0s 15ms/step - loss: 1.0101 - accuracy: 0.5967\n",
      "Epoch 7/15\n",
      "10/10 [==============================] - 0s 15ms/step - loss: 0.9796 - accuracy: 0.5133\n",
      "Epoch 8/15\n",
      "10/10 [==============================] - 0s 18ms/step - loss: 0.9326 - accuracy: 0.5967\n",
      "Epoch 9/15\n",
      "10/10 [==============================] - 0s 15ms/step - loss: 0.8779 - accuracy: 0.5733\n",
      "Epoch 10/15\n",
      "10/10 [==============================] - 0s 15ms/step - loss: 0.8251 - accuracy: 0.6000\n",
      "Epoch 11/15\n",
      "10/10 [==============================] - 0s 17ms/step - loss: 0.7741 - accuracy: 0.6000\n",
      "Epoch 12/15\n",
      "10/10 [==============================] - 0s 15ms/step - loss: 0.7270 - accuracy: 0.6000\n",
      "Epoch 13/15\n",
      "10/10 [==============================] - 0s 15ms/step - loss: 0.6810 - accuracy: 0.6100\n",
      "Epoch 14/15\n",
      "10/10 [==============================] - 0s 17ms/step - loss: 0.6266 - accuracy: 0.7000\n",
      "Epoch 15/15\n",
      "10/10 [==============================] - 0s 15ms/step - loss: 0.5876 - accuracy: 0.7267\n"
     ]
    },
    {
     "data": {
      "text/plain": [
       "<keras.callbacks.History at 0x7faf3a121bb0>"
      ]
     },
     "execution_count": 21,
     "metadata": {},
     "output_type": "execute_result"
    }
   ],
   "source": [
    "model.compile(optimizer='adam',\n",
    "             loss='sparse_categorical_crossentropy',\n",
    "             metrics=['accuracy'])\n",
    "\n",
    "model.fit(x_train_norm, y_train, epochs=15) #15회 반복 "
   ]
  },
  {
   "cell_type": "code",
   "execution_count": 22,
   "id": "c0966690",
   "metadata": {
    "scrolled": false
   },
   "outputs": [
    {
     "name": "stdout",
     "output_type": "stream",
     "text": [
      "Model: \"sequential_2\"\n",
      "_________________________________________________________________\n",
      "Layer (type)                 Output Shape              Param #   \n",
      "=================================================================\n",
      "conv2d_4 (Conv2D)            (None, 26, 26, 8)         224       \n",
      "_________________________________________________________________\n",
      "max_pooling2d_4 (MaxPooling2 (None, 13, 13, 8)         0         \n",
      "_________________________________________________________________\n",
      "conv2d_5 (Conv2D)            (None, 11, 11, 16)        1168      \n",
      "_________________________________________________________________\n",
      "max_pooling2d_5 (MaxPooling2 (None, 5, 5, 16)          0         \n",
      "_________________________________________________________________\n",
      "flatten_2 (Flatten)          (None, 400)               0         \n",
      "_________________________________________________________________\n",
      "dense_4 (Dense)              (None, 8)                 3208      \n",
      "_________________________________________________________________\n",
      "dense_5 (Dense)              (None, 3)                 27        \n",
      "=================================================================\n",
      "Total params: 4,627\n",
      "Trainable params: 4,627\n",
      "Non-trainable params: 0\n",
      "_________________________________________________________________\n"
     ]
    }
   ],
   "source": [
    "model.summary()"
   ]
  },
  {
   "cell_type": "markdown",
   "id": "cf7b3de0",
   "metadata": {},
   "source": [
    "## 회고"
   ]
  },
  {
   "cell_type": "markdown",
   "id": "86a11106",
   "metadata": {},
   "source": [
    "epoch가 증가함에 따라 로스값은 작아지고 accuracy는 점차 증가해 72%에 도달했다.\n",
    "사진을 바꿔 시도해본 결과 더 좋은 데이터셋(손모양을 구분할 수 있는 명확한 각도, 더 큰 손 크기 등)을 집어넣으면 정확도가 올라가는 것을 확인하였다."
   ]
  },
  {
   "cell_type": "code",
   "execution_count": null,
   "id": "1e9001d6",
   "metadata": {},
   "outputs": [],
   "source": []
  }
 ],
 "metadata": {
  "kernelspec": {
   "display_name": "Python 3 (ipykernel)",
   "language": "python",
   "name": "python3"
  },
  "language_info": {
   "codemirror_mode": {
    "name": "ipython",
    "version": 3
   },
   "file_extension": ".py",
   "mimetype": "text/x-python",
   "name": "python",
   "nbconvert_exporter": "python",
   "pygments_lexer": "ipython3",
   "version": "3.9.7"
  }
 },
 "nbformat": 4,
 "nbformat_minor": 5
}

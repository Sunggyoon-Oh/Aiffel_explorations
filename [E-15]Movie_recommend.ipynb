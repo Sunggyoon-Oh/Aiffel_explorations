{
 "cells": [
  {
   "cell_type": "markdown",
   "id": "260e962c",
   "metadata": {},
   "source": [
    "# 목차\n",
    "0. 개발환경\n",
    "1. 데이터 준비와 전처리\n",
    "2. 분석\n",
    "3. 내가 선호하는 영화 5가지 ratings에 추가\n",
    "4. CSR matrix\n",
    "5. als_model = AlternatingLeastSquares 모델 구성&훈련¶\n",
    "6. 내가 선호하는 5가지 영화 중 하나와 그 외의 영화 하나를 골라 훈련된 모델이 예측한 나의 선호도를 파악해보기\n",
    "7. 내가 좋아하는 영화와 비슷한 영화를 추천받기\n",
    "8. 내가 가장 좋아할 만한 영화들을 추천받아 보기\n",
    "9. 회고"
   ]
  },
  {
   "cell_type": "markdown",
   "id": "212db0b0",
   "metadata": {},
   "source": [
    "# 0. 개발환경"
   ]
  },
  {
   "cell_type": "code",
   "execution_count": 2,
   "id": "ae0ed0b9",
   "metadata": {},
   "outputs": [],
   "source": [
    "import numpy as np\n",
    "import pandas as pd\n",
    "import os\n",
    "\n",
    "import scipy\n",
    "import implicit\n",
    "from scipy.sparse import csr_matrix\n",
    "from implicit.als import AlternatingLeastSquares"
   ]
  },
  {
   "cell_type": "markdown",
   "id": "e7e9fdc3",
   "metadata": {},
   "source": [
    "# 1. 데이터 준비와 전처리"
   ]
  },
  {
   "cell_type": "code",
   "execution_count": 3,
   "id": "b4e7cc7d",
   "metadata": {},
   "outputs": [
    {
     "data": {
      "text/html": [
       "<div>\n",
       "<style scoped>\n",
       "    .dataframe tbody tr th:only-of-type {\n",
       "        vertical-align: middle;\n",
       "    }\n",
       "\n",
       "    .dataframe tbody tr th {\n",
       "        vertical-align: top;\n",
       "    }\n",
       "\n",
       "    .dataframe thead th {\n",
       "        text-align: right;\n",
       "    }\n",
       "</style>\n",
       "<table border=\"1\" class=\"dataframe\">\n",
       "  <thead>\n",
       "    <tr style=\"text-align: right;\">\n",
       "      <th></th>\n",
       "      <th>user_id</th>\n",
       "      <th>movie_id</th>\n",
       "      <th>ratings</th>\n",
       "      <th>timestamp</th>\n",
       "    </tr>\n",
       "  </thead>\n",
       "  <tbody>\n",
       "    <tr>\n",
       "      <th>0</th>\n",
       "      <td>1</td>\n",
       "      <td>1193</td>\n",
       "      <td>5</td>\n",
       "      <td>978300760</td>\n",
       "    </tr>\n",
       "    <tr>\n",
       "      <th>1</th>\n",
       "      <td>1</td>\n",
       "      <td>661</td>\n",
       "      <td>3</td>\n",
       "      <td>978302109</td>\n",
       "    </tr>\n",
       "    <tr>\n",
       "      <th>2</th>\n",
       "      <td>1</td>\n",
       "      <td>914</td>\n",
       "      <td>3</td>\n",
       "      <td>978301968</td>\n",
       "    </tr>\n",
       "    <tr>\n",
       "      <th>3</th>\n",
       "      <td>1</td>\n",
       "      <td>3408</td>\n",
       "      <td>4</td>\n",
       "      <td>978300275</td>\n",
       "    </tr>\n",
       "    <tr>\n",
       "      <th>4</th>\n",
       "      <td>1</td>\n",
       "      <td>2355</td>\n",
       "      <td>5</td>\n",
       "      <td>978824291</td>\n",
       "    </tr>\n",
       "  </tbody>\n",
       "</table>\n",
       "</div>"
      ],
      "text/plain": [
       "   user_id  movie_id  ratings  timestamp\n",
       "0        1      1193        5  978300760\n",
       "1        1       661        3  978302109\n",
       "2        1       914        3  978301968\n",
       "3        1      3408        4  978300275\n",
       "4        1      2355        5  978824291"
      ]
     },
     "execution_count": 3,
     "metadata": {},
     "output_type": "execute_result"
    }
   ],
   "source": [
    "rating_file_path=os.getenv('HOME') + '/aiffel/recommendata_iu/data/ml-1m/ratings.dat'\n",
    "# 사용할 컬럼\n",
    "ratings_cols = ['user_id', 'movie_id', 'ratings', 'timestamp']\n",
    "ratings = pd.read_csv(rating_file_path, sep='::', names=ratings_cols, engine='python', encoding = \"ISO-8859-1\")\n",
    "orginal_data_size = len(ratings)\n",
    "ratings.head()"
   ]
  },
  {
   "cell_type": "code",
   "execution_count": 4,
   "id": "656a4751",
   "metadata": {},
   "outputs": [
    {
     "name": "stdout",
     "output_type": "stream",
     "text": [
      "orginal_data_size: 1000209, filtered_data_size: 836478\n",
      "Ratio of Remaining Data is 83.63%\n"
     ]
    }
   ],
   "source": [
    "# Data filtering 3점 이상만 남깁니다.\n",
    "ratings = ratings[ratings['ratings']>=3]\n",
    "filtered_data_size = len(ratings)\n",
    "\n",
    "print(f'orginal_data_size: {orginal_data_size}, filtered_data_size: {filtered_data_size}')\n",
    "print(f'Ratio of Remaining Data is {filtered_data_size / orginal_data_size:.2%}')"
   ]
  },
  {
   "cell_type": "code",
   "execution_count": 5,
   "id": "b0d28338",
   "metadata": {},
   "outputs": [
    {
     "data": {
      "text/html": [
       "<div>\n",
       "<style scoped>\n",
       "    .dataframe tbody tr th:only-of-type {\n",
       "        vertical-align: middle;\n",
       "    }\n",
       "\n",
       "    .dataframe tbody tr th {\n",
       "        vertical-align: top;\n",
       "    }\n",
       "\n",
       "    .dataframe thead th {\n",
       "        text-align: right;\n",
       "    }\n",
       "</style>\n",
       "<table border=\"1\" class=\"dataframe\">\n",
       "  <thead>\n",
       "    <tr style=\"text-align: right;\">\n",
       "      <th></th>\n",
       "      <th>user_id</th>\n",
       "      <th>movie_id</th>\n",
       "      <th>counts</th>\n",
       "      <th>timestamp</th>\n",
       "    </tr>\n",
       "  </thead>\n",
       "  <tbody>\n",
       "    <tr>\n",
       "      <th>0</th>\n",
       "      <td>1</td>\n",
       "      <td>1193</td>\n",
       "      <td>5</td>\n",
       "      <td>978300760</td>\n",
       "    </tr>\n",
       "    <tr>\n",
       "      <th>1</th>\n",
       "      <td>1</td>\n",
       "      <td>661</td>\n",
       "      <td>3</td>\n",
       "      <td>978302109</td>\n",
       "    </tr>\n",
       "    <tr>\n",
       "      <th>2</th>\n",
       "      <td>1</td>\n",
       "      <td>914</td>\n",
       "      <td>3</td>\n",
       "      <td>978301968</td>\n",
       "    </tr>\n",
       "    <tr>\n",
       "      <th>3</th>\n",
       "      <td>1</td>\n",
       "      <td>3408</td>\n",
       "      <td>4</td>\n",
       "      <td>978300275</td>\n",
       "    </tr>\n",
       "    <tr>\n",
       "      <th>4</th>\n",
       "      <td>1</td>\n",
       "      <td>2355</td>\n",
       "      <td>5</td>\n",
       "      <td>978824291</td>\n",
       "    </tr>\n",
       "    <tr>\n",
       "      <th>...</th>\n",
       "      <td>...</td>\n",
       "      <td>...</td>\n",
       "      <td>...</td>\n",
       "      <td>...</td>\n",
       "    </tr>\n",
       "    <tr>\n",
       "      <th>1000203</th>\n",
       "      <td>6040</td>\n",
       "      <td>1090</td>\n",
       "      <td>3</td>\n",
       "      <td>956715518</td>\n",
       "    </tr>\n",
       "    <tr>\n",
       "      <th>1000205</th>\n",
       "      <td>6040</td>\n",
       "      <td>1094</td>\n",
       "      <td>5</td>\n",
       "      <td>956704887</td>\n",
       "    </tr>\n",
       "    <tr>\n",
       "      <th>1000206</th>\n",
       "      <td>6040</td>\n",
       "      <td>562</td>\n",
       "      <td>5</td>\n",
       "      <td>956704746</td>\n",
       "    </tr>\n",
       "    <tr>\n",
       "      <th>1000207</th>\n",
       "      <td>6040</td>\n",
       "      <td>1096</td>\n",
       "      <td>4</td>\n",
       "      <td>956715648</td>\n",
       "    </tr>\n",
       "    <tr>\n",
       "      <th>1000208</th>\n",
       "      <td>6040</td>\n",
       "      <td>1097</td>\n",
       "      <td>4</td>\n",
       "      <td>956715569</td>\n",
       "    </tr>\n",
       "  </tbody>\n",
       "</table>\n",
       "<p>836478 rows × 4 columns</p>\n",
       "</div>"
      ],
      "text/plain": [
       "         user_id  movie_id  counts  timestamp\n",
       "0              1      1193       5  978300760\n",
       "1              1       661       3  978302109\n",
       "2              1       914       3  978301968\n",
       "3              1      3408       4  978300275\n",
       "4              1      2355       5  978824291\n",
       "...          ...       ...     ...        ...\n",
       "1000203     6040      1090       3  956715518\n",
       "1000205     6040      1094       5  956704887\n",
       "1000206     6040       562       5  956704746\n",
       "1000207     6040      1096       4  956715648\n",
       "1000208     6040      1097       4  956715569\n",
       "\n",
       "[836478 rows x 4 columns]"
      ]
     },
     "execution_count": 5,
     "metadata": {},
     "output_type": "execute_result"
    }
   ],
   "source": [
    "# ratings 컬럼의 이름을 counts로 바꿉니다.\n",
    "ratings.rename(columns={'ratings':'counts'}, inplace=True)\n",
    "ratings"
   ]
  },
  {
   "cell_type": "code",
   "execution_count": 6,
   "id": "a503d291",
   "metadata": {},
   "outputs": [
    {
     "data": {
      "text/plain": [
       "0          5\n",
       "1          3\n",
       "2          3\n",
       "3          4\n",
       "4          5\n",
       "          ..\n",
       "1000203    3\n",
       "1000205    5\n",
       "1000206    5\n",
       "1000207    4\n",
       "1000208    4\n",
       "Name: counts, Length: 836478, dtype: int64"
      ]
     },
     "execution_count": 6,
     "metadata": {},
     "output_type": "execute_result"
    }
   ],
   "source": [
    "ratings['counts']"
   ]
  },
  {
   "cell_type": "code",
   "execution_count": 7,
   "id": "59fad154",
   "metadata": {},
   "outputs": [
    {
     "data": {
      "text/html": [
       "<div>\n",
       "<style scoped>\n",
       "    .dataframe tbody tr th:only-of-type {\n",
       "        vertical-align: middle;\n",
       "    }\n",
       "\n",
       "    .dataframe tbody tr th {\n",
       "        vertical-align: top;\n",
       "    }\n",
       "\n",
       "    .dataframe thead th {\n",
       "        text-align: right;\n",
       "    }\n",
       "</style>\n",
       "<table border=\"1\" class=\"dataframe\">\n",
       "  <thead>\n",
       "    <tr style=\"text-align: right;\">\n",
       "      <th></th>\n",
       "      <th>movie_id</th>\n",
       "      <th>title</th>\n",
       "      <th>genre</th>\n",
       "    </tr>\n",
       "  </thead>\n",
       "  <tbody>\n",
       "    <tr>\n",
       "      <th>0</th>\n",
       "      <td>1</td>\n",
       "      <td>Toy Story (1995)</td>\n",
       "      <td>Animation|Children's|Comedy</td>\n",
       "    </tr>\n",
       "    <tr>\n",
       "      <th>1</th>\n",
       "      <td>2</td>\n",
       "      <td>Jumanji (1995)</td>\n",
       "      <td>Adventure|Children's|Fantasy</td>\n",
       "    </tr>\n",
       "    <tr>\n",
       "      <th>2</th>\n",
       "      <td>3</td>\n",
       "      <td>Grumpier Old Men (1995)</td>\n",
       "      <td>Comedy|Romance</td>\n",
       "    </tr>\n",
       "    <tr>\n",
       "      <th>3</th>\n",
       "      <td>4</td>\n",
       "      <td>Waiting to Exhale (1995)</td>\n",
       "      <td>Comedy|Drama</td>\n",
       "    </tr>\n",
       "    <tr>\n",
       "      <th>4</th>\n",
       "      <td>5</td>\n",
       "      <td>Father of the Bride Part II (1995)</td>\n",
       "      <td>Comedy</td>\n",
       "    </tr>\n",
       "  </tbody>\n",
       "</table>\n",
       "</div>"
      ],
      "text/plain": [
       "   movie_id                               title                         genre\n",
       "0         1                    Toy Story (1995)   Animation|Children's|Comedy\n",
       "1         2                      Jumanji (1995)  Adventure|Children's|Fantasy\n",
       "2         3             Grumpier Old Men (1995)                Comedy|Romance\n",
       "3         4            Waiting to Exhale (1995)                  Comedy|Drama\n",
       "4         5  Father of the Bride Part II (1995)                        Comedy"
      ]
     },
     "execution_count": 7,
     "metadata": {},
     "output_type": "execute_result"
    }
   ],
   "source": [
    "# 영화 제목을 보기 위해 메타 데이터를 읽어옵니다.\n",
    "movie_file_path=os.getenv('HOME') + '/aiffel/recommendata_iu/data/ml-1m/movies.dat'\n",
    "cols = ['movie_id', 'title', 'genre'] \n",
    "movies = pd.read_csv(movie_file_path, sep='::', names=cols, engine='python', encoding='ISO-8859-1')\n",
    "movies.head()"
   ]
  },
  {
   "cell_type": "code",
   "execution_count": 8,
   "id": "e9c8c33a",
   "metadata": {
    "scrolled": true
   },
   "outputs": [
    {
     "data": {
      "text/html": [
       "<div>\n",
       "<style scoped>\n",
       "    .dataframe tbody tr th:only-of-type {\n",
       "        vertical-align: middle;\n",
       "    }\n",
       "\n",
       "    .dataframe tbody tr th {\n",
       "        vertical-align: top;\n",
       "    }\n",
       "\n",
       "    .dataframe thead th {\n",
       "        text-align: right;\n",
       "    }\n",
       "</style>\n",
       "<table border=\"1\" class=\"dataframe\">\n",
       "  <thead>\n",
       "    <tr style=\"text-align: right;\">\n",
       "      <th></th>\n",
       "      <th>movie_id</th>\n",
       "      <th>title</th>\n",
       "      <th>genre</th>\n",
       "    </tr>\n",
       "  </thead>\n",
       "  <tbody>\n",
       "    <tr>\n",
       "      <th>3878</th>\n",
       "      <td>3948</td>\n",
       "      <td>Meet the Parents (2000)</td>\n",
       "      <td>Comedy</td>\n",
       "    </tr>\n",
       "    <tr>\n",
       "      <th>3879</th>\n",
       "      <td>3949</td>\n",
       "      <td>Requiem for a Dream (2000)</td>\n",
       "      <td>Drama</td>\n",
       "    </tr>\n",
       "    <tr>\n",
       "      <th>3880</th>\n",
       "      <td>3950</td>\n",
       "      <td>Tigerland (2000)</td>\n",
       "      <td>Drama</td>\n",
       "    </tr>\n",
       "    <tr>\n",
       "      <th>3881</th>\n",
       "      <td>3951</td>\n",
       "      <td>Two Family House (2000)</td>\n",
       "      <td>Drama</td>\n",
       "    </tr>\n",
       "    <tr>\n",
       "      <th>3882</th>\n",
       "      <td>3952</td>\n",
       "      <td>Contender, The (2000)</td>\n",
       "      <td>Drama|Thriller</td>\n",
       "    </tr>\n",
       "  </tbody>\n",
       "</table>\n",
       "</div>"
      ],
      "text/plain": [
       "      movie_id                       title           genre\n",
       "3878      3948     Meet the Parents (2000)          Comedy\n",
       "3879      3949  Requiem for a Dream (2000)           Drama\n",
       "3880      3950            Tigerland (2000)           Drama\n",
       "3881      3951     Two Family House (2000)           Drama\n",
       "3882      3952       Contender, The (2000)  Drama|Thriller"
      ]
     },
     "execution_count": 8,
     "metadata": {},
     "output_type": "execute_result"
    }
   ],
   "source": [
    "movies.tail()"
   ]
  },
  {
   "cell_type": "markdown",
   "id": "ca6110b9",
   "metadata": {},
   "source": [
    "# 2. 분석\n",
    "\n",
    "1. ratings에 있는 유니크한 영화 개수<br>\n",
    "2. ratings에 있는 유니크한 사용자 수<br>\n",
    "3. 가장 인기 있는 영화 30개(인기순)"
   ]
  },
  {
   "cell_type": "markdown",
   "id": "974f0fe3",
   "metadata": {},
   "source": [
    "nunique()은 특정 컬럼에 포함된 유니크한 데이터의 개수 파악 시 사용"
   ]
  },
  {
   "cell_type": "code",
   "execution_count": 9,
   "id": "56c42a1c",
   "metadata": {},
   "outputs": [
    {
     "data": {
      "text/plain": [
       "3628"
      ]
     },
     "execution_count": 9,
     "metadata": {},
     "output_type": "execute_result"
    }
   ],
   "source": [
    "# ratings에 있는 유니크한 영화 개수\n",
    "ratings['movie_id'].nunique()"
   ]
  },
  {
   "cell_type": "code",
   "execution_count": 10,
   "id": "f5cd30c4",
   "metadata": {},
   "outputs": [
    {
     "data": {
      "text/plain": [
       "6039"
      ]
     },
     "execution_count": 10,
     "metadata": {},
     "output_type": "execute_result"
    }
   ],
   "source": [
    "# ratings에 있는 유니크한 사용자 수\n",
    "ratings['user_id'].nunique()"
   ]
  },
  {
   "cell_type": "code",
   "execution_count": 11,
   "id": "b0e53717",
   "metadata": {},
   "outputs": [],
   "source": [
    "# 가장 인기 있는 영화 30개(인기순)\n",
    "movie_count = ratings.groupby('movie_id')['user_id'].count()\n",
    "movie_top30 = movie_count.sort_values(ascending=False).head(30)"
   ]
  },
  {
   "cell_type": "code",
   "execution_count": 12,
   "id": "f302f1e9",
   "metadata": {},
   "outputs": [
    {
     "name": "stdout",
     "output_type": "stream",
     "text": [
      "American Beauty (1999) 3211\n",
      "Star Wars: Episode IV - A New Hope (1977) 2910\n",
      "Star Wars: Episode V - The Empire Strikes Back (1980) 2885\n",
      "Star Wars: Episode VI - Return of the Jedi (1983) 2716\n",
      "Saving Private Ryan (1998) 2561\n",
      "Terminator 2: Judgment Day (1991) 2509\n",
      "Silence of the Lambs, The (1991) 2498\n",
      "Raiders of the Lost Ark (1981) 2473\n",
      "Back to the Future (1985) 2460\n",
      "Matrix, The (1999) 2434\n",
      "Jurassic Park (1993) 2413\n",
      "Sixth Sense, The (1999) 2385\n",
      "Fargo (1996) 2371\n",
      "Braveheart (1995) 2314\n",
      "Men in Black (1997) 2297\n",
      "Schindler's List (1993) 2257\n",
      "Princess Bride, The (1987) 2252\n",
      "Shakespeare in Love (1998) 2213\n",
      "L.A. Confidential (1997) 2210\n",
      "Shawshank Redemption, The (1994) 2194\n",
      "Godfather, The (1972) 2167\n",
      "Groundhog Day (1993) 2121\n",
      "E.T. the Extra-Terrestrial (1982) 2102\n",
      "Being John Malkovich (1999) 2066\n",
      "Ghostbusters (1984) 2051\n",
      "Pulp Fiction (1994) 2030\n",
      "Forrest Gump (1994) 2022\n",
      "Terminator, The (1984) 2019\n",
      "Toy Story (1995) 2000\n",
      "Fugitive, The (1993) 1941\n"
     ]
    }
   ],
   "source": [
    "# 30개의 영화 누적 count수\n",
    "for i, k in zip(movie_top30.index, movie_top30.values):\n",
    "    print(movies[movies['movie_id']==i]['title'].values[0],k)"
   ]
  },
  {
   "cell_type": "markdown",
   "id": "80495e24",
   "metadata": {},
   "source": [
    "# 3. 내가 선호하는 영화 5가지 ratings에 추가"
   ]
  },
  {
   "cell_type": "code",
   "execution_count": 13,
   "id": "44f269d9",
   "metadata": {
    "scrolled": true
   },
   "outputs": [
    {
     "data": {
      "text/html": [
       "<div>\n",
       "<style scoped>\n",
       "    .dataframe tbody tr th:only-of-type {\n",
       "        vertical-align: middle;\n",
       "    }\n",
       "\n",
       "    .dataframe tbody tr th {\n",
       "        vertical-align: top;\n",
       "    }\n",
       "\n",
       "    .dataframe thead th {\n",
       "        text-align: right;\n",
       "    }\n",
       "</style>\n",
       "<table border=\"1\" class=\"dataframe\">\n",
       "  <thead>\n",
       "    <tr style=\"text-align: right;\">\n",
       "      <th></th>\n",
       "      <th>user_id</th>\n",
       "      <th>movie_id</th>\n",
       "      <th>counts</th>\n",
       "      <th>timestamp</th>\n",
       "    </tr>\n",
       "  </thead>\n",
       "  <tbody>\n",
       "    <tr>\n",
       "      <th>1000203</th>\n",
       "      <td>6040</td>\n",
       "      <td>1090</td>\n",
       "      <td>3</td>\n",
       "      <td>956715518.0</td>\n",
       "    </tr>\n",
       "    <tr>\n",
       "      <th>1000205</th>\n",
       "      <td>6040</td>\n",
       "      <td>1094</td>\n",
       "      <td>5</td>\n",
       "      <td>956704887.0</td>\n",
       "    </tr>\n",
       "    <tr>\n",
       "      <th>1000206</th>\n",
       "      <td>6040</td>\n",
       "      <td>562</td>\n",
       "      <td>5</td>\n",
       "      <td>956704746.0</td>\n",
       "    </tr>\n",
       "    <tr>\n",
       "      <th>1000207</th>\n",
       "      <td>6040</td>\n",
       "      <td>1096</td>\n",
       "      <td>4</td>\n",
       "      <td>956715648.0</td>\n",
       "    </tr>\n",
       "    <tr>\n",
       "      <th>1000208</th>\n",
       "      <td>6040</td>\n",
       "      <td>1097</td>\n",
       "      <td>4</td>\n",
       "      <td>956715569.0</td>\n",
       "    </tr>\n",
       "    <tr>\n",
       "      <th>0</th>\n",
       "      <td>6041</td>\n",
       "      <td>2571</td>\n",
       "      <td>5</td>\n",
       "      <td>NaN</td>\n",
       "    </tr>\n",
       "    <tr>\n",
       "      <th>1</th>\n",
       "      <td>6041</td>\n",
       "      <td>356</td>\n",
       "      <td>5</td>\n",
       "      <td>NaN</td>\n",
       "    </tr>\n",
       "    <tr>\n",
       "      <th>2</th>\n",
       "      <td>6041</td>\n",
       "      <td>2762</td>\n",
       "      <td>5</td>\n",
       "      <td>NaN</td>\n",
       "    </tr>\n",
       "    <tr>\n",
       "      <th>3</th>\n",
       "      <td>6041</td>\n",
       "      <td>480</td>\n",
       "      <td>5</td>\n",
       "      <td>NaN</td>\n",
       "    </tr>\n",
       "    <tr>\n",
       "      <th>4</th>\n",
       "      <td>6041</td>\n",
       "      <td>2028</td>\n",
       "      <td>5</td>\n",
       "      <td>NaN</td>\n",
       "    </tr>\n",
       "  </tbody>\n",
       "</table>\n",
       "</div>"
      ],
      "text/plain": [
       "         user_id  movie_id  counts    timestamp\n",
       "1000203     6040      1090       3  956715518.0\n",
       "1000205     6040      1094       5  956704887.0\n",
       "1000206     6040       562       5  956704746.0\n",
       "1000207     6040      1096       4  956715648.0\n",
       "1000208     6040      1097       4  956715569.0\n",
       "0           6041      2571       5          NaN\n",
       "1           6041       356       5          NaN\n",
       "2           6041      2762       5          NaN\n",
       "3           6041       480       5          NaN\n",
       "4           6041      2028       5          NaN"
      ]
     },
     "execution_count": 13,
     "metadata": {},
     "output_type": "execute_result"
    }
   ],
   "source": [
    "# 본인이 좋아하시는 데이터로 바꿔서 추가하셔도 됩니다! 단, 이름은 꼭 데이터셋에 있는 것과 동일하게 맞춰주세요. \n",
    "my_favorite_movie = ['Matrix, The (1999)', 'Forrest Gump (1994)' ,'Sixth Sense, The (1999)' ,'Jurassic Park (1993)' ,'Saving Private Ryan (1998)']\n",
    "my_favorite = [movies[movies['title'] == name]['movie_id'].values[0] for name in my_favorite_movie]\n",
    "\n",
    "# 'Oh'이라는 user_id가 위 영화를 5회씩 시청했다고 가정하겠습니다.\n",
    "Oh = max(ratings['user_id']) + 1\n",
    "my_playlist = pd.DataFrame({'user_id': [Oh]*5, 'movie_id': my_favorite, 'counts':[5]*5})\n",
    "\n",
    "\n",
    "if not ratings.isin({'user_id':[Oh]})['user_id'].any():  # user_id에 'Oh'이라는 데이터가 없다면\n",
    "    ratings = ratings.append(my_playlist)                           # 위에 임의로 만든 my_favorite 데이터를 추가해 줍니다. \n",
    "ratings.tail(10)       # 잘 추가되었는지 확인해 봅시다."
   ]
  },
  {
   "cell_type": "markdown",
   "id": "a47612a9",
   "metadata": {},
   "source": [
    "# 4. CSR matrix(협업 필터링, Collaborative Filtering)"
   ]
  },
  {
   "cell_type": "code",
   "execution_count": 14,
   "id": "ec6fa2d7",
   "metadata": {},
   "outputs": [
    {
     "data": {
      "text/plain": [
       "<6042x3953 sparse matrix of type '<class 'numpy.int64'>'\n",
       "\twith 836483 stored elements in Compressed Sparse Row format>"
      ]
     },
     "execution_count": 14,
     "metadata": {},
     "output_type": "execute_result"
    }
   ],
   "source": [
    "# 실습 위에 설명보고 이해해서 만들어보기\n",
    "\n",
    "num_user = ratings['user_id'].nunique()\n",
    "num_movie = ratings['movie_id'].nunique()\n",
    "\n",
    "csr_data = csr_matrix((ratings['counts'], (ratings.user_id, ratings.movie_id)))\n",
    "csr_data"
   ]
  },
  {
   "cell_type": "markdown",
   "id": "d37569ff",
   "metadata": {},
   "source": [
    "# 5. als_model = AlternatingLeastSquares 모델 구성&훈련"
   ]
  },
  {
   "cell_type": "markdown",
   "id": "f96b5041",
   "metadata": {},
   "source": [
    "Matrix Factorization에서 쪼개진 두 Feature Matrix를 한꺼번에 훈련하는 것은 잘 수렴하지 않기 때문에, 한쪽을 고정시키고 다른 쪽을 학습하는 방식을 번갈아 수행"
   ]
  },
  {
   "cell_type": "code",
   "execution_count": 15,
   "id": "78df31bf",
   "metadata": {},
   "outputs": [],
   "source": [
    "from implicit.als import AlternatingLeastSquares\n",
    "import os\n",
    "import numpy as np\n",
    "\n",
    "# implicit 라이브러리에서 권장하고 있는 부분입니다. 학습 내용과는 무관합니다.\n",
    "os.environ['OPENBLAS_NUM_THREADS']='1'\n",
    "os.environ['KMP_DUPLICATE_LIB_OK']='True'\n",
    "os.environ['MKL_NUM_THREADS']='1'"
   ]
  },
  {
   "cell_type": "code",
   "execution_count": 16,
   "id": "84ad3513",
   "metadata": {},
   "outputs": [],
   "source": [
    "# Implicit AlternatingLeastSquares 모델의 선언\n",
    "als_model = AlternatingLeastSquares(factors=100, regularization=0.01, use_gpu=False, iterations=35, dtype=np.float32)"
   ]
  },
  {
   "cell_type": "code",
   "execution_count": 17,
   "id": "2dea51e0",
   "metadata": {},
   "outputs": [
    {
     "data": {
      "text/plain": [
       "<3953x6042 sparse matrix of type '<class 'numpy.int64'>'\n",
       "\twith 836483 stored elements in Compressed Sparse Column format>"
      ]
     },
     "execution_count": 17,
     "metadata": {},
     "output_type": "execute_result"
    }
   ],
   "source": [
    "# als 모델은 input으로 (item X user 꼴의 matrix를 받기 때문에 Transpose해줍니다.)\n",
    "csr_data_transpose = csr_data.T\n",
    "csr_data_transpose"
   ]
  },
  {
   "cell_type": "code",
   "execution_count": 18,
   "id": "7a607246",
   "metadata": {
    "scrolled": true
   },
   "outputs": [
    {
     "data": {
      "application/vnd.jupyter.widget-view+json": {
       "model_id": "477843f551014aa5b83ffe2305e08dce",
       "version_major": 2,
       "version_minor": 0
      },
      "text/plain": [
       "  0%|          | 0/35 [00:00<?, ?it/s]"
      ]
     },
     "metadata": {},
     "output_type": "display_data"
    }
   ],
   "source": [
    "# 모델 훈련\n",
    "als_model.fit(csr_data_transpose)"
   ]
  },
  {
   "cell_type": "markdown",
   "id": "8ad4b492",
   "metadata": {},
   "source": [
    "# 6. 내가 선호하는 5가지 영화 중 하나와 그 외의 영화 하나를 골라 훈련된 모델이 예측한 나의 선호도를 파악해보기"
   ]
  },
  {
   "cell_type": "code",
   "execution_count": 19,
   "id": "457d0a4e",
   "metadata": {},
   "outputs": [],
   "source": [
    "# 영화의 이름을 movie id로 바꿔주는 함수\n",
    "def movie_name_to_id(name):\n",
    "    return movies[movies['title']==name]['movie_id'].values[0]"
   ]
  },
  {
   "cell_type": "code",
   "execution_count": 20,
   "id": "8fb90453",
   "metadata": {},
   "outputs": [],
   "source": [
    "my_vector, ET_vector = als_model.user_factors[6041], als_model.item_factors[movie_name_to_id('E.T. the Extra-Terrestrial (1982)')]"
   ]
  },
  {
   "cell_type": "code",
   "execution_count": 21,
   "id": "50976d0b",
   "metadata": {},
   "outputs": [
    {
     "data": {
      "text/plain": [
       "array([ 0.4304107 ,  0.42740226,  0.4191368 ,  0.7791521 ,  0.29567102,\n",
       "        0.4434607 , -0.1382024 ,  0.00379903,  0.47501287, -0.11588523,\n",
       "       -0.02270818, -0.14434542, -0.22349991, -0.02968966, -0.10393265,\n",
       "        0.3786952 ,  0.42185637, -0.16631505, -0.4835008 ,  0.04832952,\n",
       "       -0.8657237 ,  0.33017203, -0.23046257, -0.02198965,  1.0219133 ,\n",
       "       -0.11253673,  0.3303213 , -0.00488936,  0.01444006,  0.31045473,\n",
       "       -0.3740274 , -0.36763337, -0.696058  , -0.87738967, -0.02206086,\n",
       "        0.6665292 , -0.29452664,  0.17809868, -0.8956687 ,  0.24170956,\n",
       "        0.09812008, -0.19897257, -0.85361   ,  0.40892375,  0.6575933 ,\n",
       "        0.28357002,  0.18586826, -1.0220428 ,  0.03358787,  0.406159  ,\n",
       "       -0.24320096, -0.30191612, -0.12434583, -0.01211422,  0.44984576,\n",
       "        0.09287193,  0.7841708 , -0.6915464 ,  0.09129766, -0.7756634 ,\n",
       "        0.27465293, -0.04108507,  0.07823049,  0.46388462, -0.64915365,\n",
       "        0.5245542 ,  0.49160588,  0.30189142,  0.4291565 ,  0.18871953,\n",
       "        0.27810585, -0.12738214,  0.282026  ,  0.3420555 , -0.17686245,\n",
       "       -0.4077049 , -0.89401954,  0.3160951 , -0.39987507, -0.174396  ,\n",
       "       -0.35757464,  0.16537881, -0.73456764, -0.00575755, -0.44539294,\n",
       "       -0.4476398 ,  0.0360599 , -0.29647547,  0.17012179,  0.51036566,\n",
       "        0.00269549,  0.0425421 , -0.07359353, -0.1576672 ,  0.21975832,\n",
       "        0.7089404 ,  0.18560869,  0.41607404, -0.02177381, -0.09929819],\n",
       "      dtype=float32)"
      ]
     },
     "execution_count": 21,
     "metadata": {},
     "output_type": "execute_result"
    }
   ],
   "source": [
    "# 나의 벡터\n",
    "my_vector"
   ]
  },
  {
   "cell_type": "code",
   "execution_count": 22,
   "id": "c74177f9",
   "metadata": {},
   "outputs": [
    {
     "data": {
      "text/plain": [
       "array([-0.01059014,  0.04382207,  0.02901265, -0.03941403, -0.01329181,\n",
       "       -0.02317097, -0.01692527, -0.02584586,  0.01872879,  0.01249767,\n",
       "        0.02485432,  0.02253449, -0.00179327, -0.01220331,  0.03446083,\n",
       "        0.02521083,  0.02757328, -0.02679376,  0.00353213,  0.00757081,\n",
       "        0.00928762,  0.02758049,  0.00326486,  0.02280938,  0.03284203,\n",
       "        0.01129107,  0.02327085, -0.0098851 , -0.0387328 ,  0.04201251,\n",
       "        0.02450721, -0.01542079,  0.03430559, -0.01631511,  0.00735394,\n",
       "        0.02046118,  0.06313691, -0.01255856,  0.06031089,  0.03619309,\n",
       "        0.01871468, -0.01697059, -0.03337221,  0.01560731,  0.01165232,\n",
       "       -0.01873562,  0.02979614, -0.02523451,  0.01627215,  0.02297718,\n",
       "       -0.01966585, -0.01277805,  0.02213946, -0.02515272, -0.01337661,\n",
       "        0.02104371,  0.01185875,  0.03759281,  0.04872097, -0.00289211,\n",
       "        0.00249953,  0.0338308 , -0.02792054,  0.00747701, -0.00253694,\n",
       "       -0.01645781,  0.00047657,  0.02939017,  0.04213814, -0.06487737,\n",
       "       -0.01329648, -0.00017865,  0.01523486,  0.00077011, -0.00964666,\n",
       "        0.00749319, -0.01946616,  0.03715743,  0.05584196,  0.03728822,\n",
       "        0.02757268,  0.01210395,  0.00889375, -0.00181005, -0.02416399,\n",
       "       -0.02517845, -0.04418141, -0.01655791, -0.01072616,  0.01418541,\n",
       "       -0.0272255 ,  0.03180611, -0.05071906,  0.00279973,  0.0085388 ,\n",
       "       -0.05310141,  0.04595859,  0.02252666,  0.03171754,  0.02614822],\n",
       "      dtype=float32)"
      ]
     },
     "execution_count": 22,
     "metadata": {},
     "output_type": "execute_result"
    }
   ],
   "source": [
    "# ET 영화의 vector\n",
    "ET_vector"
   ]
  },
  {
   "cell_type": "code",
   "execution_count": 23,
   "id": "87e0a09b",
   "metadata": {},
   "outputs": [],
   "source": [
    "# 영화 이름을 넣으면 추천정도를 알려주는 함수\n",
    "def score_movie(movie_name):\n",
    "    my_vector, movie_vector = als_model.user_factors[6041], als_model.item_factors[movie_name_to_id(movie_name)]\n",
    "    return np.dot(my_vector, movie_vector)"
   ]
  },
  {
   "cell_type": "code",
   "execution_count": 24,
   "id": "88f8a08e",
   "metadata": {},
   "outputs": [
    {
     "name": "stdout",
     "output_type": "stream",
     "text": [
      "American Beauty (1999)  : 0.3351394\n",
      "Star Wars: Episode IV - A New Hope (1977)  : 0.20542446\n",
      "Star Wars: Episode V - The Empire Strikes Back (1980)  : 0.16084772\n",
      "Star Wars: Episode VI - Return of the Jedi (1983)  : 0.3533569\n",
      "Saving Private Ryan (1998)  : 0.6363975\n",
      "Terminator 2: Judgment Day (1991)  : 0.5661981\n",
      "Silence of the Lambs, The (1991)  : 0.37173173\n",
      "Raiders of the Lost Ark (1981)  : 0.043198004\n",
      "Back to the Future (1985)  : 0.31523883\n",
      "Matrix, The (1999)  : 0.5897531\n",
      "Jurassic Park (1993)  : 0.61383975\n",
      "Sixth Sense, The (1999)  : 0.6496403\n",
      "Fargo (1996)  : 0.14998648\n",
      "Braveheart (1995)  : 0.50626993\n",
      "Men in Black (1997)  : 0.438801\n",
      "Schindler's List (1993)  : 0.413649\n",
      "Princess Bride, The (1987)  : 0.08877482\n",
      "Shakespeare in Love (1998)  : 0.12904958\n",
      "L.A. Confidential (1997)  : 0.18533793\n",
      "Shawshank Redemption, The (1994)  : 0.28123033\n",
      "Godfather, The (1972)  : -0.02416908\n",
      "Groundhog Day (1993)  : 0.27786258\n",
      "E.T. the Extra-Terrestrial (1982)  : 0.07935512\n",
      "Being John Malkovich (1999)  : 0.11991253\n",
      "Ghostbusters (1984)  : 0.16679624\n",
      "Pulp Fiction (1994)  : 0.09802738\n",
      "Forrest Gump (1994)  : 0.6820731\n",
      "Terminator, The (1984)  : 0.14699979\n",
      "Toy Story (1995)  : 0.20259623\n",
      "Fugitive, The (1993)  : 0.4504527\n"
     ]
    }
   ],
   "source": [
    "for i in movie_top30.index:\n",
    "    tmp = movies[movies['movie_id']==i]['title'].values[0]\n",
    "    print(tmp,\" :\",  score_movie(tmp))"
   ]
  },
  {
   "cell_type": "markdown",
   "id": "d25a258c",
   "metadata": {},
   "source": [
    "# 7. 내가 좋아하는 영화와 비슷한 영화를 추천받기"
   ]
  },
  {
   "cell_type": "code",
   "execution_count": 25,
   "id": "380b82d5",
   "metadata": {},
   "outputs": [
    {
     "data": {
      "text/plain": [
       "[(356, 0.9999999),\n",
       " (1265, 0.5209715),\n",
       " (597, 0.4532042),\n",
       " (587, 0.4165719),\n",
       " (539, 0.41556898),\n",
       " (1784, 0.39189842),\n",
       " (1777, 0.3841398),\n",
       " (985, 0.36806342),\n",
       " (1408, 0.3591835),\n",
       " (2424, 0.35531276),\n",
       " (1569, 0.35283527),\n",
       " (39, 0.3402329),\n",
       " (1, 0.33937418),\n",
       " (2671, 0.3329482),\n",
       " (357, 0.3289029)]"
      ]
     },
     "execution_count": 25,
     "metadata": {},
     "output_type": "execute_result"
    }
   ],
   "source": [
    "# 포레스트 검프와 비슷한 영화 추천\n",
    "favorite_movie = 'Forrest Gump (1994)'\n",
    "movie_id = movie_name_to_id(favorite_movie)\n",
    "similar_movie = als_model.similar_items(movie_id, N=15)\n",
    "similar_movie"
   ]
  },
  {
   "cell_type": "code",
   "execution_count": 26,
   "id": "f12d0e93",
   "metadata": {},
   "outputs": [
    {
     "name": "stdout",
     "output_type": "stream",
     "text": [
      "Forrest Gump (1994)  : 0.9999999\n",
      "Groundhog Day (1993)  : 0.5209715\n",
      "Pretty Woman (1990)  : 0.4532042\n",
      "Ghost (1990)  : 0.4165719\n",
      "Sleepless in Seattle (1993)  : 0.41556898\n",
      "As Good As It Gets (1997)  : 0.39189842\n",
      "Wedding Singer, The (1998)  : 0.3841398\n",
      "Small Wonders (1996)  : 0.36806342\n",
      "Last of the Mohicans, The (1992)  : 0.3591835\n",
      "You've Got Mail (1998)  : 0.35531276\n",
      "My Best Friend's Wedding (1997)  : 0.35283527\n",
      "Clueless (1995)  : 0.3402329\n",
      "Toy Story (1995)  : 0.33937418\n",
      "Notting Hill (1999)  : 0.3329482\n",
      "Four Weddings and a Funeral (1994)  : 0.3289029\n"
     ]
    }
   ],
   "source": [
    "for i, k in similar_movie:\n",
    "    print(movies[movies['movie_id']==i]['title'].values[0],' :', k)"
   ]
  },
  {
   "cell_type": "code",
   "execution_count": 27,
   "id": "71ac2a99",
   "metadata": {},
   "outputs": [
    {
     "data": {
      "text/html": [
       "<div>\n",
       "<style scoped>\n",
       "    .dataframe tbody tr th:only-of-type {\n",
       "        vertical-align: middle;\n",
       "    }\n",
       "\n",
       "    .dataframe tbody tr th {\n",
       "        vertical-align: top;\n",
       "    }\n",
       "\n",
       "    .dataframe thead th {\n",
       "        text-align: right;\n",
       "    }\n",
       "</style>\n",
       "<table border=\"1\" class=\"dataframe\">\n",
       "  <thead>\n",
       "    <tr style=\"text-align: right;\">\n",
       "      <th></th>\n",
       "      <th>title</th>\n",
       "      <th>genre</th>\n",
       "    </tr>\n",
       "  </thead>\n",
       "  <tbody>\n",
       "    <tr>\n",
       "      <th>0</th>\n",
       "      <td>Toy Story (1995)</td>\n",
       "      <td>Animation|Children's|Comedy</td>\n",
       "    </tr>\n",
       "    <tr>\n",
       "      <th>38</th>\n",
       "      <td>Clueless (1995)</td>\n",
       "      <td>Comedy|Romance</td>\n",
       "    </tr>\n",
       "    <tr>\n",
       "      <th>352</th>\n",
       "      <td>Forrest Gump (1994)</td>\n",
       "      <td>Comedy|Romance|War</td>\n",
       "    </tr>\n",
       "    <tr>\n",
       "      <th>353</th>\n",
       "      <td>Four Weddings and a Funeral (1994)</td>\n",
       "      <td>Comedy|Romance</td>\n",
       "    </tr>\n",
       "    <tr>\n",
       "      <th>535</th>\n",
       "      <td>Sleepless in Seattle (1993)</td>\n",
       "      <td>Comedy|Romance</td>\n",
       "    </tr>\n",
       "    <tr>\n",
       "      <th>583</th>\n",
       "      <td>Ghost (1990)</td>\n",
       "      <td>Comedy|Romance|Thriller</td>\n",
       "    </tr>\n",
       "    <tr>\n",
       "      <th>593</th>\n",
       "      <td>Pretty Woman (1990)</td>\n",
       "      <td>Comedy|Romance</td>\n",
       "    </tr>\n",
       "    <tr>\n",
       "      <th>973</th>\n",
       "      <td>Small Wonders (1996)</td>\n",
       "      <td>Documentary</td>\n",
       "    </tr>\n",
       "    <tr>\n",
       "      <th>1245</th>\n",
       "      <td>Groundhog Day (1993)</td>\n",
       "      <td>Comedy|Romance</td>\n",
       "    </tr>\n",
       "    <tr>\n",
       "      <th>1385</th>\n",
       "      <td>Last of the Mohicans, The (1992)</td>\n",
       "      <td>Action|Romance|War</td>\n",
       "    </tr>\n",
       "    <tr>\n",
       "      <th>1529</th>\n",
       "      <td>My Best Friend's Wedding (1997)</td>\n",
       "      <td>Comedy|Romance</td>\n",
       "    </tr>\n",
       "    <tr>\n",
       "      <th>1720</th>\n",
       "      <td>Wedding Singer, The (1998)</td>\n",
       "      <td>Comedy|Romance</td>\n",
       "    </tr>\n",
       "    <tr>\n",
       "      <th>1726</th>\n",
       "      <td>As Good As It Gets (1997)</td>\n",
       "      <td>Comedy|Drama</td>\n",
       "    </tr>\n",
       "    <tr>\n",
       "      <th>2355</th>\n",
       "      <td>You've Got Mail (1998)</td>\n",
       "      <td>Comedy|Romance</td>\n",
       "    </tr>\n",
       "    <tr>\n",
       "      <th>2602</th>\n",
       "      <td>Notting Hill (1999)</td>\n",
       "      <td>Comedy|Romance</td>\n",
       "    </tr>\n",
       "  </tbody>\n",
       "</table>\n",
       "</div>"
      ],
      "text/plain": [
       "                                   title                        genre\n",
       "0                       Toy Story (1995)  Animation|Children's|Comedy\n",
       "38                       Clueless (1995)               Comedy|Romance\n",
       "352                  Forrest Gump (1994)           Comedy|Romance|War\n",
       "353   Four Weddings and a Funeral (1994)               Comedy|Romance\n",
       "535          Sleepless in Seattle (1993)               Comedy|Romance\n",
       "583                         Ghost (1990)      Comedy|Romance|Thriller\n",
       "593                  Pretty Woman (1990)               Comedy|Romance\n",
       "973                 Small Wonders (1996)                  Documentary\n",
       "1245                Groundhog Day (1993)               Comedy|Romance\n",
       "1385    Last of the Mohicans, The (1992)           Action|Romance|War\n",
       "1529     My Best Friend's Wedding (1997)               Comedy|Romance\n",
       "1720          Wedding Singer, The (1998)               Comedy|Romance\n",
       "1726           As Good As It Gets (1997)                 Comedy|Drama\n",
       "2355              You've Got Mail (1998)               Comedy|Romance\n",
       "2602                 Notting Hill (1999)               Comedy|Romance"
      ]
     },
     "execution_count": 27,
     "metadata": {},
     "output_type": "execute_result"
    }
   ],
   "source": [
    "movies[movies['movie_id'].isin([s[0] for s in similar_movie])][['title','genre']]"
   ]
  },
  {
   "cell_type": "markdown",
   "id": "9e5c5310",
   "metadata": {},
   "source": [
    "# 8. 내가 가장 좋아할 만한 영화들을 추천받아 보기"
   ]
  },
  {
   "cell_type": "code",
   "execution_count": 28,
   "id": "964fc576",
   "metadata": {},
   "outputs": [
    {
     "data": {
      "text/plain": [
       "[(589, 0.56619817),\n",
       " (110, 0.50626993),\n",
       " (457, 0.4504527),\n",
       " (1580, 0.438801),\n",
       " (527, 0.413649),\n",
       " (593, 0.37173173),\n",
       " (1210, 0.35335687),\n",
       " (2858, 0.33513936),\n",
       " (2628, 0.33079985),\n",
       " (1270, 0.3152388),\n",
       " (2916, 0.30750784),\n",
       " (318, 0.28123036),\n",
       " (1610, 0.27915716),\n",
       " (1265, 0.2778626),\n",
       " (1704, 0.24910298),\n",
       " (3147, 0.23827149),\n",
       " (377, 0.23324946),\n",
       " (780, 0.23085177),\n",
       " (3753, 0.22459593),\n",
       " (260, 0.20542446)]"
      ]
     },
     "execution_count": 28,
     "metadata": {},
     "output_type": "execute_result"
    }
   ],
   "source": [
    "# user 6041(Oh이 좋아할만한 영화를 추천\n",
    "user = 6041\n",
    "movie_recommended = als_model.recommend(user, csr_data, N=20, filter_already_liked_items=True)\n",
    "movie_recommended"
   ]
  },
  {
   "cell_type": "code",
   "execution_count": 29,
   "id": "436d86c6",
   "metadata": {},
   "outputs": [
    {
     "name": "stdout",
     "output_type": "stream",
     "text": [
      "Terminator 2: Judgment Day (1991)  : 0.56619817\n",
      "Braveheart (1995)  : 0.50626993\n",
      "Fugitive, The (1993)  : 0.4504527\n",
      "Men in Black (1997)  : 0.438801\n",
      "Schindler's List (1993)  : 0.413649\n",
      "Silence of the Lambs, The (1991)  : 0.37173173\n",
      "Star Wars: Episode VI - Return of the Jedi (1983)  : 0.35335687\n",
      "American Beauty (1999)  : 0.33513936\n",
      "Star Wars: Episode I - The Phantom Menace (1999)  : 0.33079985\n",
      "Back to the Future (1985)  : 0.3152388\n",
      "Total Recall (1990)  : 0.30750784\n",
      "Shawshank Redemption, The (1994)  : 0.28123036\n",
      "Hunt for Red October, The (1990)  : 0.27915716\n",
      "Groundhog Day (1993)  : 0.2778626\n",
      "Good Will Hunting (1997)  : 0.24910298\n",
      "Green Mile, The (1999)  : 0.23827149\n",
      "Speed (1994)  : 0.23324946\n",
      "Independence Day (ID4) (1996)  : 0.23085177\n",
      "Patriot, The (2000)  : 0.22459593\n",
      "Star Wars: Episode IV - A New Hope (1977)  : 0.20542446\n"
     ]
    }
   ],
   "source": [
    "# 좋아할만한 영화와 수치 장르 확인\n",
    "for i, k in movie_recommended:\n",
    "    print(movies[movies['movie_id']==i]['title'].values[0],' :',k)"
   ]
  },
  {
   "cell_type": "code",
   "execution_count": 30,
   "id": "38c264d1",
   "metadata": {},
   "outputs": [
    {
     "data": {
      "text/html": [
       "<div>\n",
       "<style scoped>\n",
       "    .dataframe tbody tr th:only-of-type {\n",
       "        vertical-align: middle;\n",
       "    }\n",
       "\n",
       "    .dataframe tbody tr th {\n",
       "        vertical-align: top;\n",
       "    }\n",
       "\n",
       "    .dataframe thead th {\n",
       "        text-align: right;\n",
       "    }\n",
       "</style>\n",
       "<table border=\"1\" class=\"dataframe\">\n",
       "  <thead>\n",
       "    <tr style=\"text-align: right;\">\n",
       "      <th></th>\n",
       "      <th>title</th>\n",
       "      <th>genre</th>\n",
       "    </tr>\n",
       "  </thead>\n",
       "  <tbody>\n",
       "    <tr>\n",
       "      <th>108</th>\n",
       "      <td>Braveheart (1995)</td>\n",
       "      <td>Action|Drama|War</td>\n",
       "    </tr>\n",
       "    <tr>\n",
       "      <th>257</th>\n",
       "      <td>Star Wars: Episode IV - A New Hope (1977)</td>\n",
       "      <td>Action|Adventure|Fantasy|Sci-Fi</td>\n",
       "    </tr>\n",
       "    <tr>\n",
       "      <th>315</th>\n",
       "      <td>Shawshank Redemption, The (1994)</td>\n",
       "      <td>Drama</td>\n",
       "    </tr>\n",
       "    <tr>\n",
       "      <th>373</th>\n",
       "      <td>Speed (1994)</td>\n",
       "      <td>Action|Romance|Thriller</td>\n",
       "    </tr>\n",
       "    <tr>\n",
       "      <th>453</th>\n",
       "      <td>Fugitive, The (1993)</td>\n",
       "      <td>Action|Thriller</td>\n",
       "    </tr>\n",
       "    <tr>\n",
       "      <th>523</th>\n",
       "      <td>Schindler's List (1993)</td>\n",
       "      <td>Drama|War</td>\n",
       "    </tr>\n",
       "    <tr>\n",
       "      <th>585</th>\n",
       "      <td>Terminator 2: Judgment Day (1991)</td>\n",
       "      <td>Action|Sci-Fi|Thriller</td>\n",
       "    </tr>\n",
       "    <tr>\n",
       "      <th>589</th>\n",
       "      <td>Silence of the Lambs, The (1991)</td>\n",
       "      <td>Drama|Thriller</td>\n",
       "    </tr>\n",
       "    <tr>\n",
       "      <th>770</th>\n",
       "      <td>Independence Day (ID4) (1996)</td>\n",
       "      <td>Action|Sci-Fi|War</td>\n",
       "    </tr>\n",
       "    <tr>\n",
       "      <th>1192</th>\n",
       "      <td>Star Wars: Episode VI - Return of the Jedi (1983)</td>\n",
       "      <td>Action|Adventure|Romance|Sci-Fi|War</td>\n",
       "    </tr>\n",
       "    <tr>\n",
       "      <th>1245</th>\n",
       "      <td>Groundhog Day (1993)</td>\n",
       "      <td>Comedy|Romance</td>\n",
       "    </tr>\n",
       "    <tr>\n",
       "      <th>1250</th>\n",
       "      <td>Back to the Future (1985)</td>\n",
       "      <td>Comedy|Sci-Fi</td>\n",
       "    </tr>\n",
       "    <tr>\n",
       "      <th>1539</th>\n",
       "      <td>Men in Black (1997)</td>\n",
       "      <td>Action|Adventure|Comedy|Sci-Fi</td>\n",
       "    </tr>\n",
       "    <tr>\n",
       "      <th>1568</th>\n",
       "      <td>Hunt for Red October, The (1990)</td>\n",
       "      <td>Action|Thriller</td>\n",
       "    </tr>\n",
       "    <tr>\n",
       "      <th>1656</th>\n",
       "      <td>Good Will Hunting (1997)</td>\n",
       "      <td>Drama</td>\n",
       "    </tr>\n",
       "    <tr>\n",
       "      <th>2559</th>\n",
       "      <td>Star Wars: Episode I - The Phantom Menace (1999)</td>\n",
       "      <td>Action|Adventure|Fantasy|Sci-Fi</td>\n",
       "    </tr>\n",
       "    <tr>\n",
       "      <th>2789</th>\n",
       "      <td>American Beauty (1999)</td>\n",
       "      <td>Comedy|Drama</td>\n",
       "    </tr>\n",
       "    <tr>\n",
       "      <th>2847</th>\n",
       "      <td>Total Recall (1990)</td>\n",
       "      <td>Action|Adventure|Sci-Fi|Thriller</td>\n",
       "    </tr>\n",
       "    <tr>\n",
       "      <th>3078</th>\n",
       "      <td>Green Mile, The (1999)</td>\n",
       "      <td>Drama|Thriller</td>\n",
       "    </tr>\n",
       "    <tr>\n",
       "      <th>3684</th>\n",
       "      <td>Patriot, The (2000)</td>\n",
       "      <td>Action|Drama|War</td>\n",
       "    </tr>\n",
       "  </tbody>\n",
       "</table>\n",
       "</div>"
      ],
      "text/plain": [
       "                                                  title  \\\n",
       "108                                   Braveheart (1995)   \n",
       "257           Star Wars: Episode IV - A New Hope (1977)   \n",
       "315                    Shawshank Redemption, The (1994)   \n",
       "373                                        Speed (1994)   \n",
       "453                                Fugitive, The (1993)   \n",
       "523                             Schindler's List (1993)   \n",
       "585                   Terminator 2: Judgment Day (1991)   \n",
       "589                    Silence of the Lambs, The (1991)   \n",
       "770                       Independence Day (ID4) (1996)   \n",
       "1192  Star Wars: Episode VI - Return of the Jedi (1983)   \n",
       "1245                               Groundhog Day (1993)   \n",
       "1250                          Back to the Future (1985)   \n",
       "1539                                Men in Black (1997)   \n",
       "1568                   Hunt for Red October, The (1990)   \n",
       "1656                           Good Will Hunting (1997)   \n",
       "2559   Star Wars: Episode I - The Phantom Menace (1999)   \n",
       "2789                             American Beauty (1999)   \n",
       "2847                                Total Recall (1990)   \n",
       "3078                             Green Mile, The (1999)   \n",
       "3684                                Patriot, The (2000)   \n",
       "\n",
       "                                    genre  \n",
       "108                      Action|Drama|War  \n",
       "257       Action|Adventure|Fantasy|Sci-Fi  \n",
       "315                                 Drama  \n",
       "373               Action|Romance|Thriller  \n",
       "453                       Action|Thriller  \n",
       "523                             Drama|War  \n",
       "585                Action|Sci-Fi|Thriller  \n",
       "589                        Drama|Thriller  \n",
       "770                     Action|Sci-Fi|War  \n",
       "1192  Action|Adventure|Romance|Sci-Fi|War  \n",
       "1245                       Comedy|Romance  \n",
       "1250                        Comedy|Sci-Fi  \n",
       "1539       Action|Adventure|Comedy|Sci-Fi  \n",
       "1568                      Action|Thriller  \n",
       "1656                                Drama  \n",
       "2559      Action|Adventure|Fantasy|Sci-Fi  \n",
       "2789                         Comedy|Drama  \n",
       "2847     Action|Adventure|Sci-Fi|Thriller  \n",
       "3078                       Drama|Thriller  \n",
       "3684                     Action|Drama|War  "
      ]
     },
     "execution_count": 30,
     "metadata": {},
     "output_type": "execute_result"
    }
   ],
   "source": [
    "movies[movies['movie_id'].isin([m[0] for m in movie_recommended])][['title','genre']]"
   ]
  },
  {
   "cell_type": "markdown",
   "id": "07ba7dee",
   "metadata": {},
   "source": [
    "# 9. 회고"
   ]
  },
  {
   "cell_type": "markdown",
   "id": "52e00cff",
   "metadata": {},
   "source": [
    "명시적 판단 지표로 누적 카운트 수가 가장 높은 30개의 영화를 추렸다.<br>\n",
    "데이터셋 중 좋아하는 영화 5가지를 선택해 ratings에 포함시켰다.<br>\n",
    "ET 영화를 기준으로 나의 선호도를 분석한 결과 포레스트 검프, 쥐라기 공원, 매트릭스 등이 높게 나왔는데 정확히 무슨 기준으로 도출된건지는 모르겠다.. <br>\n",
    "하지만 휴매니즘이 느껴진다는 나름의 추상적 기준을 세우고 영화 5가지를 골랐는데 그에 따라 추천받은 영화들(내 선호도가 높을 것이라 예측된 영화들)의 경우, 단순한 액션영화 보단 휴매니즘이 느껴지는 영화들인 것 같아 결과에 만족한다. (브레이브하트, 쇼생크 탈출, 쉰들러리스트 등등) <br>\n",
    "만약 데이터 풀이 더 크면 더 reliable한 예측결과가 나올 것 같다."
   ]
  }
 ],
 "metadata": {
  "kernelspec": {
   "display_name": "Python 3 (ipykernel)",
   "language": "python",
   "name": "python3"
  },
  "language_info": {
   "codemirror_mode": {
    "name": "ipython",
    "version": 3
   },
   "file_extension": ".py",
   "mimetype": "text/x-python",
   "name": "python",
   "nbconvert_exporter": "python",
   "pygments_lexer": "ipython3",
   "version": "3.9.7"
  }
 },
 "nbformat": 4,
 "nbformat_minor": 5
}
